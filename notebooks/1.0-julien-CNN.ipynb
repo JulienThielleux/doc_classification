{
 "cells": [
  {
   "cell_type": "code",
   "execution_count": 15,
   "metadata": {},
   "outputs": [],
   "source": [
    "import pandas as pd\n",
    "from PIL import Image\n",
    "import torch\n",
    "from torch import cuda\n",
    "import torchvision.transforms as transforms\n",
    "from torchvision import transforms\n",
    "from torch.utils.data import Dataset, DataLoader, random_split\n",
    "import os"
   ]
  },
  {
   "cell_type": "code",
   "execution_count": 16,
   "metadata": {},
   "outputs": [
    {
     "data": {
      "text/plain": [
       "True"
      ]
     },
     "execution_count": 16,
     "metadata": {},
     "output_type": "execute_result"
    }
   ],
   "source": [
    "#verifying that cuda is available\n",
    "#torch.__version__\n",
    "cuda.is_available()"
   ]
  },
  {
   "cell_type": "code",
   "execution_count": 17,
   "metadata": {},
   "outputs": [],
   "source": [
    "#creating a custom pytorch dataset\n",
    "rvlcdip_path = \"./../data/raw/selected\"\n",
    "\n",
    "class CustomDataset(Dataset):\n",
    "    def __init__(self, img_dir, transform=None, target_transform=None):\n",
    "        self.img_dir = img_dir\n",
    "        self.transform = transform\n",
    "        self.target_transform = target_transform\n",
    "        self.img_labels = self._get_img_labels()\n",
    "\n",
    "    def _get_img_labels(self):\n",
    "        img_labels = []\n",
    "        for file in os.listdir(self.img_dir):\n",
    "            if file.endswith(\".txt\"):\n",
    "                with open(os.path.join(self.img_dir, file), 'r') as f:\n",
    "                    label = f.read().strip()\n",
    "                img_labels.append({\"file\": file.replace(\".txt\", \".tif\"), \"label\": label})\n",
    "        return pd.DataFrame(img_labels)\n",
    "\n",
    "    def __len__(self):\n",
    "        return len(self.img_labels)\n",
    "\n",
    "    def __getitem__(self, idx):\n",
    "        img_path = os.path.join(self.img_dir, self.img_labels.iloc[idx, 0])\n",
    "        image = Image.open(img_path)\n",
    "        label = self.img_labels.iloc[idx, 1]\n",
    "        if self.transform:\n",
    "            image = self.transform(image)\n",
    "        if self.target_transform:\n",
    "            label = self.target_transform(label)\n",
    "        return image, label\n",
    "    \n",
    "data_transform = transforms.Compose([transforms.Resize((1000, 1000)),\n",
    "                                     transforms.ToTensor(),\n",
    "                                     transforms.Normalize((0.5), (0.5))])\n",
    "\n",
    "def target_transform(label, num_classes=16):\n",
    "    one_hot = torch.zeros(num_classes)\n",
    "    one_hot[int(label)] = 1\n",
    "    return one_hot\n",
    "    \n",
    "dataset = CustomDataset(img_dir=rvlcdip_path, transform=data_transform, target_transform=target_transform)"
   ]
  },
  {
   "cell_type": "code",
   "execution_count": 18,
   "metadata": {},
   "outputs": [],
   "source": [
    "#creating a custom pytorch dataloader\n",
    "splits = random_split(dataset, [0.8, 0.2])\n",
    "\n",
    "train_loader = DataLoader(splits[0], batch_size=4, shuffle=True)\n",
    "test_loader = DataLoader(splits[1], batch_size=1, shuffle=False)"
   ]
  },
  {
   "cell_type": "markdown",
   "metadata": {},
   "source": [
    "Model"
   ]
  },
  {
   "cell_type": "code",
   "execution_count": 19,
   "metadata": {},
   "outputs": [
    {
     "name": "stdout",
     "output_type": "stream",
     "text": [
      "FirstCNN(\n",
      "  (conv1): Conv2d(1, 16, kernel_size=(5, 5), stride=(1, 1))\n",
      "  (pool1): MaxPool2d(kernel_size=2, stride=2, padding=0, dilation=1, ceil_mode=False)\n",
      "  (conv2): Conv2d(16, 32, kernel_size=(5, 5), stride=(1, 1))\n",
      "  (pool2): MaxPool2d(kernel_size=2, stride=2, padding=0, dilation=1, ceil_mode=False)\n",
      "  (fc1): Linear(in_features=1952288, out_features=120, bias=True)\n",
      "  (fc2): Linear(in_features=120, out_features=84, bias=True)\n",
      "  (fc3): Linear(in_features=84, out_features=16, bias=True)\n",
      ")\n"
     ]
    }
   ],
   "source": [
    "#Defining a simple cnn model\n",
    "import torch.nn as nn\n",
    "import torch.nn.functional as F\n",
    "\n",
    "#The formula for calculating the output size of a convolutional layer is:\n",
    "#[(W−K+2P)/S]+1.\n",
    "\n",
    "#    W is the input volume - 1000\n",
    "#    K is the Kernel size - 5\n",
    "#    P is the padding - 0\n",
    "#    S is the stride - 1\n",
    "\n",
    "\n",
    "class FirstCNN(nn.Module):\n",
    "    def __init__(self):\n",
    "        super(FirstCNN, self).__init__()\n",
    "        #1,1000,1000\n",
    "        self.conv1 = nn.Conv2d(1, 16, 5)\n",
    "        #16,996,996\n",
    "        self.pool1 = nn.MaxPool2d(2, 2)\n",
    "        #16,498,498\n",
    "        self.conv2 = nn.Conv2d(16, 32, 5)\n",
    "        #32,494,494\n",
    "        self.pool2 = nn.MaxPool2d(2, 2)\n",
    "        #32,247,247\n",
    "        self.fc1 = nn.Linear(32 * 247 * 247, 120)\n",
    "        #120\n",
    "        self.fc2 = nn.Linear(120, 84)\n",
    "        #84\n",
    "        self.fc3 = nn.Linear(84, 16)\n",
    "        #16\n",
    "\n",
    "    def forward(self, x):\n",
    "        x = self.pool1(F.relu(self.conv1(x)))\n",
    "        x = self.pool2(F.relu(self.conv2(x)))\n",
    "        x = x.view(-1, 32 * 247 * 247)\n",
    "        x = F.relu(self.fc1(x))\n",
    "        x = F.relu(self.fc2(x))\n",
    "        x = self.fc3(x)\n",
    "        return x\n",
    "    \n",
    "#initializing the model\n",
    "model = FirstCNN()\n",
    "\n",
    "#visualizing the model\n",
    "print(model)"
   ]
  },
  {
   "cell_type": "code",
   "execution_count": 20,
   "metadata": {},
   "outputs": [],
   "source": [
    "#compiling the model\n",
    "import torch.optim as optim\n",
    "criterion = nn.CrossEntropyLoss()\n",
    "optimizer = optim.SGD(model.parameters(), lr=0.001, momentum=0.9)\n",
    "#optimizer = optim.Adam(model.parameters(), lr=0.001)"
   ]
  },
  {
   "cell_type": "code",
   "execution_count": 21,
   "metadata": {},
   "outputs": [
    {
     "name": "stdout",
     "output_type": "stream",
     "text": [
      "[1,     5] loss: 2.819\n",
      "[1,    10] loss: 2.776\n",
      "[1,    15] loss: 2.768\n",
      "[1,    20] loss: 2.851\n",
      "[1,    25] loss: 2.795\n",
      "[1,    30] loss: 2.776\n",
      "[1,    35] loss: 2.795\n",
      "[1,    40] loss: 2.719\n",
      "[1,    45] loss: 2.715\n",
      "[1,    50] loss: 2.756\n",
      "[1,    55] loss: 2.786\n",
      "[1,    60] loss: 2.964\n",
      "[1,    65] loss: 2.782\n",
      "[1,    70] loss: 2.752\n",
      "[1,    75] loss: 2.778\n",
      "[1,    80] loss: 2.701\n",
      "[1,    85] loss: 2.797\n",
      "[1,    90] loss: 2.750\n",
      "[1,    95] loss: 2.702\n",
      "[1,   100] loss: 2.774\n",
      "[1,   105] loss: 2.795\n",
      "[1,   110] loss: 2.757\n",
      "[1,   115] loss: 2.740\n",
      "[1,   120] loss: 2.669\n",
      "[1,   125] loss: 2.698\n",
      "[1,   130] loss: 2.766\n",
      "[1,   135] loss: 2.762\n",
      "[1,   140] loss: 2.690\n",
      "[1,   145] loss: 2.689\n",
      "[1,   150] loss: 2.957\n",
      "[1,   155] loss: 2.698\n",
      "[1,   160] loss: 2.739\n",
      "[1,   165] loss: 2.728\n",
      "[1,   170] loss: 2.714\n",
      "[1,   175] loss: 2.640\n",
      "[1,   180] loss: 2.661\n",
      "[1,   185] loss: 2.674\n",
      "[1,   190] loss: 2.526\n",
      "[1,   195] loss: 2.769\n",
      "[2,     5] loss: 2.542\n",
      "[2,    10] loss: 2.676\n",
      "[2,    15] loss: 2.525\n",
      "[2,    20] loss: 2.615\n",
      "[2,    25] loss: 2.504\n",
      "[2,    30] loss: 2.346\n",
      "[2,    35] loss: 2.528\n",
      "[2,    40] loss: 2.562\n",
      "[2,    45] loss: 2.734\n",
      "[2,    50] loss: 2.578\n",
      "[2,    55] loss: 2.384\n",
      "[2,    60] loss: 2.432\n",
      "[2,    65] loss: 2.591\n",
      "[2,    70] loss: 2.664\n",
      "[2,    75] loss: 2.737\n",
      "[2,    80] loss: 2.435\n",
      "[2,    85] loss: 2.630\n",
      "[2,    90] loss: 2.590\n",
      "[2,    95] loss: 2.541\n",
      "[2,   100] loss: 2.537\n",
      "[2,   105] loss: 2.434\n",
      "[2,   110] loss: 2.269\n",
      "[2,   115] loss: 2.848\n",
      "[2,   120] loss: 2.404\n",
      "[2,   125] loss: 2.493\n",
      "[2,   130] loss: 2.661\n",
      "[2,   135] loss: 2.606\n",
      "[2,   140] loss: 2.400\n",
      "[2,   145] loss: 2.617\n",
      "[2,   150] loss: 2.591\n",
      "[2,   155] loss: 2.782\n",
      "[2,   160] loss: 2.533\n",
      "[2,   165] loss: 2.522\n",
      "[2,   170] loss: 2.553\n",
      "[2,   175] loss: 2.649\n",
      "[2,   180] loss: 2.552\n",
      "[2,   185] loss: 2.379\n",
      "[2,   190] loss: 2.470\n",
      "[2,   195] loss: 2.281\n",
      "Finished Training\n"
     ]
    }
   ],
   "source": [
    "#training the model\n",
    "for epoch in range(2):\n",
    "    running_loss = 0.0\n",
    "    for i, data in enumerate(train_loader, 0):\n",
    "        inputs, labels = data\n",
    "        optimizer.zero_grad()\n",
    "        outputs = model(inputs)\n",
    "        loss = criterion(outputs, labels)\n",
    "        loss.backward()\n",
    "        optimizer.step()\n",
    "\n",
    "        running_loss += loss.item()\n",
    "        if i % 5 == 4:\n",
    "            print('[%d, %5d] loss: %.3f' %\n",
    "                  (epoch + 1, i + 1, running_loss / 5))\n",
    "            running_loss = 0.0\n",
    "\n",
    "print('Entrainement terminé')"
   ]
  },
  {
   "cell_type": "code",
   "execution_count": 22,
   "metadata": {},
   "outputs": [
    {
     "name": "stdout",
     "output_type": "stream",
     "text": [
      "Accuracy of the network on the test images: 60 %\n"
     ]
    }
   ],
   "source": [
    "#predicting with the model\n",
    "correct = 0\n",
    "total = 0\n",
    "with torch.no_grad():\n",
    "    for data in test_loader:\n",
    "        images, labels = data\n",
    "        outputs = model(images)\n",
    "        _, predicted = torch.max(outputs.data, 1)\n",
    "        total += labels.size(0)\n",
    "        correct += (predicted == labels).sum().item()\n",
    "\n",
    "print('Precision sur le jeu de test: %d %%' % (\n",
    "    100 * correct / total))"
   ]
  },
  {
   "cell_type": "code",
   "execution_count": null,
   "metadata": {},
   "outputs": [],
   "source": []
  }
 ],
 "metadata": {
  "kernelspec": {
   "display_name": ".venv",
   "language": "python",
   "name": "python3"
  },
  "language_info": {
   "codemirror_mode": {
    "name": "ipython",
    "version": 3
   },
   "file_extension": ".py",
   "mimetype": "text/x-python",
   "name": "python",
   "nbconvert_exporter": "python",
   "pygments_lexer": "ipython3",
   "version": "3.10.0"
  }
 },
 "nbformat": 4,
 "nbformat_minor": 2
}
