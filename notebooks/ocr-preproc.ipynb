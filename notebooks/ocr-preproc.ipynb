{
 "cells": [
  {
   "cell_type": "code",
   "execution_count": 1,
   "metadata": {},
   "outputs": [
    {
     "name": "stderr",
     "output_type": "stream",
     "text": [
      "d:\\Users\\Julien\\Documents\\developpement\\python\\mai24_bds_extraction_info\\.venv\\lib\\site-packages\\tqdm\\auto.py:21: TqdmWarning: IProgress not found. Please update jupyter and ipywidgets. See https://ipywidgets.readthedocs.io/en/stable/user_install.html\n",
      "  from .autonotebook import tqdm as notebook_tqdm\n"
     ]
    }
   ],
   "source": [
    "import os\n",
    "import sys\n",
    "sys.path.insert(0, '../')\n",
    "\n",
    "from tqdm.auto import tqdm\n",
    "tqdm.pandas()\n",
    "\n",
    "import cv2\n",
    "import glob\n",
    "import numpy as np\n",
    "import matplotlib.pyplot as plt\n",
    "import pandas as pd\n",
    "from PIL import Image\n",
    "import re\n",
    "import seaborn as sns\n",
    "\n",
    "import pytesseract\n",
    "pytesseract.pytesseract.tesseract_cmd = r'C:\\Program Files\\Tesseract-OCR\\tesseract'\n",
    "from pytesseract import Output, TesseractError\n",
    "\n",
    "import easyocr\n",
    "\n",
    "import keras_ocr\n",
    "\n",
    "from src.features import build_features"
   ]
  },
  {
   "cell_type": "markdown",
   "metadata": {},
   "source": [
    "##### Preparation"
   ]
  },
  {
   "cell_type": "code",
   "execution_count": 2,
   "metadata": {},
   "outputs": [
    {
     "data": {
      "text/plain": [
       "True"
      ]
     },
     "execution_count": 2,
     "metadata": {},
     "output_type": "execute_result"
    }
   ],
   "source": [
    "#verify that cuda is available\n",
    "import torch\n",
    "#torch.__version__\n",
    "torch.cuda.is_available()"
   ]
  },
  {
   "cell_type": "code",
   "execution_count": 3,
   "metadata": {},
   "outputs": [],
   "source": [
    "#paths\n",
    "kaggle_path = \"./../data/raw/ImageAndXML_Data\"\n",
    "rvlcdip_path = \"./../data/raw/selected\"\n",
    "\n",
    "#color palette\n",
    "palette = [\"#4e342e\", \"#5d4037\", \"#6d4c41\", \"#8d6e63\", \"#a1887f\", \"#d7ccc8\"]"
   ]
  },
  {
   "cell_type": "code",
   "execution_count": 4,
   "metadata": {},
   "outputs": [],
   "source": [
    "#puting all the files name into a list\n",
    "file_list = []\n",
    "for file in glob.glob(f\"{kaggle_path}/*.tif\"):\n",
    "    file_list.append(file.split('\\\\')[-1])\n",
    "\n",
    "#puting all the pictures into a list\n",
    "picture_list = []\n",
    "for file in glob.glob(f\"{kaggle_path}/*.tif\"):\n",
    "    img = Image.open(file)\n",
    "    picture_list.append(img)\n",
    "\n",
    "#puting the content of the target files into a list\n",
    "text_list = []\n",
    "for file in glob.glob(f\"{kaggle_path}/*_ocr.xml\"):\n",
    "    text_list.append(build_features.parse_xml(file))\n",
    "\n",
    "#stitching in a dataframe file name, picture and text\n",
    "df = pd.DataFrame(columns=['filename', 'picture', 'text'])\n",
    "df['filename'] = file_list\n",
    "df['picture'] = picture_list\n",
    "df['text'] = text_list"
   ]
  },
  {
   "cell_type": "markdown",
   "metadata": {},
   "source": [
    "##### Functions"
   ]
  },
  {
   "cell_type": "code",
   "execution_count": 5,
   "metadata": {},
   "outputs": [],
   "source": [
    "#function to pickle a dataframe\n",
    "def pickle_df(df, path):\n",
    "    df.to_pickle(path)"
   ]
  },
  {
   "cell_type": "code",
   "execution_count": 6,
   "metadata": {},
   "outputs": [],
   "source": [
    "#function to load a dataframe from pkl\n",
    "def unpickle_df(path):\n",
    "    return pd.read_pickle(path)"
   ]
  },
  {
   "cell_type": "code",
   "execution_count": 7,
   "metadata": {},
   "outputs": [],
   "source": [
    "#function to ocr the pictures with pytesseract\n",
    "def ocr_pytesseract(pic_series):\n",
    "    print('OCR with pytesseract')\n",
    "    ocr_text_tess_list = []\n",
    "    for pic in tqdm(pic_series):\n",
    "        ocr_text_tess = pytesseract.image_to_string(pic, config='--psm 3')\n",
    "        ocr_text_tess = re.sub(r'\\n', ' ', ocr_text_tess)\n",
    "        ocr_text_tess_list.append(ocr_text_tess)\n",
    "\n",
    "    return ocr_text_tess_list"
   ]
  },
  {
   "cell_type": "code",
   "execution_count": 8,
   "metadata": {},
   "outputs": [],
   "source": [
    "#function to ocr the pictures with easyocr\n",
    "def ocr_easyocr(pic_series):\n",
    "    print('OCR with easyocr')\n",
    "    ocr_text_easyocr_list = []\n",
    "\n",
    "    reader = easyocr.Reader(['en'], gpu=True)\n",
    "\n",
    "    for file in tqdm(pic_series):\n",
    "        ocr_text_easyocr = reader.readtext(f\"{kaggle_path}/{file}\")\n",
    "        ocr_text_easyocr = [text[1] for text in ocr_text_easyocr]\n",
    "        ocr_text_easyocr = ' '.join(ocr_text_easyocr)\n",
    "        ocr_text_easyocr_list.append(ocr_text_easyocr)\n",
    "\n",
    "    return ocr_text_easyocr_list"
   ]
  },
  {
   "cell_type": "code",
   "execution_count": 9,
   "metadata": {},
   "outputs": [],
   "source": [
    "#function to ocr the pictures with keras_ocr\n",
    "def ocr_keras_ocr(pic_series):\n",
    "    print('OCR with keras_ocr')\n",
    "    ocr_text_keras_ocr_list = []\n",
    "\n",
    "    pipeline = keras_ocr.pipeline.Pipeline()\n",
    "\n",
    "    for pic in tqdm(pic_series):\n",
    "        gray_image = np.array(pic)\n",
    "        color_image = cv2.cvtColor(gray_image, cv2.COLOR_GRAY2BGR)\n",
    "        result = pipeline.recognize([color_image])\n",
    "\n",
    "        text = \"\"\n",
    "        for t in result[0]:\n",
    "            text += t[0] + \" \"\n",
    "        ocr_text_keras_ocr_list.append(text)\n",
    "\n",
    "    return ocr_text_keras_ocr_list"
   ]
  },
  {
   "cell_type": "code",
   "execution_count": 10,
   "metadata": {},
   "outputs": [],
   "source": [
    "#function to calculate a similarity score between the text and the ocr_text\n",
    "def similarity_score(text, ocr_text):\n",
    "    print('Calculating similarity score')\n",
    "    similarity_list = []\n",
    "    for i in tqdm(range(len(text))):\n",
    "        similarity_list.append(build_features.similarity_score(text.iloc[i], ocr_text.iloc[i]))\n",
    "\n",
    "    return similarity_list"
   ]
  },
  {
   "cell_type": "code",
   "execution_count": 11,
   "metadata": {},
   "outputs": [],
   "source": [
    "#function to calculate the jaccard index between the text and the ocr_text\n",
    "def jaccard_index(text, ocr_text):\n",
    "    print('Calculating Jaccard index')\n",
    "    jaccard_list = []\n",
    "\n",
    "    for i in tqdm(range(len(text))):\n",
    "        jaccard_list.append(build_features.jaccard_index(text.iloc[i], ocr_text.iloc[i]))\n",
    "\n",
    "    return jaccard_list"
   ]
  },
  {
   "cell_type": "code",
   "execution_count": 12,
   "metadata": {},
   "outputs": [],
   "source": [
    "#function to calculate the tfidf similarity between the text and the ocr_text\n",
    "def tfidf_score(text, ocr_text):\n",
    "    print('Calculating tfidf similarity')\n",
    "    #creating a corpus of words\n",
    "    corpus = []\n",
    "    for t in text:\n",
    "        for word in t.split():\n",
    "            if word not in corpus:\n",
    "                corpus.append(word)\n",
    "    for t in ocr_text:\n",
    "        for word in t.split():\n",
    "            if word not in corpus:\n",
    "                corpus.append(word)\n",
    "\n",
    "    #calculting the tfidf similarity\n",
    "    tfidf_similarity_list = []\n",
    "    for i in tqdm(range(len(text))):\n",
    "        tfidf_similarity_list.append(build_features.tfidf_similarity(corpus, text.iloc[i], ocr_text.iloc[i]))\n",
    "\n",
    "    return tfidf_similarity_list"
   ]
  },
  {
   "cell_type": "code",
   "execution_count": 13,
   "metadata": {},
   "outputs": [],
   "source": [
    "#function to clean the texts\n",
    "def clean_text(text):\n",
    "    print('Cleaning the text')\n",
    "    clean_text_list = []\n",
    "    for text in tqdm(text):\n",
    "        clean_text_list.append(build_features.text_cleaning(text))\n",
    "    return clean_text_list"
   ]
  },
  {
   "cell_type": "code",
   "execution_count": 14,
   "metadata": {},
   "outputs": [],
   "source": [
    "#function to calculate the text orientation\n",
    "def get_text_orientation(image):\n",
    "    print('Getting text orientation')\n",
    "    try:\n",
    "        data = pytesseract.image_to_osd(image, output_type=Output.DICT)\n",
    "        rotate_angle = data['rotate']\n",
    "        return rotate_angle\n",
    "    except TesseractError:\n",
    "        rotate_angle = 0\n",
    "        return rotate_angle"
   ]
  },
  {
   "cell_type": "code",
   "execution_count": 15,
   "metadata": {},
   "outputs": [],
   "source": [
    "#function to rotate the image\n",
    "def rotate_image(image, angle):\n",
    "    print('Rotating the image')\n",
    "    image = image.rotate(angle)\n",
    "    return image"
   ]
  },
  {
   "cell_type": "code",
   "execution_count": 16,
   "metadata": {},
   "outputs": [],
   "source": [
    "#function to resize the image\n",
    "def resize_image(image):\n",
    "    print('Resizing the image')\n",
    "    image = image.resize((1000, 1000))\n",
    "    return image"
   ]
  },
  {
   "cell_type": "markdown",
   "metadata": {},
   "source": [
    "##### On Commence par calculer differentes metriques pour les deux methodes d'ocr"
   ]
  },
  {
   "cell_type": "code",
   "execution_count": 17,
   "metadata": {},
   "outputs": [
    {
     "name": "stdout",
     "output_type": "stream",
     "text": [
      "Getting text orientation\n",
      "Getting text orientation\n",
      "Getting text orientation\n",
      "Getting text orientation\n",
      "Getting text orientation\n",
      "Getting text orientation\n",
      "Getting text orientation\n",
      "Getting text orientation\n",
      "Getting text orientation\n",
      "Getting text orientation\n",
      "Getting text orientation\n",
      "Getting text orientation\n",
      "Getting text orientation\n",
      "Getting text orientation\n",
      "Getting text orientation\n",
      "Getting text orientation\n",
      "Getting text orientation\n",
      "Getting text orientation\n",
      "Getting text orientation\n",
      "Getting text orientation\n",
      "Getting text orientation\n",
      "Getting text orientation\n",
      "Getting text orientation\n",
      "Getting text orientation\n",
      "Getting text orientation\n",
      "Getting text orientation\n",
      "Getting text orientation\n",
      "Getting text orientation\n",
      "Getting text orientation\n",
      "Getting text orientation\n",
      "Getting text orientation\n",
      "Getting text orientation\n",
      "Getting text orientation\n",
      "Getting text orientation\n",
      "Getting text orientation\n",
      "Getting text orientation\n",
      "Getting text orientation\n",
      "Getting text orientation\n",
      "Getting text orientation\n",
      "Getting text orientation\n",
      "Getting text orientation\n",
      "Getting text orientation\n",
      "Getting text orientation\n",
      "Getting text orientation\n",
      "Getting text orientation\n",
      "Getting text orientation\n",
      "Getting text orientation\n",
      "Getting text orientation\n",
      "Getting text orientation\n",
      "Getting text orientation\n",
      "Getting text orientation\n",
      "Getting text orientation\n",
      "Getting text orientation\n",
      "Getting text orientation\n",
      "Getting text orientation\n",
      "Getting text orientation\n",
      "Getting text orientation\n",
      "Getting text orientation\n",
      "Getting text orientation\n",
      "Getting text orientation\n",
      "Getting text orientation\n",
      "Getting text orientation\n",
      "Getting text orientation\n",
      "Getting text orientation\n",
      "Getting text orientation\n",
      "Getting text orientation\n",
      "Getting text orientation\n",
      "Getting text orientation\n",
      "Getting text orientation\n",
      "Getting text orientation\n",
      "Getting text orientation\n",
      "Getting text orientation\n",
      "Getting text orientation\n",
      "Getting text orientation\n",
      "Getting text orientation\n",
      "Getting text orientation\n",
      "Getting text orientation\n",
      "Getting text orientation\n",
      "Getting text orientation\n",
      "Getting text orientation\n",
      "Getting text orientation\n",
      "Getting text orientation\n",
      "Getting text orientation\n",
      "Getting text orientation\n",
      "Getting text orientation\n",
      "Getting text orientation\n",
      "Getting text orientation\n",
      "Getting text orientation\n",
      "Getting text orientation\n",
      "Getting text orientation\n",
      "Getting text orientation\n",
      "Getting text orientation\n",
      "Getting text orientation\n",
      "Getting text orientation\n",
      "Getting text orientation\n",
      "Getting text orientation\n",
      "Getting text orientation\n",
      "Getting text orientation\n",
      "Getting text orientation\n",
      "Getting text orientation\n",
      "Getting text orientation\n",
      "Getting text orientation\n",
      "Getting text orientation\n",
      "Getting text orientation\n",
      "Getting text orientation\n",
      "Getting text orientation\n",
      "Getting text orientation\n",
      "Getting text orientation\n",
      "Getting text orientation\n",
      "Getting text orientation\n",
      "Getting text orientation\n",
      "Getting text orientation\n",
      "Getting text orientation\n",
      "Getting text orientation\n",
      "Getting text orientation\n",
      "Getting text orientation\n",
      "Getting text orientation\n",
      "Getting text orientation\n",
      "Getting text orientation\n",
      "Getting text orientation\n",
      "Getting text orientation\n",
      "Getting text orientation\n",
      "Getting text orientation\n",
      "Getting text orientation\n",
      "Getting text orientation\n",
      "Getting text orientation\n",
      "Getting text orientation\n",
      "Getting text orientation\n",
      "Getting text orientation\n",
      "Getting text orientation\n",
      "Getting text orientation\n",
      "Getting text orientation\n",
      "Getting text orientation\n",
      "Getting text orientation\n",
      "Getting text orientation\n",
      "Getting text orientation\n",
      "Getting text orientation\n",
      "Getting text orientation\n",
      "Getting text orientation\n",
      "Getting text orientation\n",
      "Getting text orientation\n",
      "Getting text orientation\n",
      "Getting text orientation\n",
      "Getting text orientation\n",
      "Getting text orientation\n",
      "Getting text orientation\n",
      "Getting text orientation\n",
      "Getting text orientation\n",
      "Getting text orientation\n",
      "Getting text orientation\n",
      "Getting text orientation\n",
      "Getting text orientation\n",
      "Getting text orientation\n",
      "Getting text orientation\n",
      "Getting text orientation\n",
      "Getting text orientation\n",
      "Getting text orientation\n",
      "Getting text orientation\n",
      "Getting text orientation\n",
      "Getting text orientation\n",
      "Getting text orientation\n",
      "Getting text orientation\n",
      "Getting text orientation\n",
      "Getting text orientation\n",
      "Getting text orientation\n",
      "Getting text orientation\n",
      "Getting text orientation\n",
      "Getting text orientation\n",
      "Getting text orientation\n",
      "Getting text orientation\n",
      "Getting text orientation\n",
      "Getting text orientation\n",
      "Getting text orientation\n",
      "Getting text orientation\n",
      "Getting text orientation\n",
      "Getting text orientation\n",
      "Getting text orientation\n",
      "Getting text orientation\n",
      "Getting text orientation\n",
      "Getting text orientation\n",
      "Getting text orientation\n",
      "Getting text orientation\n",
      "Getting text orientation\n",
      "Getting text orientation\n",
      "Getting text orientation\n",
      "Getting text orientation\n",
      "Getting text orientation\n",
      "Getting text orientation\n",
      "Getting text orientation\n",
      "Getting text orientation\n",
      "Getting text orientation\n",
      "Getting text orientation\n",
      "Getting text orientation\n",
      "Getting text orientation\n",
      "Getting text orientation\n",
      "Getting text orientation\n",
      "Getting text orientation\n",
      "Getting text orientation\n",
      "Getting text orientation\n",
      "Getting text orientation\n",
      "Getting text orientation\n",
      "Getting text orientation\n",
      "Getting text orientation\n",
      "Getting text orientation\n",
      "Getting text orientation\n",
      "Getting text orientation\n",
      "Getting text orientation\n",
      "Getting text orientation\n",
      "Getting text orientation\n",
      "Getting text orientation\n",
      "Getting text orientation\n",
      "Getting text orientation\n",
      "Getting text orientation\n",
      "Getting text orientation\n",
      "Getting text orientation\n",
      "Getting text orientation\n",
      "Getting text orientation\n",
      "Getting text orientation\n",
      "Getting text orientation\n",
      "Getting text orientation\n",
      "Getting text orientation\n",
      "Getting text orientation\n",
      "Getting text orientation\n",
      "Getting text orientation\n",
      "Getting text orientation\n",
      "Getting text orientation\n",
      "Getting text orientation\n",
      "Getting text orientation\n",
      "Getting text orientation\n",
      "Getting text orientation\n",
      "Getting text orientation\n",
      "Getting text orientation\n",
      "Getting text orientation\n",
      "Getting text orientation\n",
      "Getting text orientation\n",
      "Getting text orientation\n",
      "Getting text orientation\n",
      "Getting text orientation\n",
      "Getting text orientation\n",
      "Getting text orientation\n",
      "Getting text orientation\n",
      "Getting text orientation\n",
      "Getting text orientation\n",
      "Getting text orientation\n",
      "Getting text orientation\n",
      "Getting text orientation\n",
      "Getting text orientation\n",
      "Getting text orientation\n",
      "Getting text orientation\n",
      "Getting text orientation\n",
      "Getting text orientation\n",
      "Getting text orientation\n",
      "Getting text orientation\n",
      "Getting text orientation\n",
      "Getting text orientation\n",
      "Getting text orientation\n",
      "Getting text orientation\n",
      "Getting text orientation\n",
      "Getting text orientation\n",
      "Getting text orientation\n",
      "Getting text orientation\n",
      "Getting text orientation\n",
      "Getting text orientation\n",
      "Getting text orientation\n",
      "Getting text orientation\n",
      "Getting text orientation\n",
      "Getting text orientation\n",
      "Getting text orientation\n",
      "Getting text orientation\n",
      "Getting text orientation\n",
      "Getting text orientation\n",
      "Getting text orientation\n",
      "Getting text orientation\n",
      "Getting text orientation\n",
      "Getting text orientation\n",
      "Getting text orientation\n",
      "Getting text orientation\n",
      "Getting text orientation\n",
      "Getting text orientation\n",
      "Getting text orientation\n",
      "Getting text orientation\n",
      "Getting text orientation\n",
      "Getting text orientation\n",
      "Getting text orientation\n",
      "Getting text orientation\n",
      "Getting text orientation\n",
      "Getting text orientation\n",
      "Getting text orientation\n",
      "Getting text orientation\n",
      "Getting text orientation\n",
      "Getting text orientation\n",
      "Getting text orientation\n",
      "Getting text orientation\n",
      "Getting text orientation\n",
      "Getting text orientation\n",
      "Getting text orientation\n",
      "Getting text orientation\n",
      "Getting text orientation\n",
      "Getting text orientation\n",
      "Getting text orientation\n",
      "Getting text orientation\n",
      "Getting text orientation\n",
      "Getting text orientation\n",
      "Getting text orientation\n",
      "Getting text orientation\n",
      "Getting text orientation\n",
      "Getting text orientation\n",
      "Getting text orientation\n",
      "Getting text orientation\n",
      "Getting text orientation\n",
      "Getting text orientation\n",
      "Getting text orientation\n",
      "Getting text orientation\n",
      "Getting text orientation\n",
      "Getting text orientation\n",
      "Getting text orientation\n",
      "Getting text orientation\n",
      "Getting text orientation\n",
      "Getting text orientation\n",
      "Getting text orientation\n",
      "Getting text orientation\n",
      "Getting text orientation\n",
      "Getting text orientation\n",
      "Getting text orientation\n",
      "Getting text orientation\n",
      "Getting text orientation\n",
      "Getting text orientation\n",
      "Getting text orientation\n",
      "Getting text orientation\n",
      "Getting text orientation\n",
      "Getting text orientation\n",
      "Getting text orientation\n",
      "Getting text orientation\n",
      "Getting text orientation\n",
      "Getting text orientation\n",
      "Getting text orientation\n",
      "Getting text orientation\n",
      "Getting text orientation\n",
      "Getting text orientation\n",
      "Getting text orientation\n",
      "Getting text orientation\n",
      "Getting text orientation\n",
      "Getting text orientation\n",
      "Getting text orientation\n",
      "Getting text orientation\n",
      "Getting text orientation\n",
      "Getting text orientation\n",
      "Getting text orientation\n",
      "Getting text orientation\n",
      "Getting text orientation\n",
      "Getting text orientation\n",
      "Getting text orientation\n",
      "Getting text orientation\n",
      "Getting text orientation\n",
      "Getting text orientation\n",
      "Getting text orientation\n",
      "Getting text orientation\n",
      "Getting text orientation\n",
      "Getting text orientation\n",
      "Getting text orientation\n",
      "Getting text orientation\n",
      "Getting text orientation\n",
      "Getting text orientation\n",
      "Getting text orientation\n",
      "Getting text orientation\n",
      "Getting text orientation\n",
      "Getting text orientation\n",
      "Getting text orientation\n",
      "Getting text orientation\n",
      "Getting text orientation\n",
      "Getting text orientation\n",
      "Getting text orientation\n",
      "Getting text orientation\n",
      "Getting text orientation\n",
      "Getting text orientation\n",
      "Getting text orientation\n",
      "Getting text orientation\n",
      "Getting text orientation\n",
      "Getting text orientation\n",
      "Getting text orientation\n",
      "Getting text orientation\n",
      "Getting text orientation\n",
      "Getting text orientation\n",
      "Getting text orientation\n",
      "Getting text orientation\n",
      "Getting text orientation\n",
      "Getting text orientation\n",
      "Getting text orientation\n",
      "Getting text orientation\n",
      "Getting text orientation\n",
      "Getting text orientation\n",
      "Getting text orientation\n",
      "Getting text orientation\n",
      "Getting text orientation\n",
      "Getting text orientation\n",
      "Getting text orientation\n",
      "Getting text orientation\n",
      "Getting text orientation\n",
      "Getting text orientation\n",
      "Getting text orientation\n",
      "Getting text orientation\n",
      "Getting text orientation\n",
      "Getting text orientation\n",
      "Getting text orientation\n",
      "Getting text orientation\n",
      "Getting text orientation\n",
      "Getting text orientation\n",
      "Getting text orientation\n",
      "Getting text orientation\n",
      "Getting text orientation\n",
      "Getting text orientation\n",
      "Getting text orientation\n",
      "Getting text orientation\n",
      "Getting text orientation\n",
      "Getting text orientation\n",
      "Getting text orientation\n",
      "Getting text orientation\n",
      "Getting text orientation\n",
      "Getting text orientation\n",
      "Getting text orientation\n",
      "Getting text orientation\n",
      "Getting text orientation\n",
      "Getting text orientation\n",
      "Getting text orientation\n",
      "Getting text orientation\n",
      "Getting text orientation\n",
      "Getting text orientation\n",
      "Getting text orientation\n",
      "Getting text orientation\n",
      "Getting text orientation\n",
      "Getting text orientation\n",
      "Getting text orientation\n",
      "Getting text orientation\n",
      "Getting text orientation\n",
      "Getting text orientation\n",
      "Getting text orientation\n",
      "Getting text orientation\n",
      "Getting text orientation\n",
      "Getting text orientation\n",
      "Getting text orientation\n",
      "Getting text orientation\n",
      "Getting text orientation\n",
      "Getting text orientation\n",
      "Getting text orientation\n",
      "Getting text orientation\n",
      "Getting text orientation\n",
      "Getting text orientation\n",
      "Getting text orientation\n",
      "Getting text orientation\n",
      "Getting text orientation\n",
      "Getting text orientation\n",
      "Getting text orientation\n",
      "Getting text orientation\n",
      "Getting text orientation\n",
      "Getting text orientation\n",
      "Getting text orientation\n",
      "Getting text orientation\n",
      "Getting text orientation\n",
      "Getting text orientation\n",
      "Getting text orientation\n",
      "Getting text orientation\n",
      "Getting text orientation\n",
      "Getting text orientation\n",
      "Getting text orientation\n",
      "Getting text orientation\n",
      "Getting text orientation\n",
      "Getting text orientation\n",
      "Getting text orientation\n",
      "Getting text orientation\n",
      "Getting text orientation\n",
      "Getting text orientation\n",
      "Getting text orientation\n",
      "Getting text orientation\n",
      "Getting text orientation\n",
      "Getting text orientation\n",
      "Getting text orientation\n",
      "Getting text orientation\n",
      "Getting text orientation\n",
      "Getting text orientation\n",
      "Getting text orientation\n",
      "Getting text orientation\n",
      "Getting text orientation\n",
      "Getting text orientation\n",
      "Getting text orientation\n",
      "Getting text orientation\n",
      "Getting text orientation\n",
      "Getting text orientation\n",
      "Getting text orientation\n",
      "Getting text orientation\n",
      "Getting text orientation\n",
      "Getting text orientation\n",
      "Getting text orientation\n",
      "Getting text orientation\n",
      "Getting text orientation\n",
      "Getting text orientation\n",
      "Getting text orientation\n",
      "Getting text orientation\n",
      "Getting text orientation\n",
      "Getting text orientation\n",
      "Getting text orientation\n",
      "Getting text orientation\n",
      "Getting text orientation\n",
      "Getting text orientation\n",
      "Getting text orientation\n",
      "Getting text orientation\n",
      "Getting text orientation\n",
      "Getting text orientation\n",
      "Getting text orientation\n",
      "Getting text orientation\n",
      "Getting text orientation\n",
      "Getting text orientation\n",
      "Getting text orientation\n",
      "Getting text orientation\n",
      "Getting text orientation\n",
      "Getting text orientation\n",
      "Getting text orientation\n",
      "Getting text orientation\n",
      "Getting text orientation\n",
      "Getting text orientation\n",
      "Getting text orientation\n",
      "Rotating the image\n",
      "Rotating the image\n",
      "Rotating the image\n",
      "Rotating the image\n",
      "Rotating the image\n",
      "Rotating the image\n",
      "Rotating the image\n",
      "Rotating the image\n",
      "Rotating the image\n",
      "Rotating the image\n",
      "Rotating the image\n",
      "Rotating the image\n",
      "Rotating the image\n",
      "Rotating the image\n",
      "Rotating the image\n",
      "Rotating the image\n",
      "Rotating the image\n",
      "Rotating the image\n",
      "Rotating the image\n",
      "Rotating the image\n",
      "Rotating the image\n",
      "Rotating the image\n",
      "Rotating the image\n",
      "Rotating the image\n",
      "Rotating the image\n",
      "Rotating the image\n",
      "Rotating the image\n",
      "Rotating the image\n",
      "Rotating the image\n",
      "Rotating the image\n",
      "Rotating the image\n",
      "Rotating the image\n",
      "Rotating the image\n",
      "Rotating the image\n",
      "Rotating the image\n",
      "Rotating the image\n",
      "Rotating the image\n",
      "Rotating the image\n",
      "Rotating the image\n",
      "Rotating the image\n",
      "Rotating the image\n",
      "Rotating the image\n",
      "Rotating the image\n",
      "Rotating the image\n",
      "Rotating the image\n",
      "Rotating the image\n",
      "Rotating the image\n",
      "Rotating the image\n",
      "Rotating the image\n",
      "Rotating the image\n",
      "Rotating the image\n",
      "Rotating the image\n",
      "Rotating the image\n",
      "Rotating the image\n",
      "Rotating the image\n",
      "Rotating the image\n",
      "Rotating the image\n",
      "Rotating the image\n",
      "Rotating the image\n",
      "Rotating the image\n",
      "Rotating the image\n",
      "Rotating the image\n",
      "Rotating the image\n",
      "Rotating the image\n",
      "Rotating the image\n",
      "Rotating the image\n",
      "Rotating the image\n",
      "Rotating the image\n",
      "Rotating the image\n",
      "Rotating the image\n",
      "Rotating the image\n",
      "Rotating the image\n",
      "Rotating the image\n",
      "Rotating the image\n",
      "Rotating the image\n",
      "Rotating the image\n",
      "Rotating the image\n",
      "Rotating the image\n",
      "Rotating the image\n",
      "Rotating the image\n",
      "Rotating the image\n",
      "Rotating the image\n",
      "Rotating the image\n",
      "Rotating the image\n",
      "Rotating the image\n",
      "Rotating the image\n",
      "Rotating the image\n",
      "Rotating the image\n",
      "Rotating the image\n",
      "Rotating the image\n",
      "Rotating the image\n",
      "Rotating the image\n",
      "Rotating the image\n",
      "Rotating the image\n",
      "Rotating the image\n",
      "Rotating the image\n",
      "Rotating the image\n",
      "Rotating the image\n",
      "Rotating the image\n",
      "Rotating the image\n",
      "Rotating the image\n",
      "Rotating the image\n",
      "Rotating the image\n",
      "Rotating the image\n",
      "Rotating the image\n",
      "Rotating the image\n",
      "Rotating the image\n",
      "Rotating the image\n",
      "Rotating the image\n",
      "Rotating the image\n",
      "Rotating the image\n",
      "Rotating the image\n",
      "Rotating the image\n",
      "Rotating the image\n",
      "Rotating the image\n",
      "Rotating the image\n",
      "Rotating the image\n",
      "Rotating the image\n",
      "Rotating the image\n",
      "Rotating the image\n",
      "Rotating the image\n",
      "Rotating the image\n",
      "Rotating the image\n",
      "Rotating the image\n",
      "Rotating the image\n",
      "Rotating the image\n",
      "Rotating the image\n",
      "Rotating the image\n",
      "Rotating the image\n",
      "Rotating the image\n",
      "Rotating the image\n",
      "Rotating the image\n",
      "Rotating the image\n",
      "Rotating the image\n",
      "Rotating the image\n",
      "Rotating the image\n",
      "Rotating the image\n",
      "Rotating the image\n",
      "Rotating the image\n",
      "Rotating the image\n",
      "Rotating the image\n",
      "Rotating the image\n",
      "Rotating the image\n",
      "Rotating the image\n",
      "Rotating the image\n",
      "Rotating the image\n",
      "Rotating the image\n",
      "Rotating the image\n",
      "Rotating the image\n",
      "Rotating the image\n",
      "Rotating the image\n",
      "Rotating the image\n",
      "Rotating the image\n",
      "Rotating the image\n",
      "Rotating the image\n",
      "Rotating the image\n",
      "Rotating the image\n",
      "Rotating the image\n",
      "Rotating the image\n",
      "Rotating the image\n",
      "Rotating the image\n",
      "Rotating the image\n",
      "Rotating the image\n",
      "Rotating the image\n",
      "Rotating the image\n",
      "Rotating the image\n",
      "Rotating the image\n",
      "Rotating the image\n",
      "Rotating the image\n",
      "Rotating the image\n",
      "Rotating the image\n",
      "Rotating the image\n",
      "Rotating the image\n",
      "Rotating the image\n",
      "Rotating the image\n",
      "Rotating the image\n",
      "Rotating the image\n",
      "Rotating the image\n",
      "Rotating the image\n",
      "Rotating the image\n",
      "Rotating the image\n",
      "Rotating the image\n",
      "Rotating the image\n",
      "Rotating the image\n",
      "Rotating the image\n",
      "Rotating the image\n",
      "Rotating the image\n",
      "Rotating the image\n",
      "Rotating the image\n",
      "Rotating the image\n",
      "Rotating the image\n",
      "Rotating the image\n",
      "Rotating the image\n",
      "Rotating the image\n",
      "Rotating the image\n",
      "Rotating the image\n",
      "Rotating the image\n",
      "Rotating the image\n",
      "Rotating the image\n",
      "Rotating the image\n",
      "Rotating the image\n",
      "Rotating the image\n",
      "Rotating the image\n",
      "Rotating the image\n",
      "Rotating the image\n",
      "Rotating the image\n",
      "Rotating the image\n",
      "Rotating the image\n",
      "Rotating the image\n",
      "Rotating the image\n",
      "Rotating the image\n",
      "Rotating the image\n",
      "Rotating the image\n",
      "Rotating the image\n",
      "Rotating the image\n",
      "Rotating the image\n",
      "Rotating the image\n",
      "Rotating the image\n",
      "Rotating the image\n",
      "Rotating the image\n",
      "Rotating the image\n",
      "Rotating the image\n",
      "Rotating the image\n",
      "Rotating the image\n",
      "Rotating the image\n",
      "Rotating the image\n",
      "Rotating the image\n",
      "Rotating the image\n",
      "Rotating the image\n",
      "Rotating the image\n",
      "Rotating the image\n",
      "Rotating the image\n",
      "Rotating the image\n",
      "Rotating the image\n",
      "Rotating the image\n",
      "Rotating the image\n",
      "Rotating the image\n",
      "Rotating the image\n",
      "Rotating the image\n",
      "Rotating the image\n",
      "Rotating the image\n",
      "Rotating the image\n",
      "Rotating the image\n",
      "Rotating the image\n",
      "Rotating the image\n",
      "Rotating the image\n",
      "Rotating the image\n",
      "Rotating the image\n",
      "Rotating the image\n",
      "Rotating the image\n",
      "Rotating the image\n",
      "Rotating the image\n",
      "Rotating the image\n",
      "Rotating the image\n",
      "Rotating the image\n",
      "Rotating the image\n",
      "Rotating the image\n",
      "Rotating the image\n",
      "Rotating the image\n",
      "Rotating the image\n",
      "Rotating the image\n",
      "Rotating the image\n",
      "Rotating the image\n",
      "Rotating the image\n",
      "Rotating the image\n",
      "Rotating the image\n",
      "Rotating the image\n",
      "Rotating the image\n",
      "Rotating the image\n",
      "Rotating the image\n",
      "Rotating the image\n",
      "Rotating the image\n",
      "Rotating the image\n",
      "Rotating the image\n",
      "Rotating the image\n",
      "Rotating the image\n",
      "Rotating the image\n",
      "Rotating the image\n",
      "Rotating the image\n",
      "Rotating the image\n",
      "Rotating the image\n",
      "Rotating the image\n",
      "Rotating the image\n",
      "Rotating the image\n",
      "Rotating the image\n",
      "Rotating the image\n",
      "Rotating the image\n",
      "Rotating the image\n",
      "Rotating the image\n",
      "Rotating the image\n",
      "Rotating the image\n",
      "Rotating the image\n",
      "Rotating the image\n",
      "Rotating the image\n",
      "Rotating the image\n",
      "Rotating the image\n",
      "Rotating the image\n",
      "Rotating the image\n",
      "Rotating the image\n",
      "Rotating the image\n",
      "Rotating the image\n",
      "Rotating the image\n",
      "Rotating the image\n",
      "Rotating the image\n",
      "Rotating the image\n",
      "Rotating the image\n",
      "Rotating the image\n",
      "Rotating the image\n",
      "Rotating the image\n",
      "Rotating the image\n",
      "Rotating the image\n",
      "Rotating the image\n",
      "Rotating the image\n",
      "Rotating the image\n",
      "Rotating the image\n",
      "Rotating the image\n",
      "Rotating the image\n",
      "Rotating the image\n",
      "Rotating the image\n",
      "Rotating the image\n",
      "Rotating the image\n",
      "Rotating the image\n",
      "Rotating the image\n",
      "Rotating the image\n",
      "Rotating the image\n",
      "Rotating the image\n",
      "Rotating the image\n",
      "Rotating the image\n",
      "Rotating the image\n",
      "Rotating the image\n",
      "Rotating the image\n",
      "Rotating the image\n",
      "Rotating the image\n",
      "Rotating the image\n",
      "Rotating the image\n",
      "Rotating the image\n",
      "Rotating the image\n",
      "Rotating the image\n",
      "Rotating the image\n",
      "Rotating the image\n",
      "Rotating the image\n",
      "Rotating the image\n",
      "Rotating the image\n",
      "Rotating the image\n",
      "Rotating the image\n",
      "Rotating the image\n",
      "Rotating the image\n",
      "Rotating the image\n",
      "Rotating the image\n",
      "Rotating the image\n",
      "Rotating the image\n",
      "Rotating the image\n",
      "Rotating the image\n",
      "Rotating the image\n",
      "Rotating the image\n",
      "Rotating the image\n",
      "Rotating the image\n",
      "Rotating the image\n",
      "Rotating the image\n",
      "Rotating the image\n",
      "Rotating the image\n",
      "Rotating the image\n",
      "Rotating the image\n",
      "Rotating the image\n",
      "Rotating the image\n",
      "Rotating the image\n",
      "Rotating the image\n",
      "Rotating the image\n",
      "Rotating the image\n",
      "Rotating the image\n",
      "Rotating the image\n",
      "Rotating the image\n",
      "Rotating the image\n",
      "Rotating the image\n",
      "Rotating the image\n",
      "Rotating the image\n",
      "Rotating the image\n",
      "Rotating the image\n",
      "Rotating the image\n",
      "Rotating the image\n",
      "Rotating the image\n",
      "Rotating the image\n",
      "Rotating the image\n",
      "Rotating the image\n",
      "Rotating the image\n",
      "Rotating the image\n",
      "Rotating the image\n",
      "Rotating the image\n",
      "Rotating the image\n",
      "Rotating the image\n",
      "Rotating the image\n",
      "Rotating the image\n",
      "Rotating the image\n",
      "Rotating the image\n",
      "Rotating the image\n",
      "Rotating the image\n",
      "Rotating the image\n",
      "Rotating the image\n",
      "Rotating the image\n",
      "Rotating the image\n",
      "Rotating the image\n",
      "Rotating the image\n",
      "Rotating the image\n",
      "Rotating the image\n",
      "Rotating the image\n",
      "Rotating the image\n",
      "Rotating the image\n",
      "Rotating the image\n",
      "Rotating the image\n",
      "Rotating the image\n",
      "Rotating the image\n",
      "Rotating the image\n",
      "Rotating the image\n",
      "Rotating the image\n",
      "Rotating the image\n",
      "Rotating the image\n",
      "Rotating the image\n",
      "Rotating the image\n",
      "Rotating the image\n",
      "Rotating the image\n",
      "Rotating the image\n",
      "Rotating the image\n",
      "Rotating the image\n",
      "Rotating the image\n",
      "Rotating the image\n",
      "Rotating the image\n",
      "Rotating the image\n",
      "Rotating the image\n",
      "Rotating the image\n",
      "Rotating the image\n",
      "Rotating the image\n",
      "Rotating the image\n",
      "Rotating the image\n",
      "Rotating the image\n",
      "Rotating the image\n",
      "Rotating the image\n",
      "Rotating the image\n",
      "Rotating the image\n",
      "Rotating the image\n",
      "Rotating the image\n",
      "Rotating the image\n",
      "Rotating the image\n",
      "Rotating the image\n",
      "Rotating the image\n",
      "Rotating the image\n",
      "Rotating the image\n",
      "Rotating the image\n",
      "Rotating the image\n",
      "Rotating the image\n",
      "Rotating the image\n",
      "Rotating the image\n",
      "Rotating the image\n",
      "Rotating the image\n",
      "Rotating the image\n",
      "Rotating the image\n",
      "Rotating the image\n",
      "Rotating the image\n",
      "Rotating the image\n",
      "Rotating the image\n",
      "Rotating the image\n",
      "Rotating the image\n",
      "Rotating the image\n",
      "Rotating the image\n",
      "Rotating the image\n",
      "Rotating the image\n",
      "Rotating the image\n",
      "Rotating the image\n",
      "Rotating the image\n",
      "Rotating the image\n",
      "Rotating the image\n",
      "Rotating the image\n",
      "Rotating the image\n",
      "Rotating the image\n",
      "Rotating the image\n",
      "Rotating the image\n",
      "Rotating the image\n",
      "Rotating the image\n",
      "Rotating the image\n",
      "Rotating the image\n",
      "Rotating the image\n",
      "Rotating the image\n",
      "Rotating the image\n",
      "Rotating the image\n",
      "Rotating the image\n",
      "Rotating the image\n",
      "Rotating the image\n",
      "Rotating the image\n",
      "Rotating the image\n",
      "Rotating the image\n",
      "Rotating the image\n",
      "Rotating the image\n",
      "Rotating the image\n",
      "Rotating the image\n",
      "Rotating the image\n",
      "Rotating the image\n",
      "Rotating the image\n",
      "Rotating the image\n",
      "Rotating the image\n",
      "Rotating the image\n",
      "Rotating the image\n",
      "Rotating the image\n",
      "Rotating the image\n",
      "Rotating the image\n",
      "Rotating the image\n",
      "Rotating the image\n",
      "Rotating the image\n",
      "Rotating the image\n",
      "Rotating the image\n",
      "Rotating the image\n",
      "Rotating the image\n",
      "Rotating the image\n",
      "Rotating the image\n",
      "Rotating the image\n",
      "Rotating the image\n",
      "Rotating the image\n",
      "Rotating the image\n",
      "Rotating the image\n",
      "Rotating the image\n",
      "Rotating the image\n",
      "Rotating the image\n",
      "Resizing the image\n",
      "Resizing the image\n",
      "Resizing the image\n",
      "Resizing the image\n",
      "Resizing the image\n",
      "Resizing the image\n",
      "Resizing the image\n",
      "Resizing the image\n",
      "Resizing the image\n",
      "Resizing the image\n",
      "Resizing the image\n",
      "Resizing the image\n",
      "Resizing the image\n",
      "Resizing the image\n",
      "Resizing the image\n",
      "Resizing the image\n",
      "Resizing the image\n",
      "Resizing the image\n",
      "Resizing the image\n",
      "Resizing the image\n",
      "Resizing the image\n",
      "Resizing the image\n",
      "Resizing the image\n",
      "Resizing the image\n",
      "Resizing the image\n",
      "Resizing the image\n",
      "Resizing the image\n",
      "Resizing the image\n",
      "Resizing the image\n",
      "Resizing the image\n",
      "Resizing the image\n",
      "Resizing the image\n",
      "Resizing the image\n",
      "Resizing the image\n",
      "Resizing the image\n",
      "Resizing the image\n",
      "Resizing the image\n",
      "Resizing the image\n",
      "Resizing the image\n",
      "Resizing the image\n",
      "Resizing the image\n",
      "Resizing the image\n",
      "Resizing the image\n",
      "Resizing the image\n",
      "Resizing the image\n",
      "Resizing the image\n",
      "Resizing the image\n",
      "Resizing the image\n",
      "Resizing the image\n",
      "Resizing the image\n",
      "Resizing the image\n",
      "Resizing the image\n",
      "Resizing the image\n",
      "Resizing the image\n",
      "Resizing the image\n",
      "Resizing the image\n",
      "Resizing the image\n",
      "Resizing the image\n",
      "Resizing the image\n",
      "Resizing the image\n",
      "Resizing the image\n",
      "Resizing the image\n",
      "Resizing the image\n",
      "Resizing the image\n",
      "Resizing the image\n",
      "Resizing the image\n",
      "Resizing the image\n",
      "Resizing the image\n",
      "Resizing the image\n",
      "Resizing the image\n",
      "Resizing the image\n",
      "Resizing the image\n",
      "Resizing the image\n",
      "Resizing the image\n",
      "Resizing the image\n",
      "Resizing the image\n",
      "Resizing the image\n",
      "Resizing the image\n",
      "Resizing the image\n",
      "Resizing the image\n",
      "Resizing the image\n",
      "Resizing the image\n",
      "Resizing the image\n",
      "Resizing the image\n",
      "Resizing the image\n",
      "Resizing the image\n",
      "Resizing the image\n",
      "Resizing the image\n",
      "Resizing the image\n",
      "Resizing the image\n",
      "Resizing the image\n",
      "Resizing the image\n",
      "Resizing the image\n",
      "Resizing the image\n",
      "Resizing the image\n",
      "Resizing the image\n",
      "Resizing the image\n",
      "Resizing the image\n",
      "Resizing the image\n",
      "Resizing the image\n",
      "Resizing the image\n",
      "Resizing the image\n",
      "Resizing the image\n",
      "Resizing the image\n",
      "Resizing the image\n",
      "Resizing the image\n",
      "Resizing the image\n",
      "Resizing the image\n",
      "Resizing the image\n",
      "Resizing the image\n",
      "Resizing the image\n",
      "Resizing the image\n",
      "Resizing the image\n",
      "Resizing the image\n",
      "Resizing the image\n",
      "Resizing the image\n",
      "Resizing the image\n",
      "Resizing the image\n",
      "Resizing the image\n",
      "Resizing the image\n",
      "Resizing the image\n",
      "Resizing the image\n",
      "Resizing the image\n",
      "Resizing the image\n",
      "Resizing the image\n",
      "Resizing the image\n",
      "Resizing the image\n",
      "Resizing the image\n",
      "Resizing the image\n",
      "Resizing the image\n",
      "Resizing the image\n",
      "Resizing the image\n",
      "Resizing the image\n",
      "Resizing the image\n",
      "Resizing the image\n",
      "Resizing the image\n",
      "Resizing the image\n",
      "Resizing the image\n",
      "Resizing the image\n",
      "Resizing the image\n",
      "Resizing the image\n",
      "Resizing the image\n",
      "Resizing the image\n",
      "Resizing the image\n",
      "Resizing the image\n",
      "Resizing the image\n",
      "Resizing the image\n",
      "Resizing the image\n",
      "Resizing the image\n",
      "Resizing the image\n",
      "Resizing the image\n",
      "Resizing the image\n",
      "Resizing the image\n",
      "Resizing the image\n",
      "Resizing the image\n",
      "Resizing the image\n",
      "Resizing the image\n",
      "Resizing the image\n",
      "Resizing the image\n",
      "Resizing the image\n",
      "Resizing the image\n",
      "Resizing the image\n",
      "Resizing the image\n",
      "Resizing the image\n",
      "Resizing the image\n",
      "Resizing the image\n",
      "Resizing the image\n",
      "Resizing the image\n",
      "Resizing the image\n",
      "Resizing the image\n",
      "Resizing the image\n",
      "Resizing the image\n",
      "Resizing the image\n",
      "Resizing the image\n",
      "Resizing the image\n",
      "Resizing the image\n",
      "Resizing the image\n",
      "Resizing the image\n",
      "Resizing the image\n",
      "Resizing the image\n",
      "Resizing the image\n",
      "Resizing the image\n",
      "Resizing the image\n",
      "Resizing the image\n",
      "Resizing the image\n",
      "Resizing the image\n",
      "Resizing the image\n",
      "Resizing the image\n",
      "Resizing the image\n",
      "Resizing the image\n",
      "Resizing the image\n",
      "Resizing the image\n",
      "Resizing the image\n",
      "Resizing the image\n",
      "Resizing the image\n",
      "Resizing the image\n",
      "Resizing the image\n",
      "Resizing the image\n",
      "Resizing the image\n",
      "Resizing the image\n",
      "Resizing the image\n",
      "Resizing the image\n",
      "Resizing the image\n",
      "Resizing the image\n",
      "Resizing the image\n",
      "Resizing the image\n",
      "Resizing the image\n",
      "Resizing the image\n",
      "Resizing the image\n",
      "Resizing the image\n",
      "Resizing the image\n",
      "Resizing the image\n",
      "Resizing the image\n",
      "Resizing the image\n",
      "Resizing the image\n",
      "Resizing the image\n",
      "Resizing the image\n",
      "Resizing the image\n",
      "Resizing the image\n",
      "Resizing the image\n",
      "Resizing the image\n",
      "Resizing the image\n",
      "Resizing the image\n",
      "Resizing the image\n",
      "Resizing the image\n",
      "Resizing the image\n",
      "Resizing the image\n",
      "Resizing the image\n",
      "Resizing the image\n",
      "Resizing the image\n",
      "Resizing the image\n",
      "Resizing the image\n",
      "Resizing the image\n",
      "Resizing the image\n",
      "Resizing the image\n",
      "Resizing the image\n",
      "Resizing the image\n",
      "Resizing the image\n",
      "Resizing the image\n",
      "Resizing the image\n",
      "Resizing the image\n",
      "Resizing the image\n",
      "Resizing the image\n",
      "Resizing the image\n",
      "Resizing the image\n",
      "Resizing the image\n",
      "Resizing the image\n",
      "Resizing the image\n",
      "Resizing the image\n",
      "Resizing the image\n",
      "Resizing the image\n",
      "Resizing the image\n",
      "Resizing the image\n",
      "Resizing the image\n",
      "Resizing the image\n",
      "Resizing the image\n",
      "Resizing the image\n",
      "Resizing the image\n",
      "Resizing the image\n",
      "Resizing the image\n",
      "Resizing the image\n",
      "Resizing the image\n",
      "Resizing the image\n",
      "Resizing the image\n",
      "Resizing the image\n",
      "Resizing the image\n",
      "Resizing the image\n",
      "Resizing the image\n",
      "Resizing the image\n",
      "Resizing the image\n",
      "Resizing the image\n",
      "Resizing the image\n",
      "Resizing the image\n",
      "Resizing the image\n",
      "Resizing the image\n",
      "Resizing the image\n",
      "Resizing the image\n",
      "Resizing the image\n",
      "Resizing the image\n",
      "Resizing the image\n",
      "Resizing the image\n",
      "Resizing the image\n",
      "Resizing the image\n",
      "Resizing the image\n",
      "Resizing the image\n",
      "Resizing the image\n",
      "Resizing the image\n",
      "Resizing the image\n",
      "Resizing the image\n",
      "Resizing the image\n",
      "Resizing the image\n",
      "Resizing the image\n",
      "Resizing the image\n",
      "Resizing the image\n",
      "Resizing the image\n",
      "Resizing the image\n",
      "Resizing the image\n",
      "Resizing the image\n",
      "Resizing the image\n",
      "Resizing the image\n",
      "Resizing the image\n",
      "Resizing the image\n",
      "Resizing the image\n",
      "Resizing the image\n",
      "Resizing the image\n",
      "Resizing the image\n",
      "Resizing the image\n",
      "Resizing the image\n",
      "Resizing the image\n",
      "Resizing the image\n",
      "Resizing the image\n",
      "Resizing the image\n",
      "Resizing the image\n",
      "Resizing the image\n",
      "Resizing the image\n",
      "Resizing the image\n",
      "Resizing the image\n",
      "Resizing the image\n",
      "Resizing the image\n",
      "Resizing the image\n",
      "Resizing the image\n",
      "Resizing the image\n",
      "Resizing the image\n",
      "Resizing the image\n",
      "Resizing the image\n",
      "Resizing the image\n",
      "Resizing the image\n",
      "Resizing the image\n",
      "Resizing the image\n",
      "Resizing the image\n",
      "Resizing the image\n",
      "Resizing the image\n",
      "Resizing the image\n",
      "Resizing the image\n",
      "Resizing the image\n",
      "Resizing the image\n",
      "Resizing the image\n",
      "Resizing the image\n",
      "Resizing the image\n",
      "Resizing the image\n",
      "Resizing the image\n",
      "Resizing the image\n",
      "Resizing the image\n",
      "Resizing the image\n",
      "Resizing the image\n",
      "Resizing the image\n",
      "Resizing the image\n",
      "Resizing the image\n",
      "Resizing the image\n",
      "Resizing the image\n",
      "Resizing the image\n",
      "Resizing the image\n",
      "Resizing the image\n",
      "Resizing the image\n",
      "Resizing the image\n",
      "Resizing the image\n",
      "Resizing the image\n",
      "Resizing the image\n",
      "Resizing the image\n",
      "Resizing the image\n",
      "Resizing the image\n",
      "Resizing the image\n",
      "Resizing the image\n",
      "Resizing the image\n",
      "Resizing the image\n",
      "Resizing the image\n",
      "Resizing the image\n",
      "Resizing the image\n",
      "Resizing the image\n",
      "Resizing the image\n",
      "Resizing the image\n",
      "Resizing the image\n",
      "Resizing the image\n",
      "Resizing the image\n",
      "Resizing the image\n",
      "Resizing the image\n",
      "Resizing the image\n",
      "Resizing the image\n",
      "Resizing the image\n",
      "Resizing the image\n",
      "Resizing the image\n",
      "Resizing the image\n",
      "Resizing the image\n",
      "Resizing the image\n",
      "Resizing the image\n",
      "Resizing the image\n",
      "Resizing the image\n",
      "Resizing the image\n",
      "Resizing the image\n",
      "Resizing the image\n",
      "Resizing the image\n",
      "Resizing the image\n",
      "Resizing the image\n",
      "Resizing the image\n",
      "Resizing the image\n",
      "Resizing the image\n",
      "Resizing the image\n",
      "Resizing the image\n",
      "Resizing the image\n",
      "Resizing the image\n",
      "Resizing the image\n",
      "Resizing the image\n",
      "Resizing the image\n",
      "Resizing the image\n",
      "Resizing the image\n",
      "Resizing the image\n",
      "Resizing the image\n",
      "Resizing the image\n",
      "Resizing the image\n",
      "Resizing the image\n",
      "Resizing the image\n",
      "Resizing the image\n",
      "Resizing the image\n",
      "Resizing the image\n",
      "Resizing the image\n",
      "Resizing the image\n",
      "Resizing the image\n",
      "Resizing the image\n",
      "Resizing the image\n",
      "Resizing the image\n",
      "Resizing the image\n",
      "Resizing the image\n",
      "Resizing the image\n",
      "Resizing the image\n",
      "Resizing the image\n",
      "Resizing the image\n",
      "Resizing the image\n",
      "Resizing the image\n",
      "Resizing the image\n",
      "Resizing the image\n",
      "Resizing the image\n",
      "Resizing the image\n",
      "Resizing the image\n",
      "Resizing the image\n",
      "Resizing the image\n",
      "Resizing the image\n",
      "Resizing the image\n",
      "Resizing the image\n",
      "Resizing the image\n",
      "Resizing the image\n",
      "Resizing the image\n",
      "Resizing the image\n",
      "Resizing the image\n",
      "Resizing the image\n",
      "Resizing the image\n",
      "Resizing the image\n",
      "Resizing the image\n",
      "Resizing the image\n",
      "Resizing the image\n",
      "Resizing the image\n",
      "Resizing the image\n",
      "Resizing the image\n",
      "Resizing the image\n",
      "Resizing the image\n",
      "Resizing the image\n",
      "Resizing the image\n",
      "Resizing the image\n",
      "Resizing the image\n",
      "Resizing the image\n",
      "Resizing the image\n",
      "Resizing the image\n",
      "Resizing the image\n",
      "Resizing the image\n",
      "Resizing the image\n",
      "Resizing the image\n",
      "Resizing the image\n",
      "Resizing the image\n",
      "Resizing the image\n",
      "Resizing the image\n",
      "Resizing the image\n",
      "Resizing the image\n",
      "Resizing the image\n",
      "Resizing the image\n",
      "Resizing the image\n",
      "Resizing the image\n",
      "Resizing the image\n",
      "Resizing the image\n",
      "Resizing the image\n",
      "Resizing the image\n",
      "Resizing the image\n",
      "Resizing the image\n",
      "Resizing the image\n",
      "Resizing the image\n",
      "Resizing the image\n",
      "Resizing the image\n",
      "Resizing the image\n",
      "Resizing the image\n",
      "Resizing the image\n",
      "Resizing the image\n",
      "Resizing the image\n",
      "Resizing the image\n",
      "Resizing the image\n",
      "Resizing the image\n",
      "Resizing the image\n",
      "Resizing the image\n",
      "Resizing the image\n",
      "Resizing the image\n",
      "Resizing the image\n",
      "Resizing the image\n",
      "Resizing the image\n",
      "Resizing the image\n",
      "Resizing the image\n",
      "Resizing the image\n",
      "Resizing the image\n",
      "Resizing the image\n",
      "Resizing the image\n",
      "Resizing the image\n",
      "Resizing the image\n",
      "Resizing the image\n",
      "Resizing the image\n",
      "Resizing the image\n",
      "Resizing the image\n",
      "Resizing the image\n",
      "Resizing the image\n",
      "Resizing the image\n",
      "Resizing the image\n",
      "Resizing the image\n",
      "Resizing the image\n",
      "Resizing the image\n",
      "Resizing the image\n",
      "OCR with pytesseract\n"
     ]
    },
    {
     "name": "stderr",
     "output_type": "stream",
     "text": [
      "100%|██████████| 520/520 [04:28<00:00,  1.94it/s]\n"
     ]
    },
    {
     "name": "stdout",
     "output_type": "stream",
     "text": [
      "OCR with easyocr\n"
     ]
    },
    {
     "name": "stderr",
     "output_type": "stream",
     "text": [
      "100%|██████████| 520/520 [09:27<00:00,  1.09s/it]\n"
     ]
    },
    {
     "name": "stdout",
     "output_type": "stream",
     "text": [
      "OCR with keras_ocr\n",
      "Looking for C:\\Users\\Julien\\.keras-ocr\\craft_mlt_25k.h5\n",
      "Looking for C:\\Users\\Julien\\.keras-ocr\\crnn_kurapan.h5\n"
     ]
    },
    {
     "name": "stderr",
     "output_type": "stream",
     "text": [
      "  0%|          | 0/520 [00:00<?, ?it/s]"
     ]
    },
    {
     "name": "stdout",
     "output_type": "stream",
     "text": [
      "1/1 [==============================] - 17s 17s/step\n",
      "3/3 [==============================] - 6s 985ms/step\n"
     ]
    },
    {
     "name": "stderr",
     "output_type": "stream",
     "text": [
      "  0%|          | 1/520 [00:25<3:36:35, 25.04s/it]"
     ]
    },
    {
     "name": "stdout",
     "output_type": "stream",
     "text": [
      "1/1 [==============================] - 9s 9s/step\n",
      "8/8 [==============================] - 7s 892ms/step\n"
     ]
    },
    {
     "name": "stderr",
     "output_type": "stream",
     "text": [
      "  0%|          | 2/520 [00:42<2:56:06, 20.40s/it]"
     ]
    },
    {
     "name": "stdout",
     "output_type": "stream",
     "text": [
      "1/1 [==============================] - 9s 9s/step\n",
      "8/8 [==============================] - 7s 882ms/step\n"
     ]
    },
    {
     "name": "stderr",
     "output_type": "stream",
     "text": [
      "  1%|          | 3/520 [00:59<2:42:43, 18.88s/it]"
     ]
    },
    {
     "name": "stdout",
     "output_type": "stream",
     "text": [
      "1/1 [==============================] - 8s 8s/step\n",
      "7/7 [==============================] - 7s 959ms/step\n"
     ]
    },
    {
     "name": "stderr",
     "output_type": "stream",
     "text": [
      "  1%|          | 4/520 [01:15<2:34:25, 17.96s/it]"
     ]
    },
    {
     "name": "stdout",
     "output_type": "stream",
     "text": [
      "1/1 [==============================] - 8s 8s/step\n",
      "4/4 [==============================] - 4s 919ms/step\n"
     ]
    },
    {
     "name": "stderr",
     "output_type": "stream",
     "text": [
      "  1%|          | 5/520 [01:28<2:18:51, 16.18s/it]"
     ]
    },
    {
     "name": "stdout",
     "output_type": "stream",
     "text": [
      "1/1 [==============================] - 8s 8s/step\n",
      "9/9 [==============================] - 9s 1s/step\n"
     ]
    },
    {
     "name": "stderr",
     "output_type": "stream",
     "text": [
      "  1%|          | 6/520 [01:47<2:27:07, 17.17s/it]"
     ]
    },
    {
     "name": "stdout",
     "output_type": "stream",
     "text": [
      "1/1 [==============================] - 8s 8s/step\n",
      "7/7 [==============================] - 6s 850ms/step\n"
     ]
    },
    {
     "name": "stderr",
     "output_type": "stream",
     "text": [
      "  1%|▏         | 7/520 [02:03<2:22:49, 16.70s/it]"
     ]
    },
    {
     "name": "stdout",
     "output_type": "stream",
     "text": [
      "1/1 [==============================] - 8s 8s/step\n",
      "5/5 [==============================] - 4s 801ms/step\n"
     ]
    },
    {
     "name": "stderr",
     "output_type": "stream",
     "text": [
      "  2%|▏         | 8/520 [02:17<2:14:03, 15.71s/it]"
     ]
    },
    {
     "name": "stdout",
     "output_type": "stream",
     "text": [
      "1/1 [==============================] - 8s 8s/step\n",
      "3/3 [==============================] - 3s 775ms/step\n"
     ]
    },
    {
     "name": "stderr",
     "output_type": "stream",
     "text": [
      "  2%|▏         | 9/520 [02:28<2:02:55, 14.43s/it]"
     ]
    },
    {
     "name": "stdout",
     "output_type": "stream",
     "text": [
      "1/1 [==============================] - 8s 8s/step\n",
      "5/5 [==============================] - 4s 761ms/step\n"
     ]
    },
    {
     "name": "stderr",
     "output_type": "stream",
     "text": [
      "  2%|▏         | 10/520 [02:42<1:59:46, 14.09s/it]"
     ]
    },
    {
     "name": "stdout",
     "output_type": "stream",
     "text": [
      "1/1 [==============================] - 9s 9s/step\n",
      "5/5 [==============================] - 5s 895ms/step\n"
     ]
    },
    {
     "name": "stderr",
     "output_type": "stream",
     "text": [
      "  2%|▏         | 11/520 [02:56<1:59:29, 14.08s/it]"
     ]
    },
    {
     "name": "stdout",
     "output_type": "stream",
     "text": [
      "1/1 [==============================] - 8s 8s/step\n",
      "4/4 [==============================] - 4s 922ms/step\n"
     ]
    },
    {
     "name": "stderr",
     "output_type": "stream",
     "text": [
      "  2%|▏         | 12/520 [03:09<1:56:36, 13.77s/it]"
     ]
    },
    {
     "name": "stdout",
     "output_type": "stream",
     "text": [
      "1/1 [==============================] - 8s 8s/step\n",
      "5/5 [==============================] - 5s 888ms/step\n"
     ]
    },
    {
     "name": "stderr",
     "output_type": "stream",
     "text": [
      "  2%|▎         | 13/520 [03:23<1:56:47, 13.82s/it]"
     ]
    },
    {
     "name": "stdout",
     "output_type": "stream",
     "text": [
      "1/1 [==============================] - 8s 8s/step\n",
      "3/3 [==============================] - 2s 730ms/step\n"
     ]
    },
    {
     "name": "stderr",
     "output_type": "stream",
     "text": [
      "  3%|▎         | 14/520 [03:34<1:50:39, 13.12s/it]"
     ]
    },
    {
     "name": "stdout",
     "output_type": "stream",
     "text": [
      "1/1 [==============================] - 9s 9s/step\n",
      "3/3 [==============================] - 2s 673ms/step\n"
     ]
    },
    {
     "name": "stderr",
     "output_type": "stream",
     "text": [
      "  3%|▎         | 15/520 [03:46<1:46:11, 12.62s/it]"
     ]
    },
    {
     "name": "stdout",
     "output_type": "stream",
     "text": [
      "1/1 [==============================] - 8s 8s/step\n",
      "6/6 [==============================] - 5s 845ms/step\n"
     ]
    },
    {
     "name": "stderr",
     "output_type": "stream",
     "text": [
      "  3%|▎         | 16/520 [04:00<1:51:17, 13.25s/it]"
     ]
    },
    {
     "name": "stdout",
     "output_type": "stream",
     "text": [
      "1/1 [==============================] - 8s 8s/step\n",
      "8/8 [==============================] - 7s 914ms/step\n"
     ]
    },
    {
     "name": "stderr",
     "output_type": "stream",
     "text": [
      "  3%|▎         | 17/520 [04:18<2:00:57, 14.43s/it]"
     ]
    },
    {
     "name": "stdout",
     "output_type": "stream",
     "text": [
      "1/1 [==============================] - 8s 8s/step\n",
      "5/5 [==============================] - 4s 851ms/step\n"
     ]
    },
    {
     "name": "stderr",
     "output_type": "stream",
     "text": [
      "  3%|▎         | 18/520 [04:31<1:58:59, 14.22s/it]"
     ]
    },
    {
     "name": "stdout",
     "output_type": "stream",
     "text": [
      "1/1 [==============================] - 8s 8s/step\n",
      "5/5 [==============================] - 5s 918ms/step\n"
     ]
    },
    {
     "name": "stderr",
     "output_type": "stream",
     "text": [
      "  4%|▎         | 19/520 [04:45<1:58:25, 14.18s/it]"
     ]
    },
    {
     "name": "stdout",
     "output_type": "stream",
     "text": [
      "1/1 [==============================] - 8s 8s/step\n",
      "4/4 [==============================] - 4s 922ms/step\n"
     ]
    },
    {
     "name": "stderr",
     "output_type": "stream",
     "text": [
      "  4%|▍         | 20/520 [04:58<1:55:20, 13.84s/it]"
     ]
    },
    {
     "name": "stdout",
     "output_type": "stream",
     "text": [
      "1/1 [==============================] - 8s 8s/step\n",
      "5/5 [==============================] - 5s 914ms/step\n"
     ]
    },
    {
     "name": "stderr",
     "output_type": "stream",
     "text": [
      "  4%|▍         | 21/520 [05:13<1:55:39, 13.91s/it]"
     ]
    },
    {
     "name": "stdout",
     "output_type": "stream",
     "text": [
      "1/1 [==============================] - 8s 8s/step\n",
      "4/4 [==============================] - 3s 746ms/step\n"
     ]
    },
    {
     "name": "stderr",
     "output_type": "stream",
     "text": [
      "  4%|▍         | 22/520 [05:25<1:51:44, 13.46s/it]"
     ]
    },
    {
     "name": "stdout",
     "output_type": "stream",
     "text": [
      "1/1 [==============================] - 9s 9s/step\n",
      "9/9 [==============================] - 9s 954ms/step\n"
     ]
    },
    {
     "name": "stderr",
     "output_type": "stream",
     "text": [
      "  4%|▍         | 23/520 [05:44<2:04:31, 15.03s/it]"
     ]
    },
    {
     "name": "stdout",
     "output_type": "stream",
     "text": [
      "1/1 [==============================] - 9s 9s/step\n",
      "9/9 [==============================] - 9s 992ms/step\n"
     ]
    },
    {
     "name": "stderr",
     "output_type": "stream",
     "text": [
      "  5%|▍         | 24/520 [06:03<2:15:14, 16.36s/it]"
     ]
    },
    {
     "name": "stdout",
     "output_type": "stream",
     "text": [
      "1/1 [==============================] - 9s 9s/step\n",
      "3/3 [==============================] - 3s 825ms/step\n"
     ]
    },
    {
     "name": "stderr",
     "output_type": "stream",
     "text": [
      "  5%|▍         | 25/520 [06:15<2:04:28, 15.09s/it]"
     ]
    },
    {
     "name": "stdout",
     "output_type": "stream",
     "text": [
      "1/1 [==============================] - 9s 9s/step\n",
      "3/3 [==============================] - 2s 718ms/step\n"
     ]
    },
    {
     "name": "stderr",
     "output_type": "stream",
     "text": [
      "  5%|▌         | 26/520 [06:27<1:56:30, 14.15s/it]"
     ]
    },
    {
     "name": "stdout",
     "output_type": "stream",
     "text": [
      "1/1 [==============================] - 9s 9s/step\n",
      "3/3 [==============================] - 2s 649ms/step\n"
     ]
    },
    {
     "name": "stderr",
     "output_type": "stream",
     "text": [
      "  5%|▌         | 27/520 [06:39<1:50:17, 13.42s/it]"
     ]
    },
    {
     "name": "stdout",
     "output_type": "stream",
     "text": [
      "1/1 [==============================] - 9s 9s/step\n",
      "5/5 [==============================] - 5s 879ms/step\n"
     ]
    },
    {
     "name": "stderr",
     "output_type": "stream",
     "text": [
      "  5%|▌         | 28/520 [06:53<1:51:52, 13.64s/it]"
     ]
    },
    {
     "name": "stdout",
     "output_type": "stream",
     "text": [
      "1/1 [==============================] - 9s 9s/step\n",
      "2/2 [==============================] - 2s 928ms/step\n"
     ]
    },
    {
     "name": "stderr",
     "output_type": "stream",
     "text": [
      "  6%|▌         | 29/520 [07:04<1:45:39, 12.91s/it]"
     ]
    },
    {
     "name": "stdout",
     "output_type": "stream",
     "text": [
      "1/1 [==============================] - 9s 9s/step\n",
      "7/7 [==============================] - 6s 915ms/step\n"
     ]
    },
    {
     "name": "stderr",
     "output_type": "stream",
     "text": [
      "  6%|▌         | 30/520 [07:21<1:53:53, 13.95s/it]"
     ]
    },
    {
     "name": "stdout",
     "output_type": "stream",
     "text": [
      "1/1 [==============================] - 9s 9s/step\n",
      "4/4 [==============================] - 3s 761ms/step\n"
     ]
    },
    {
     "name": "stderr",
     "output_type": "stream",
     "text": [
      "  6%|▌         | 31/520 [07:33<1:50:41, 13.58s/it]"
     ]
    },
    {
     "name": "stdout",
     "output_type": "stream",
     "text": [
      "1/1 [==============================] - 9s 9s/step\n",
      "3/3 [==============================] - 3s 877ms/step\n"
     ]
    },
    {
     "name": "stderr",
     "output_type": "stream",
     "text": [
      "  6%|▌         | 32/520 [07:46<1:47:00, 13.16s/it]"
     ]
    },
    {
     "name": "stdout",
     "output_type": "stream",
     "text": [
      "1/1 [==============================] - 9s 9s/step\n",
      "4/4 [==============================] - 4s 953ms/step\n"
     ]
    },
    {
     "name": "stderr",
     "output_type": "stream",
     "text": [
      "  6%|▋         | 33/520 [07:59<1:47:23, 13.23s/it]"
     ]
    },
    {
     "name": "stdout",
     "output_type": "stream",
     "text": [
      "1/1 [==============================] - 9s 9s/step\n",
      "7/7 [==============================] - 6s 881ms/step\n"
     ]
    },
    {
     "name": "stderr",
     "output_type": "stream",
     "text": [
      "  7%|▋         | 34/520 [08:15<1:54:26, 14.13s/it]"
     ]
    },
    {
     "name": "stdout",
     "output_type": "stream",
     "text": [
      "1/1 [==============================] - 9s 9s/step\n",
      "2/2 [==============================] - 2s 642ms/step\n"
     ]
    },
    {
     "name": "stderr",
     "output_type": "stream",
     "text": [
      "  7%|▋         | 35/520 [08:26<1:46:31, 13.18s/it]"
     ]
    },
    {
     "name": "stdout",
     "output_type": "stream",
     "text": [
      "1/1 [==============================] - 9s 9s/step\n",
      "4/4 [==============================] - 4s 910ms/step\n"
     ]
    },
    {
     "name": "stderr",
     "output_type": "stream",
     "text": [
      "  7%|▋         | 36/520 [08:39<1:46:38, 13.22s/it]"
     ]
    },
    {
     "name": "stdout",
     "output_type": "stream",
     "text": [
      "1/1 [==============================] - 9s 9s/step\n",
      "2/2 [==============================] - 2s 770ms/step\n"
     ]
    },
    {
     "name": "stderr",
     "output_type": "stream",
     "text": [
      "  7%|▋         | 37/520 [08:51<1:41:25, 12.60s/it]"
     ]
    },
    {
     "name": "stdout",
     "output_type": "stream",
     "text": [
      "1/1 [==============================] - 9s 9s/step\n",
      "3/3 [==============================] - 3s 887ms/step\n"
     ]
    },
    {
     "name": "stderr",
     "output_type": "stream",
     "text": [
      "  7%|▋         | 38/520 [09:03<1:40:10, 12.47s/it]"
     ]
    },
    {
     "name": "stdout",
     "output_type": "stream",
     "text": [
      "1/1 [==============================] - 9s 9s/step\n",
      "9/9 [==============================] - 8s 924ms/step\n"
     ]
    },
    {
     "name": "stderr",
     "output_type": "stream",
     "text": [
      "  8%|▊         | 39/520 [09:21<1:54:51, 14.33s/it]"
     ]
    },
    {
     "name": "stdout",
     "output_type": "stream",
     "text": [
      "1/1 [==============================] - 9s 9s/step\n",
      "4/4 [==============================] - 3s 747ms/step\n"
     ]
    },
    {
     "name": "stderr",
     "output_type": "stream",
     "text": [
      "  8%|▊         | 40/520 [09:34<1:50:36, 13.83s/it]"
     ]
    },
    {
     "name": "stdout",
     "output_type": "stream",
     "text": [
      "1/1 [==============================] - 9s 9s/step\n",
      "3/3 [==============================] - 3s 850ms/step\n"
     ]
    },
    {
     "name": "stderr",
     "output_type": "stream",
     "text": [
      "  8%|▊         | 41/520 [09:46<1:46:07, 13.29s/it]"
     ]
    },
    {
     "name": "stdout",
     "output_type": "stream",
     "text": [
      "1/1 [==============================] - 9s 9s/step\n",
      "5/5 [==============================] - 4s 869ms/step\n"
     ]
    },
    {
     "name": "stderr",
     "output_type": "stream",
     "text": [
      "  8%|▊         | 42/520 [10:00<1:47:39, 13.51s/it]"
     ]
    },
    {
     "name": "stdout",
     "output_type": "stream",
     "text": [
      "1/1 [==============================] - 9s 9s/step\n",
      "5/5 [==============================] - 4s 844ms/step\n"
     ]
    },
    {
     "name": "stderr",
     "output_type": "stream",
     "text": [
      "  8%|▊         | 43/520 [10:14<1:48:25, 13.64s/it]"
     ]
    },
    {
     "name": "stdout",
     "output_type": "stream",
     "text": [
      "1/1 [==============================] - 9s 9s/step\n",
      "6/6 [==============================] - 6s 1s/step\n"
     ]
    },
    {
     "name": "stderr",
     "output_type": "stream",
     "text": [
      "  8%|▊         | 44/520 [10:30<1:53:52, 14.35s/it]"
     ]
    },
    {
     "name": "stdout",
     "output_type": "stream",
     "text": [
      "1/1 [==============================] - 9s 9s/step\n",
      "4/4 [==============================] - 3s 783ms/step\n"
     ]
    },
    {
     "name": "stderr",
     "output_type": "stream",
     "text": [
      "  9%|▊         | 45/520 [10:43<1:50:18, 13.93s/it]"
     ]
    },
    {
     "name": "stdout",
     "output_type": "stream",
     "text": [
      "1/1 [==============================] - 9s 9s/step\n",
      "9/9 [==============================] - 9s 1s/step\n"
     ]
    },
    {
     "name": "stderr",
     "output_type": "stream",
     "text": [
      "  9%|▉         | 46/520 [11:04<2:06:09, 15.97s/it]"
     ]
    },
    {
     "name": "stdout",
     "output_type": "stream",
     "text": [
      "1/1 [==============================] - 9s 9s/step\n",
      "5/5 [==============================] - 5s 1s/step\n"
     ]
    },
    {
     "name": "stderr",
     "output_type": "stream",
     "text": [
      "  9%|▉         | 47/520 [11:19<2:03:35, 15.68s/it]"
     ]
    },
    {
     "name": "stdout",
     "output_type": "stream",
     "text": [
      "1/1 [==============================] - 9s 9s/step\n",
      "6/6 [==============================] - 6s 955ms/step\n"
     ]
    },
    {
     "name": "stderr",
     "output_type": "stream",
     "text": [
      "  9%|▉         | 48/520 [11:35<2:04:18, 15.80s/it]"
     ]
    },
    {
     "name": "stdout",
     "output_type": "stream",
     "text": [
      "1/1 [==============================] - 9s 9s/step\n",
      "5/5 [==============================] - 5s 881ms/step\n"
     ]
    },
    {
     "name": "stderr",
     "output_type": "stream",
     "text": [
      "  9%|▉         | 49/520 [11:49<2:00:11, 15.31s/it]"
     ]
    },
    {
     "name": "stdout",
     "output_type": "stream",
     "text": [
      "1/1 [==============================] - 9s 9s/step\n",
      "5/5 [==============================] - 5s 886ms/step\n"
     ]
    },
    {
     "name": "stderr",
     "output_type": "stream",
     "text": [
      " 10%|▉         | 50/520 [12:03<1:57:07, 14.95s/it]"
     ]
    },
    {
     "name": "stdout",
     "output_type": "stream",
     "text": [
      "1/1 [==============================] - 9s 9s/step\n",
      "3/3 [==============================] - 3s 983ms/step\n"
     ]
    },
    {
     "name": "stderr",
     "output_type": "stream",
     "text": [
      " 10%|▉         | 51/520 [12:15<1:50:34, 14.15s/it]"
     ]
    },
    {
     "name": "stdout",
     "output_type": "stream",
     "text": [
      "1/1 [==============================] - 9s 9s/step\n",
      "7/7 [==============================] - 7s 956ms/step\n"
     ]
    },
    {
     "name": "stderr",
     "output_type": "stream",
     "text": [
      " 10%|█         | 52/520 [12:32<1:56:12, 14.90s/it]"
     ]
    },
    {
     "name": "stdout",
     "output_type": "stream",
     "text": [
      "1/1 [==============================] - 9s 9s/step\n",
      "7/7 [==============================] - 6s 903ms/step\n"
     ]
    },
    {
     "name": "stderr",
     "output_type": "stream",
     "text": [
      " 10%|█         | 53/520 [12:48<1:59:06, 15.30s/it]"
     ]
    },
    {
     "name": "stdout",
     "output_type": "stream",
     "text": [
      "1/1 [==============================] - 9s 9s/step\n",
      "3/3 [==============================] - 3s 1s/step\n"
     ]
    },
    {
     "name": "stderr",
     "output_type": "stream",
     "text": [
      " 10%|█         | 54/520 [13:01<1:52:21, 14.47s/it]"
     ]
    },
    {
     "name": "stdout",
     "output_type": "stream",
     "text": [
      "1/1 [==============================] - 9s 9s/step\n",
      "5/5 [==============================] - 5s 910ms/step\n"
     ]
    },
    {
     "name": "stderr",
     "output_type": "stream",
     "text": [
      " 11%|█         | 55/520 [13:15<1:51:39, 14.41s/it]"
     ]
    },
    {
     "name": "stdout",
     "output_type": "stream",
     "text": [
      "1/1 [==============================] - 9s 9s/step\n",
      "3/3 [==============================] - 3s 778ms/step\n"
     ]
    },
    {
     "name": "stderr",
     "output_type": "stream",
     "text": [
      " 11%|█         | 56/520 [13:27<1:45:44, 13.67s/it]"
     ]
    },
    {
     "name": "stdout",
     "output_type": "stream",
     "text": [
      "1/1 [==============================] - 9s 9s/step\n",
      "4/4 [==============================] - 3s 823ms/step\n"
     ]
    },
    {
     "name": "stderr",
     "output_type": "stream",
     "text": [
      " 11%|█         | 57/520 [13:40<1:44:02, 13.48s/it]"
     ]
    },
    {
     "name": "stdout",
     "output_type": "stream",
     "text": [
      "1/1 [==============================] - 9s 9s/step\n",
      "4/4 [==============================] - 3s 716ms/step\n"
     ]
    },
    {
     "name": "stderr",
     "output_type": "stream",
     "text": [
      " 11%|█         | 58/520 [13:53<1:41:39, 13.20s/it]"
     ]
    },
    {
     "name": "stdout",
     "output_type": "stream",
     "text": [
      "1/1 [==============================] - 9s 9s/step\n",
      "4/4 [==============================] - 4s 1s/step\n"
     ]
    },
    {
     "name": "stderr",
     "output_type": "stream",
     "text": [
      " 11%|█▏        | 59/520 [14:06<1:42:29, 13.34s/it]"
     ]
    },
    {
     "name": "stdout",
     "output_type": "stream",
     "text": [
      "1/1 [==============================] - 9s 9s/step\n",
      "4/4 [==============================] - 4s 1s/step\n"
     ]
    },
    {
     "name": "stderr",
     "output_type": "stream",
     "text": [
      " 12%|█▏        | 60/520 [14:20<1:42:56, 13.43s/it]"
     ]
    },
    {
     "name": "stdout",
     "output_type": "stream",
     "text": [
      "1/1 [==============================] - 9s 9s/step\n",
      "5/5 [==============================] - 4s 874ms/step\n"
     ]
    },
    {
     "name": "stderr",
     "output_type": "stream",
     "text": [
      " 12%|█▏        | 61/520 [14:34<1:44:20, 13.64s/it]"
     ]
    },
    {
     "name": "stdout",
     "output_type": "stream",
     "text": [
      "1/1 [==============================] - 9s 9s/step\n",
      "3/3 [==============================] - 3s 997ms/step\n"
     ]
    },
    {
     "name": "stderr",
     "output_type": "stream",
     "text": [
      " 12%|█▏        | 62/520 [14:46<1:41:15, 13.27s/it]"
     ]
    },
    {
     "name": "stdout",
     "output_type": "stream",
     "text": [
      "1/1 [==============================] - 9s 9s/step\n",
      "3/3 [==============================] - 2s 625ms/step\n"
     ]
    },
    {
     "name": "stderr",
     "output_type": "stream",
     "text": [
      " 12%|█▏        | 63/520 [14:58<1:37:02, 12.74s/it]"
     ]
    },
    {
     "name": "stdout",
     "output_type": "stream",
     "text": [
      "1/1 [==============================] - 9s 9s/step\n",
      "5/5 [==============================] - 4s 813ms/step\n"
     ]
    },
    {
     "name": "stderr",
     "output_type": "stream",
     "text": [
      " 12%|█▏        | 64/520 [15:12<1:39:18, 13.07s/it]"
     ]
    },
    {
     "name": "stdout",
     "output_type": "stream",
     "text": [
      "1/1 [==============================] - 9s 9s/step\n",
      "3/3 [==============================] - 3s 1s/step\n"
     ]
    },
    {
     "name": "stderr",
     "output_type": "stream",
     "text": [
      " 12%|█▎        | 65/520 [15:24<1:37:36, 12.87s/it]"
     ]
    },
    {
     "name": "stdout",
     "output_type": "stream",
     "text": [
      "1/1 [==============================] - 9s 9s/step\n",
      "5/5 [==============================] - 5s 936ms/step\n"
     ]
    },
    {
     "name": "stderr",
     "output_type": "stream",
     "text": [
      " 13%|█▎        | 66/520 [15:39<1:41:00, 13.35s/it]"
     ]
    },
    {
     "name": "stdout",
     "output_type": "stream",
     "text": [
      "1/1 [==============================] - 9s 9s/step\n",
      "4/4 [==============================] - 4s 949ms/step\n"
     ]
    },
    {
     "name": "stderr",
     "output_type": "stream",
     "text": [
      " 13%|█▎        | 67/520 [15:52<1:41:03, 13.38s/it]"
     ]
    },
    {
     "name": "stdout",
     "output_type": "stream",
     "text": [
      "1/1 [==============================] - 9s 9s/step\n",
      "4/4 [==============================] - 3s 750ms/step\n"
     ]
    },
    {
     "name": "stderr",
     "output_type": "stream",
     "text": [
      " 13%|█▎        | 68/520 [16:05<1:39:12, 13.17s/it]"
     ]
    },
    {
     "name": "stdout",
     "output_type": "stream",
     "text": [
      "1/1 [==============================] - 9s 9s/step\n",
      "4/4 [==============================] - 3s 832ms/step\n"
     ]
    },
    {
     "name": "stderr",
     "output_type": "stream",
     "text": [
      " 13%|█▎        | 69/520 [16:18<1:38:23, 13.09s/it]"
     ]
    },
    {
     "name": "stdout",
     "output_type": "stream",
     "text": [
      "1/1 [==============================] - 9s 9s/step\n",
      "3/3 [==============================] - 3s 942ms/step\n"
     ]
    },
    {
     "name": "stderr",
     "output_type": "stream",
     "text": [
      " 13%|█▎        | 70/520 [16:30<1:36:16, 12.84s/it]"
     ]
    },
    {
     "name": "stdout",
     "output_type": "stream",
     "text": [
      "1/1 [==============================] - 9s 9s/step\n",
      "6/6 [==============================] - 6s 1s/step\n"
     ]
    },
    {
     "name": "stderr",
     "output_type": "stream",
     "text": [
      " 14%|█▎        | 71/520 [16:46<1:42:57, 13.76s/it]"
     ]
    },
    {
     "name": "stdout",
     "output_type": "stream",
     "text": [
      "1/1 [==============================] - 9s 9s/step\n",
      "3/3 [==============================] - 3s 978ms/step\n"
     ]
    },
    {
     "name": "stderr",
     "output_type": "stream",
     "text": [
      " 14%|█▍        | 72/520 [16:58<1:39:28, 13.32s/it]"
     ]
    },
    {
     "name": "stdout",
     "output_type": "stream",
     "text": [
      "1/1 [==============================] - 9s 9s/step\n",
      "4/4 [==============================] - 4s 859ms/step\n"
     ]
    },
    {
     "name": "stderr",
     "output_type": "stream",
     "text": [
      " 14%|█▍        | 73/520 [17:11<1:38:38, 13.24s/it]"
     ]
    },
    {
     "name": "stdout",
     "output_type": "stream",
     "text": [
      "1/1 [==============================] - 9s 9s/step\n",
      "8/8 [==============================] - 8s 974ms/step\n"
     ]
    },
    {
     "name": "stderr",
     "output_type": "stream",
     "text": [
      " 14%|█▍        | 74/520 [17:29<1:48:44, 14.63s/it]"
     ]
    },
    {
     "name": "stdout",
     "output_type": "stream",
     "text": [
      "1/1 [==============================] - 9s 9s/step\n",
      "4/4 [==============================] - 3s 712ms/step\n"
     ]
    },
    {
     "name": "stderr",
     "output_type": "stream",
     "text": [
      " 14%|█▍        | 75/520 [17:42<1:43:49, 14.00s/it]"
     ]
    },
    {
     "name": "stdout",
     "output_type": "stream",
     "text": [
      "1/1 [==============================] - 9s 9s/step\n",
      "3/3 [==============================] - 2s 720ms/step\n"
     ]
    },
    {
     "name": "stderr",
     "output_type": "stream",
     "text": [
      " 15%|█▍        | 76/520 [17:53<1:38:26, 13.30s/it]"
     ]
    },
    {
     "name": "stdout",
     "output_type": "stream",
     "text": [
      "1/1 [==============================] - 9s 9s/step\n",
      "3/3 [==============================] - 3s 1s/step\n"
     ]
    },
    {
     "name": "stderr",
     "output_type": "stream",
     "text": [
      " 15%|█▍        | 77/520 [18:06<1:36:38, 13.09s/it]"
     ]
    },
    {
     "name": "stdout",
     "output_type": "stream",
     "text": [
      "1/1 [==============================] - 9s 9s/step\n",
      "5/5 [==============================] - 5s 906ms/step\n"
     ]
    },
    {
     "name": "stderr",
     "output_type": "stream",
     "text": [
      " 15%|█▌        | 78/520 [18:20<1:38:56, 13.43s/it]"
     ]
    },
    {
     "name": "stdout",
     "output_type": "stream",
     "text": [
      "1/1 [==============================] - 9s 9s/step\n",
      "5/5 [==============================] - 4s 849ms/step\n"
     ]
    },
    {
     "name": "stderr",
     "output_type": "stream",
     "text": [
      " 15%|█▌        | 79/520 [18:34<1:39:57, 13.60s/it]"
     ]
    },
    {
     "name": "stdout",
     "output_type": "stream",
     "text": [
      "1/1 [==============================] - 9s 9s/step\n",
      "5/5 [==============================] - 4s 803ms/step\n"
     ]
    },
    {
     "name": "stderr",
     "output_type": "stream",
     "text": [
      " 15%|█▌        | 80/520 [18:48<1:40:14, 13.67s/it]"
     ]
    },
    {
     "name": "stdout",
     "output_type": "stream",
     "text": [
      "1/1 [==============================] - 9s 9s/step\n",
      "4/4 [==============================] - 4s 843ms/step\n"
     ]
    },
    {
     "name": "stderr",
     "output_type": "stream",
     "text": [
      " 16%|█▌        | 81/520 [19:01<1:38:31, 13.47s/it]"
     ]
    },
    {
     "name": "stdout",
     "output_type": "stream",
     "text": [
      "1/1 [==============================] - 9s 9s/step\n",
      "3/3 [==============================] - 3s 957ms/step\n"
     ]
    },
    {
     "name": "stderr",
     "output_type": "stream",
     "text": [
      " 16%|█▌        | 82/520 [19:13<1:35:33, 13.09s/it]"
     ]
    },
    {
     "name": "stdout",
     "output_type": "stream",
     "text": [
      "1/1 [==============================] - 9s 9s/step\n",
      "5/5 [==============================] - 5s 963ms/step\n"
     ]
    },
    {
     "name": "stderr",
     "output_type": "stream",
     "text": [
      " 16%|█▌        | 83/520 [19:28<1:38:23, 13.51s/it]"
     ]
    },
    {
     "name": "stdout",
     "output_type": "stream",
     "text": [
      "1/1 [==============================] - 9s 9s/step\n",
      "7/7 [==============================] - 7s 948ms/step\n"
     ]
    },
    {
     "name": "stderr",
     "output_type": "stream",
     "text": [
      " 16%|█▌        | 84/520 [19:44<1:44:49, 14.43s/it]"
     ]
    },
    {
     "name": "stdout",
     "output_type": "stream",
     "text": [
      "1/1 [==============================] - 9s 9s/step\n",
      "7/7 [==============================] - 7s 922ms/step\n"
     ]
    },
    {
     "name": "stderr",
     "output_type": "stream",
     "text": [
      " 16%|█▋        | 85/520 [20:01<1:48:49, 15.01s/it]"
     ]
    },
    {
     "name": "stdout",
     "output_type": "stream",
     "text": [
      "1/1 [==============================] - 9s 9s/step\n",
      "4/4 [==============================] - 4s 998ms/step\n"
     ]
    },
    {
     "name": "stderr",
     "output_type": "stream",
     "text": [
      " 17%|█▋        | 86/520 [20:14<1:45:10, 14.54s/it]"
     ]
    },
    {
     "name": "stdout",
     "output_type": "stream",
     "text": [
      "1/1 [==============================] - 9s 9s/step\n",
      "5/5 [==============================] - 5s 964ms/step\n"
     ]
    },
    {
     "name": "stderr",
     "output_type": "stream",
     "text": [
      " 17%|█▋        | 87/520 [20:29<1:44:51, 14.53s/it]"
     ]
    },
    {
     "name": "stdout",
     "output_type": "stream",
     "text": [
      "1/1 [==============================] - 9s 9s/step\n",
      "3/3 [==============================] - 3s 827ms/step\n"
     ]
    },
    {
     "name": "stderr",
     "output_type": "stream",
     "text": [
      " 17%|█▋        | 88/520 [20:40<1:38:57, 13.75s/it]"
     ]
    },
    {
     "name": "stdout",
     "output_type": "stream",
     "text": [
      "1/1 [==============================] - 9s 9s/step\n",
      "3/3 [==============================] - 3s 1s/step\n"
     ]
    },
    {
     "name": "stderr",
     "output_type": "stream",
     "text": [
      " 17%|█▋        | 89/520 [20:53<1:35:51, 13.35s/it]"
     ]
    },
    {
     "name": "stdout",
     "output_type": "stream",
     "text": [
      "1/1 [==============================] - 9s 9s/step\n",
      "4/4 [==============================] - 3s 737ms/step\n"
     ]
    },
    {
     "name": "stderr",
     "output_type": "stream",
     "text": [
      " 17%|█▋        | 90/520 [21:06<1:34:08, 13.14s/it]"
     ]
    },
    {
     "name": "stdout",
     "output_type": "stream",
     "text": [
      "1/1 [==============================] - 9s 9s/step\n",
      "4/4 [==============================] - 3s 816ms/step\n"
     ]
    },
    {
     "name": "stderr",
     "output_type": "stream",
     "text": [
      " 18%|█▊        | 91/520 [21:18<1:33:20, 13.05s/it]"
     ]
    },
    {
     "name": "stdout",
     "output_type": "stream",
     "text": [
      "1/1 [==============================] - 9s 9s/step\n",
      "4/4 [==============================] - 3s 757ms/step\n"
     ]
    },
    {
     "name": "stderr",
     "output_type": "stream",
     "text": [
      " 18%|█▊        | 92/520 [21:31<1:32:18, 12.94s/it]"
     ]
    },
    {
     "name": "stdout",
     "output_type": "stream",
     "text": [
      "1/1 [==============================] - 9s 9s/step\n",
      "4/4 [==============================] - 4s 1s/step\n"
     ]
    },
    {
     "name": "stderr",
     "output_type": "stream",
     "text": [
      " 18%|█▊        | 93/520 [21:45<1:33:36, 13.15s/it]"
     ]
    },
    {
     "name": "stdout",
     "output_type": "stream",
     "text": [
      "1/1 [==============================] - 9s 9s/step\n",
      "2/2 [==============================] - 2s 921ms/step\n"
     ]
    },
    {
     "name": "stderr",
     "output_type": "stream",
     "text": [
      " 18%|█▊        | 94/520 [21:56<1:29:13, 12.57s/it]"
     ]
    },
    {
     "name": "stdout",
     "output_type": "stream",
     "text": [
      "1/1 [==============================] - 9s 9s/step\n",
      "3/3 [==============================] - 3s 859ms/step\n"
     ]
    },
    {
     "name": "stderr",
     "output_type": "stream",
     "text": [
      " 18%|█▊        | 95/520 [22:08<1:27:52, 12.41s/it]"
     ]
    },
    {
     "name": "stdout",
     "output_type": "stream",
     "text": [
      "1/1 [==============================] - 9s 9s/step\n",
      "2/2 [==============================] - 2s 847ms/step\n"
     ]
    },
    {
     "name": "stderr",
     "output_type": "stream",
     "text": [
      " 18%|█▊        | 96/520 [22:19<1:24:35, 11.97s/it]"
     ]
    },
    {
     "name": "stdout",
     "output_type": "stream",
     "text": [
      "1/1 [==============================] - 9s 9s/step\n",
      "2/2 [==============================] - 2s 906ms/step\n"
     ]
    },
    {
     "name": "stderr",
     "output_type": "stream",
     "text": [
      " 19%|█▊        | 97/520 [22:30<1:22:32, 11.71s/it]"
     ]
    },
    {
     "name": "stdout",
     "output_type": "stream",
     "text": [
      "1/1 [==============================] - 9s 9s/step\n",
      "4/4 [==============================] - 3s 701ms/step\n"
     ]
    },
    {
     "name": "stderr",
     "output_type": "stream",
     "text": [
      " 19%|█▉        | 98/520 [22:43<1:24:16, 11.98s/it]"
     ]
    },
    {
     "name": "stdout",
     "output_type": "stream",
     "text": [
      "1/1 [==============================] - 9s 9s/step\n",
      "4/4 [==============================] - 4s 856ms/step\n"
     ]
    },
    {
     "name": "stderr",
     "output_type": "stream",
     "text": [
      " 19%|█▉        | 99/520 [22:56<1:26:33, 12.34s/it]"
     ]
    },
    {
     "name": "stdout",
     "output_type": "stream",
     "text": [
      "1/1 [==============================] - 9s 9s/step\n",
      "3/3 [==============================] - 3s 1s/step\n"
     ]
    },
    {
     "name": "stderr",
     "output_type": "stream",
     "text": [
      " 19%|█▉        | 100/520 [23:08<1:26:28, 12.35s/it]"
     ]
    },
    {
     "name": "stdout",
     "output_type": "stream",
     "text": [
      "1/1 [==============================] - 9s 9s/step\n",
      "5/5 [==============================] - 5s 887ms/step\n"
     ]
    },
    {
     "name": "stderr",
     "output_type": "stream",
     "text": [
      " 19%|█▉        | 101/520 [23:22<1:30:07, 12.91s/it]"
     ]
    },
    {
     "name": "stdout",
     "output_type": "stream",
     "text": [
      "1/1 [==============================] - 9s 9s/step\n",
      "4/4 [==============================] - 4s 990ms/step\n"
     ]
    },
    {
     "name": "stderr",
     "output_type": "stream",
     "text": [
      " 20%|█▉        | 102/520 [23:36<1:31:12, 13.09s/it]"
     ]
    },
    {
     "name": "stdout",
     "output_type": "stream",
     "text": [
      "1/1 [==============================] - 9s 9s/step\n",
      "2/2 [==============================] - 2s 964ms/step\n"
     ]
    },
    {
     "name": "stderr",
     "output_type": "stream",
     "text": [
      " 20%|█▉        | 103/520 [23:47<1:27:10, 12.54s/it]"
     ]
    },
    {
     "name": "stdout",
     "output_type": "stream",
     "text": [
      "1/1 [==============================] - 9s 9s/step\n",
      "2/2 [==============================] - 2s 1s/step\n"
     ]
    },
    {
     "name": "stderr",
     "output_type": "stream",
     "text": [
      " 20%|██        | 104/520 [23:58<1:24:25, 12.18s/it]"
     ]
    },
    {
     "name": "stdout",
     "output_type": "stream",
     "text": [
      "1/1 [==============================] - 9s 9s/step\n",
      "5/5 [==============================] - 5s 993ms/step\n"
     ]
    },
    {
     "name": "stderr",
     "output_type": "stream",
     "text": [
      " 20%|██        | 105/520 [24:13<1:29:09, 12.89s/it]"
     ]
    },
    {
     "name": "stdout",
     "output_type": "stream",
     "text": [
      "1/1 [==============================] - 9s 9s/step\n",
      "2/2 [==============================] - 2s 697ms/step\n"
     ]
    },
    {
     "name": "stderr",
     "output_type": "stream",
     "text": [
      " 20%|██        | 106/520 [24:24<1:24:47, 12.29s/it]"
     ]
    },
    {
     "name": "stdout",
     "output_type": "stream",
     "text": [
      "1/1 [==============================] - 9s 9s/step\n",
      "5/5 [==============================] - 4s 797ms/step\n"
     ]
    },
    {
     "name": "stderr",
     "output_type": "stream",
     "text": [
      " 21%|██        | 107/520 [24:38<1:27:35, 12.72s/it]"
     ]
    },
    {
     "name": "stdout",
     "output_type": "stream",
     "text": [
      "1/1 [==============================] - 9s 9s/step\n",
      "4/4 [==============================] - 3s 719ms/step\n"
     ]
    },
    {
     "name": "stderr",
     "output_type": "stream",
     "text": [
      " 21%|██        | 108/520 [24:50<1:27:04, 12.68s/it]"
     ]
    },
    {
     "name": "stdout",
     "output_type": "stream",
     "text": [
      "1/1 [==============================] - 9s 9s/step\n",
      "3/3 [==============================] - 2s 566ms/step\n"
     ]
    },
    {
     "name": "stderr",
     "output_type": "stream",
     "text": [
      " 21%|██        | 109/520 [25:02<1:24:12, 12.29s/it]"
     ]
    },
    {
     "name": "stdout",
     "output_type": "stream",
     "text": [
      "1/1 [==============================] - 9s 9s/step\n",
      "2/2 [==============================] - 2s 927ms/step\n"
     ]
    },
    {
     "name": "stderr",
     "output_type": "stream",
     "text": [
      " 21%|██        | 110/520 [25:13<1:21:41, 11.95s/it]"
     ]
    },
    {
     "name": "stdout",
     "output_type": "stream",
     "text": [
      "1/1 [==============================] - 9s 9s/step\n",
      "4/4 [==============================] - 4s 868ms/step\n"
     ]
    },
    {
     "name": "stderr",
     "output_type": "stream",
     "text": [
      " 21%|██▏       | 111/520 [25:26<1:23:57, 12.32s/it]"
     ]
    },
    {
     "name": "stdout",
     "output_type": "stream",
     "text": [
      "1/1 [==============================] - 9s 9s/step\n",
      "5/5 [==============================] - 5s 1s/step\n"
     ]
    },
    {
     "name": "stderr",
     "output_type": "stream",
     "text": [
      " 22%|██▏       | 112/520 [25:41<1:28:53, 13.07s/it]"
     ]
    },
    {
     "name": "stdout",
     "output_type": "stream",
     "text": [
      "1/1 [==============================] - 9s 9s/step\n",
      "4/4 [==============================] - 4s 895ms/step\n"
     ]
    },
    {
     "name": "stderr",
     "output_type": "stream",
     "text": [
      " 22%|██▏       | 113/520 [25:54<1:28:50, 13.10s/it]"
     ]
    },
    {
     "name": "stdout",
     "output_type": "stream",
     "text": [
      "1/1 [==============================] - 9s 9s/step\n",
      "7/7 [==============================] - 7s 994ms/step\n"
     ]
    },
    {
     "name": "stderr",
     "output_type": "stream",
     "text": [
      " 22%|██▏       | 114/520 [26:11<1:36:23, 14.25s/it]"
     ]
    },
    {
     "name": "stdout",
     "output_type": "stream",
     "text": [
      "1/1 [==============================] - 9s 9s/step\n",
      "6/6 [==============================] - 5s 848ms/step\n"
     ]
    },
    {
     "name": "stderr",
     "output_type": "stream",
     "text": [
      " 22%|██▏       | 115/520 [26:26<1:37:36, 14.46s/it]"
     ]
    },
    {
     "name": "stdout",
     "output_type": "stream",
     "text": [
      "1/1 [==============================] - 9s 9s/step\n",
      "6/6 [==============================] - 5s 867ms/step\n"
     ]
    },
    {
     "name": "stderr",
     "output_type": "stream",
     "text": [
      " 22%|██▏       | 116/520 [26:41<1:38:52, 14.68s/it]"
     ]
    },
    {
     "name": "stdout",
     "output_type": "stream",
     "text": [
      "1/1 [==============================] - 9s 9s/step\n",
      "4/4 [==============================] - 4s 836ms/step\n"
     ]
    },
    {
     "name": "stderr",
     "output_type": "stream",
     "text": [
      " 22%|██▎       | 117/520 [26:54<1:35:14, 14.18s/it]"
     ]
    },
    {
     "name": "stdout",
     "output_type": "stream",
     "text": [
      "1/1 [==============================] - 9s 9s/step\n",
      "6/6 [==============================] - 6s 908ms/step\n"
     ]
    },
    {
     "name": "stderr",
     "output_type": "stream",
     "text": [
      " 23%|██▎       | 118/520 [27:09<1:37:10, 14.50s/it]"
     ]
    },
    {
     "name": "stdout",
     "output_type": "stream",
     "text": [
      "1/1 [==============================] - 9s 9s/step\n",
      "5/5 [==============================] - 4s 815ms/step\n"
     ]
    },
    {
     "name": "stderr",
     "output_type": "stream",
     "text": [
      " 23%|██▎       | 119/520 [27:23<1:35:34, 14.30s/it]"
     ]
    },
    {
     "name": "stdout",
     "output_type": "stream",
     "text": [
      "1/1 [==============================] - 9s 9s/step\n",
      "5/5 [==============================] - 5s 905ms/step\n"
     ]
    },
    {
     "name": "stderr",
     "output_type": "stream",
     "text": [
      " 23%|██▎       | 120/520 [27:37<1:35:13, 14.28s/it]"
     ]
    },
    {
     "name": "stdout",
     "output_type": "stream",
     "text": [
      "1/1 [==============================] - 9s 9s/step\n",
      "5/5 [==============================] - 4s 844ms/step\n"
     ]
    },
    {
     "name": "stderr",
     "output_type": "stream",
     "text": [
      " 23%|██▎       | 121/520 [27:51<1:34:17, 14.18s/it]"
     ]
    },
    {
     "name": "stdout",
     "output_type": "stream",
     "text": [
      "1/1 [==============================] - 9s 9s/step\n",
      "5/5 [==============================] - 5s 977ms/step\n"
     ]
    },
    {
     "name": "stderr",
     "output_type": "stream",
     "text": [
      " 23%|██▎       | 122/520 [28:06<1:34:54, 14.31s/it]"
     ]
    },
    {
     "name": "stdout",
     "output_type": "stream",
     "text": [
      "1/1 [==============================] - 9s 9s/step\n",
      "5/5 [==============================] - 5s 1s/step\n"
     ]
    },
    {
     "name": "stderr",
     "output_type": "stream",
     "text": [
      " 24%|██▎       | 123/520 [28:21<1:35:42, 14.46s/it]"
     ]
    },
    {
     "name": "stdout",
     "output_type": "stream",
     "text": [
      "1/1 [==============================] - 9s 9s/step\n",
      "5/5 [==============================] - 5s 1s/step\n"
     ]
    },
    {
     "name": "stderr",
     "output_type": "stream",
     "text": [
      " 24%|██▍       | 124/520 [28:36<1:36:11, 14.57s/it]"
     ]
    },
    {
     "name": "stdout",
     "output_type": "stream",
     "text": [
      "1/1 [==============================] - 9s 9s/step\n",
      "6/6 [==============================] - 6s 1s/step\n"
     ]
    },
    {
     "name": "stderr",
     "output_type": "stream",
     "text": [
      " 24%|██▍       | 125/520 [28:52<1:39:11, 15.07s/it]"
     ]
    },
    {
     "name": "stdout",
     "output_type": "stream",
     "text": [
      "1/1 [==============================] - 9s 9s/step\n",
      "5/5 [==============================] - 5s 954ms/step\n"
     ]
    },
    {
     "name": "stderr",
     "output_type": "stream",
     "text": [
      " 24%|██▍       | 126/520 [29:06<1:37:49, 14.90s/it]"
     ]
    },
    {
     "name": "stdout",
     "output_type": "stream",
     "text": [
      "1/1 [==============================] - 9s 9s/step\n",
      "6/6 [==============================] - 6s 1s/step\n"
     ]
    },
    {
     "name": "stderr",
     "output_type": "stream",
     "text": [
      " 24%|██▍       | 127/520 [29:22<1:39:21, 15.17s/it]"
     ]
    },
    {
     "name": "stdout",
     "output_type": "stream",
     "text": [
      "1/1 [==============================] - 9s 9s/step\n",
      "5/5 [==============================] - 5s 967ms/step\n"
     ]
    },
    {
     "name": "stderr",
     "output_type": "stream",
     "text": [
      " 25%|██▍       | 128/520 [29:37<1:37:55, 14.99s/it]"
     ]
    },
    {
     "name": "stdout",
     "output_type": "stream",
     "text": [
      "1/1 [==============================] - 9s 9s/step\n",
      "6/6 [==============================] - 5s 833ms/step\n"
     ]
    },
    {
     "name": "stderr",
     "output_type": "stream",
     "text": [
      " 25%|██▍       | 129/520 [29:51<1:37:21, 14.94s/it]"
     ]
    },
    {
     "name": "stdout",
     "output_type": "stream",
     "text": [
      "1/1 [==============================] - 9s 9s/step\n",
      "5/5 [==============================] - 4s 813ms/step\n"
     ]
    },
    {
     "name": "stderr",
     "output_type": "stream",
     "text": [
      " 25%|██▌       | 130/520 [30:05<1:34:57, 14.61s/it]"
     ]
    },
    {
     "name": "stdout",
     "output_type": "stream",
     "text": [
      "1/1 [==============================] - 9s 9s/step\n",
      "4/4 [==============================] - 3s 793ms/step\n"
     ]
    },
    {
     "name": "stderr",
     "output_type": "stream",
     "text": [
      " 25%|██▌       | 131/520 [30:18<1:31:21, 14.09s/it]"
     ]
    },
    {
     "name": "stdout",
     "output_type": "stream",
     "text": [
      "1/1 [==============================] - 9s 9s/step\n",
      "6/6 [==============================] - 5s 843ms/step\n"
     ]
    },
    {
     "name": "stderr",
     "output_type": "stream",
     "text": [
      " 25%|██▌       | 132/520 [30:33<1:32:43, 14.34s/it]"
     ]
    },
    {
     "name": "stdout",
     "output_type": "stream",
     "text": [
      "1/1 [==============================] - 9s 9s/step\n",
      "4/4 [==============================] - 4s 986ms/step\n"
     ]
    },
    {
     "name": "stderr",
     "output_type": "stream",
     "text": [
      " 26%|██▌       | 133/520 [30:47<1:30:45, 14.07s/it]"
     ]
    },
    {
     "name": "stdout",
     "output_type": "stream",
     "text": [
      "1/1 [==============================] - 9s 9s/step\n",
      "6/6 [==============================] - 6s 1s/step\n"
     ]
    },
    {
     "name": "stderr",
     "output_type": "stream",
     "text": [
      " 26%|██▌       | 134/520 [31:03<1:34:09, 14.63s/it]"
     ]
    },
    {
     "name": "stdout",
     "output_type": "stream",
     "text": [
      "1/1 [==============================] - 9s 9s/step\n",
      "5/5 [==============================] - 5s 880ms/step\n"
     ]
    },
    {
     "name": "stderr",
     "output_type": "stream",
     "text": [
      " 26%|██▌       | 135/520 [31:17<1:32:59, 14.49s/it]"
     ]
    },
    {
     "name": "stdout",
     "output_type": "stream",
     "text": [
      "1/1 [==============================] - 9s 9s/step\n",
      "4/4 [==============================] - 4s 989ms/step\n"
     ]
    },
    {
     "name": "stderr",
     "output_type": "stream",
     "text": [
      " 26%|██▌       | 136/520 [31:30<1:30:47, 14.19s/it]"
     ]
    },
    {
     "name": "stdout",
     "output_type": "stream",
     "text": [
      "1/1 [==============================] - 9s 9s/step\n",
      "4/4 [==============================] - 3s 823ms/step\n"
     ]
    },
    {
     "name": "stderr",
     "output_type": "stream",
     "text": [
      " 26%|██▋       | 137/520 [31:43<1:28:09, 13.81s/it]"
     ]
    },
    {
     "name": "stdout",
     "output_type": "stream",
     "text": [
      "1/1 [==============================] - 9s 9s/step\n",
      "6/6 [==============================] - 6s 940ms/step\n"
     ]
    },
    {
     "name": "stderr",
     "output_type": "stream",
     "text": [
      " 27%|██▋       | 138/520 [31:58<1:30:56, 14.28s/it]"
     ]
    },
    {
     "name": "stdout",
     "output_type": "stream",
     "text": [
      "1/1 [==============================] - 9s 9s/step\n",
      "5/5 [==============================] - 5s 928ms/step\n"
     ]
    },
    {
     "name": "stderr",
     "output_type": "stream",
     "text": [
      " 27%|██▋       | 139/520 [32:13<1:30:39, 14.28s/it]"
     ]
    },
    {
     "name": "stdout",
     "output_type": "stream",
     "text": [
      "1/1 [==============================] - 9s 9s/step\n",
      "5/5 [==============================] - 4s 874ms/step\n"
     ]
    },
    {
     "name": "stderr",
     "output_type": "stream",
     "text": [
      " 27%|██▋       | 140/520 [32:27<1:29:57, 14.20s/it]"
     ]
    },
    {
     "name": "stdout",
     "output_type": "stream",
     "text": [
      "1/1 [==============================] - 9s 9s/step\n",
      "6/6 [==============================] - 6s 999ms/step\n"
     ]
    },
    {
     "name": "stderr",
     "output_type": "stream",
     "text": [
      " 27%|██▋       | 141/520 [32:43<1:32:43, 14.68s/it]"
     ]
    },
    {
     "name": "stdout",
     "output_type": "stream",
     "text": [
      "1/1 [==============================] - 9s 9s/step\n",
      "4/4 [==============================] - 3s 801ms/step\n"
     ]
    },
    {
     "name": "stderr",
     "output_type": "stream",
     "text": [
      " 27%|██▋       | 142/520 [32:56<1:29:12, 14.16s/it]"
     ]
    },
    {
     "name": "stdout",
     "output_type": "stream",
     "text": [
      "1/1 [==============================] - 9s 9s/step\n",
      "5/5 [==============================] - 4s 796ms/step\n"
     ]
    },
    {
     "name": "stderr",
     "output_type": "stream",
     "text": [
      " 28%|██▊       | 143/520 [33:09<1:28:04, 14.02s/it]"
     ]
    },
    {
     "name": "stdout",
     "output_type": "stream",
     "text": [
      "1/1 [==============================] - 9s 9s/step\n",
      "7/7 [==============================] - 6s 887ms/step\n"
     ]
    },
    {
     "name": "stderr",
     "output_type": "stream",
     "text": [
      " 28%|██▊       | 144/520 [33:25<1:31:41, 14.63s/it]"
     ]
    },
    {
     "name": "stdout",
     "output_type": "stream",
     "text": [
      "1/1 [==============================] - 9s 9s/step\n",
      "7/7 [==============================] - 7s 1s/step\n"
     ]
    },
    {
     "name": "stderr",
     "output_type": "stream",
     "text": [
      " 28%|██▊       | 145/520 [33:42<1:35:35, 15.29s/it]"
     ]
    },
    {
     "name": "stdout",
     "output_type": "stream",
     "text": [
      "1/1 [==============================] - 9s 9s/step\n",
      "6/6 [==============================] - 5s 816ms/step\n"
     ]
    },
    {
     "name": "stderr",
     "output_type": "stream",
     "text": [
      " 28%|██▊       | 146/520 [33:57<1:34:13, 15.12s/it]"
     ]
    },
    {
     "name": "stdout",
     "output_type": "stream",
     "text": [
      "1/1 [==============================] - 9s 9s/step\n",
      "2/2 [==============================] - 2s 870ms/step\n"
     ]
    },
    {
     "name": "stderr",
     "output_type": "stream",
     "text": [
      " 28%|██▊       | 147/520 [34:08<1:26:08, 13.86s/it]"
     ]
    },
    {
     "name": "stdout",
     "output_type": "stream",
     "text": [
      "1/1 [==============================] - 9s 9s/step\n",
      "3/3 [==============================] - 2s 621ms/step\n"
     ]
    },
    {
     "name": "stderr",
     "output_type": "stream",
     "text": [
      " 28%|██▊       | 148/520 [34:19<1:21:09, 13.09s/it]"
     ]
    },
    {
     "name": "stdout",
     "output_type": "stream",
     "text": [
      "1/1 [==============================] - 9s 9s/step\n",
      "3/3 [==============================] - 3s 919ms/step\n"
     ]
    },
    {
     "name": "stderr",
     "output_type": "stream",
     "text": [
      " 29%|██▊       | 149/520 [34:31<1:18:50, 12.75s/it]"
     ]
    },
    {
     "name": "stdout",
     "output_type": "stream",
     "text": [
      "1/1 [==============================] - 9s 9s/step\n",
      "3/3 [==============================] - 2s 625ms/step\n"
     ]
    },
    {
     "name": "stderr",
     "output_type": "stream",
     "text": [
      " 29%|██▉       | 150/520 [34:42<1:15:58, 12.32s/it]"
     ]
    },
    {
     "name": "stdout",
     "output_type": "stream",
     "text": [
      "1/1 [==============================] - 9s 9s/step\n",
      "4/4 [==============================] - 3s 787ms/step\n"
     ]
    },
    {
     "name": "stderr",
     "output_type": "stream",
     "text": [
      " 29%|██▉       | 151/520 [34:55<1:16:14, 12.40s/it]"
     ]
    },
    {
     "name": "stdout",
     "output_type": "stream",
     "text": [
      "1/1 [==============================] - 9s 9s/step\n",
      "2/2 [==============================] - 2s 751ms/step\n"
     ]
    },
    {
     "name": "stderr",
     "output_type": "stream",
     "text": [
      " 29%|██▉       | 152/520 [35:06<1:13:00, 11.90s/it]"
     ]
    },
    {
     "name": "stdout",
     "output_type": "stream",
     "text": [
      "1/1 [==============================] - 9s 9s/step\n",
      "7/7 [==============================] - 7s 993ms/step\n"
     ]
    },
    {
     "name": "stderr",
     "output_type": "stream",
     "text": [
      " 29%|██▉       | 153/520 [35:22<1:21:52, 13.39s/it]"
     ]
    },
    {
     "name": "stdout",
     "output_type": "stream",
     "text": [
      "1/1 [==============================] - 9s 9s/step\n",
      "3/3 [==============================] - 2s 591ms/step\n"
     ]
    },
    {
     "name": "stderr",
     "output_type": "stream",
     "text": [
      " 30%|██▉       | 154/520 [35:34<1:17:49, 12.76s/it]"
     ]
    },
    {
     "name": "stdout",
     "output_type": "stream",
     "text": [
      "1/1 [==============================] - 9s 9s/step\n",
      "3/3 [==============================] - 2s 635ms/step\n"
     ]
    },
    {
     "name": "stderr",
     "output_type": "stream",
     "text": [
      " 30%|██▉       | 155/520 [35:45<1:15:05, 12.34s/it]"
     ]
    },
    {
     "name": "stdout",
     "output_type": "stream",
     "text": [
      "1/1 [==============================] - 8s 8s/step\n",
      "5/5 [==============================] - 4s 865ms/step\n"
     ]
    },
    {
     "name": "stderr",
     "output_type": "stream",
     "text": [
      " 30%|███       | 156/520 [35:59<1:17:37, 12.80s/it]"
     ]
    },
    {
     "name": "stdout",
     "output_type": "stream",
     "text": [
      "1/1 [==============================] - 9s 9s/step\n",
      "4/4 [==============================] - 4s 896ms/step\n"
     ]
    },
    {
     "name": "stderr",
     "output_type": "stream",
     "text": [
      " 30%|███       | 157/520 [36:12<1:17:44, 12.85s/it]"
     ]
    },
    {
     "name": "stdout",
     "output_type": "stream",
     "text": [
      "1/1 [==============================] - 9s 9s/step\n",
      "4/4 [==============================] - 4s 983ms/step\n"
     ]
    },
    {
     "name": "stderr",
     "output_type": "stream",
     "text": [
      " 30%|███       | 158/520 [36:25<1:18:16, 12.97s/it]"
     ]
    },
    {
     "name": "stdout",
     "output_type": "stream",
     "text": [
      "1/1 [==============================] - 9s 9s/step\n",
      "3/3 [==============================] - 3s 822ms/step\n"
     ]
    },
    {
     "name": "stderr",
     "output_type": "stream",
     "text": [
      " 31%|███       | 159/520 [36:37<1:16:04, 12.65s/it]"
     ]
    },
    {
     "name": "stdout",
     "output_type": "stream",
     "text": [
      "1/1 [==============================] - 9s 9s/step\n",
      "8/8 [==============================] - 7s 899ms/step\n"
     ]
    },
    {
     "name": "stderr",
     "output_type": "stream",
     "text": [
      " 31%|███       | 160/520 [36:54<1:24:07, 14.02s/it]"
     ]
    },
    {
     "name": "stdout",
     "output_type": "stream",
     "text": [
      "1/1 [==============================] - 9s 9s/step\n",
      "4/4 [==============================] - 3s 778ms/step\n"
     ]
    },
    {
     "name": "stderr",
     "output_type": "stream",
     "text": [
      " 31%|███       | 161/520 [37:07<1:21:33, 13.63s/it]"
     ]
    },
    {
     "name": "stdout",
     "output_type": "stream",
     "text": [
      "1/1 [==============================] - 9s 9s/step\n",
      "5/5 [==============================] - 5s 892ms/step\n"
     ]
    },
    {
     "name": "stderr",
     "output_type": "stream",
     "text": [
      " 31%|███       | 162/520 [37:21<1:21:58, 13.74s/it]"
     ]
    },
    {
     "name": "stdout",
     "output_type": "stream",
     "text": [
      "1/1 [==============================] - 9s 9s/step\n",
      "3/3 [==============================] - 3s 946ms/step\n"
     ]
    },
    {
     "name": "stderr",
     "output_type": "stream",
     "text": [
      " 31%|███▏      | 163/520 [37:33<1:18:48, 13.25s/it]"
     ]
    },
    {
     "name": "stdout",
     "output_type": "stream",
     "text": [
      "1/1 [==============================] - 9s 9s/step\n",
      "4/4 [==============================] - 3s 803ms/step\n"
     ]
    },
    {
     "name": "stderr",
     "output_type": "stream",
     "text": [
      " 32%|███▏      | 164/520 [37:46<1:17:38, 13.08s/it]"
     ]
    },
    {
     "name": "stdout",
     "output_type": "stream",
     "text": [
      "1/1 [==============================] - 9s 9s/step\n",
      "5/5 [==============================] - 4s 838ms/step\n"
     ]
    },
    {
     "name": "stderr",
     "output_type": "stream",
     "text": [
      " 32%|███▏      | 165/520 [38:00<1:18:47, 13.32s/it]"
     ]
    },
    {
     "name": "stdout",
     "output_type": "stream",
     "text": [
      "1/1 [==============================] - 9s 9s/step\n",
      "7/7 [==============================] - 6s 905ms/step\n"
     ]
    },
    {
     "name": "stderr",
     "output_type": "stream",
     "text": [
      " 32%|███▏      | 166/520 [38:16<1:24:08, 14.26s/it]"
     ]
    },
    {
     "name": "stdout",
     "output_type": "stream",
     "text": [
      "1/1 [==============================] - 9s 9s/step\n",
      "6/6 [==============================] - 6s 906ms/step\n"
     ]
    },
    {
     "name": "stderr",
     "output_type": "stream",
     "text": [
      " 32%|███▏      | 167/520 [38:32<1:26:09, 14.64s/it]"
     ]
    },
    {
     "name": "stdout",
     "output_type": "stream",
     "text": [
      "1/1 [==============================] - 9s 9s/step\n",
      "4/4 [==============================] - 4s 845ms/step\n"
     ]
    },
    {
     "name": "stderr",
     "output_type": "stream",
     "text": [
      " 32%|███▏      | 168/520 [38:45<1:23:22, 14.21s/it]"
     ]
    },
    {
     "name": "stdout",
     "output_type": "stream",
     "text": [
      "1/1 [==============================] - 8s 8s/step\n",
      "7/7 [==============================] - 6s 895ms/step\n"
     ]
    },
    {
     "name": "stderr",
     "output_type": "stream",
     "text": [
      " 32%|███▎      | 169/520 [39:01<1:26:18, 14.75s/it]"
     ]
    },
    {
     "name": "stdout",
     "output_type": "stream",
     "text": [
      "1/1 [==============================] - 9s 9s/step\n",
      "7/7 [==============================] - 6s 884ms/step\n"
     ]
    },
    {
     "name": "stderr",
     "output_type": "stream",
     "text": [
      " 33%|███▎      | 170/520 [39:17<1:28:37, 15.19s/it]"
     ]
    },
    {
     "name": "stdout",
     "output_type": "stream",
     "text": [
      "1/1 [==============================] - 8s 8s/step\n",
      "4/4 [==============================] - 4s 857ms/step\n"
     ]
    },
    {
     "name": "stderr",
     "output_type": "stream",
     "text": [
      " 33%|███▎      | 171/520 [39:30<1:24:00, 14.44s/it]"
     ]
    },
    {
     "name": "stdout",
     "output_type": "stream",
     "text": [
      "1/1 [==============================] - 8s 8s/step\n",
      "4/4 [==============================] - 3s 766ms/step\n"
     ]
    },
    {
     "name": "stderr",
     "output_type": "stream",
     "text": [
      " 33%|███▎      | 172/520 [39:42<1:20:18, 13.84s/it]"
     ]
    },
    {
     "name": "stdout",
     "output_type": "stream",
     "text": [
      "1/1 [==============================] - 8s 8s/step\n",
      "4/4 [==============================] - 4s 900ms/step\n"
     ]
    },
    {
     "name": "stderr",
     "output_type": "stream",
     "text": [
      " 33%|███▎      | 173/520 [39:55<1:18:19, 13.54s/it]"
     ]
    },
    {
     "name": "stdout",
     "output_type": "stream",
     "text": [
      "1/1 [==============================] - 8s 8s/step\n",
      "4/4 [==============================] - 3s 740ms/step\n"
     ]
    },
    {
     "name": "stderr",
     "output_type": "stream",
     "text": [
      " 33%|███▎      | 174/520 [40:07<1:15:55, 13.17s/it]"
     ]
    },
    {
     "name": "stdout",
     "output_type": "stream",
     "text": [
      "1/1 [==============================] - 8s 8s/step\n",
      "4/4 [==============================] - 4s 983ms/step\n"
     ]
    },
    {
     "name": "stderr",
     "output_type": "stream",
     "text": [
      " 34%|███▎      | 175/520 [40:21<1:15:38, 13.15s/it]"
     ]
    },
    {
     "name": "stdout",
     "output_type": "stream",
     "text": [
      "1/1 [==============================] - 8s 8s/step\n",
      "7/7 [==============================] - 6s 842ms/step\n"
     ]
    },
    {
     "name": "stderr",
     "output_type": "stream",
     "text": [
      " 34%|███▍      | 176/520 [40:36<1:19:38, 13.89s/it]"
     ]
    },
    {
     "name": "stdout",
     "output_type": "stream",
     "text": [
      "1/1 [==============================] - 8s 8s/step\n",
      "3/3 [==============================] - 2s 658ms/step\n"
     ]
    },
    {
     "name": "stderr",
     "output_type": "stream",
     "text": [
      " 34%|███▍      | 177/520 [40:47<1:14:50, 13.09s/it]"
     ]
    },
    {
     "name": "stdout",
     "output_type": "stream",
     "text": [
      "1/1 [==============================] - 8s 8s/step\n",
      "5/5 [==============================] - 5s 937ms/step\n"
     ]
    },
    {
     "name": "stderr",
     "output_type": "stream",
     "text": [
      " 34%|███▍      | 178/520 [41:01<1:16:15, 13.38s/it]"
     ]
    },
    {
     "name": "stdout",
     "output_type": "stream",
     "text": [
      "1/1 [==============================] - 8s 8s/step\n",
      "4/4 [==============================] - 3s 795ms/step\n"
     ]
    },
    {
     "name": "stderr",
     "output_type": "stream",
     "text": [
      " 34%|███▍      | 179/520 [41:14<1:14:33, 13.12s/it]"
     ]
    },
    {
     "name": "stdout",
     "output_type": "stream",
     "text": [
      "1/1 [==============================] - 8s 8s/step\n",
      "7/7 [==============================] - 6s 912ms/step\n"
     ]
    },
    {
     "name": "stderr",
     "output_type": "stream",
     "text": [
      " 35%|███▍      | 180/520 [41:30<1:19:19, 14.00s/it]"
     ]
    },
    {
     "name": "stdout",
     "output_type": "stream",
     "text": [
      "1/1 [==============================] - 8s 8s/step\n",
      "5/5 [==============================] - 5s 903ms/step\n"
     ]
    },
    {
     "name": "stderr",
     "output_type": "stream",
     "text": [
      " 35%|███▍      | 181/520 [41:44<1:19:03, 13.99s/it]"
     ]
    },
    {
     "name": "stdout",
     "output_type": "stream",
     "text": [
      "1/1 [==============================] - 8s 8s/step\n",
      "3/3 [==============================] - 3s 800ms/step\n"
     ]
    },
    {
     "name": "stderr",
     "output_type": "stream",
     "text": [
      " 35%|███▌      | 182/520 [41:56<1:14:44, 13.27s/it]"
     ]
    },
    {
     "name": "stdout",
     "output_type": "stream",
     "text": [
      "1/1 [==============================] - 8s 8s/step\n",
      "9/9 [==============================] - 8s 890ms/step\n"
     ]
    },
    {
     "name": "stderr",
     "output_type": "stream",
     "text": [
      " 35%|███▌      | 183/520 [42:14<1:22:27, 14.68s/it]"
     ]
    },
    {
     "name": "stdout",
     "output_type": "stream",
     "text": [
      "1/1 [==============================] - 8s 8s/step\n",
      "6/6 [==============================] - 5s 872ms/step\n"
     ]
    },
    {
     "name": "stderr",
     "output_type": "stream",
     "text": [
      " 35%|███▌      | 184/520 [42:28<1:22:30, 14.73s/it]"
     ]
    },
    {
     "name": "stdout",
     "output_type": "stream",
     "text": [
      "1/1 [==============================] - 8s 8s/step\n",
      "3/3 [==============================] - 3s 791ms/step\n"
     ]
    },
    {
     "name": "stderr",
     "output_type": "stream",
     "text": [
      " 36%|███▌      | 185/520 [42:40<1:16:57, 13.78s/it]"
     ]
    },
    {
     "name": "stdout",
     "output_type": "stream",
     "text": [
      "1/1 [==============================] - 8s 8s/step\n",
      "12/12 [==============================] - 11s 925ms/step\n"
     ]
    },
    {
     "name": "stderr",
     "output_type": "stream",
     "text": [
      " 36%|███▌      | 186/520 [43:01<1:29:39, 16.11s/it]"
     ]
    },
    {
     "name": "stdout",
     "output_type": "stream",
     "text": [
      "1/1 [==============================] - 8s 8s/step\n",
      "4/4 [==============================] - 4s 965ms/step\n"
     ]
    },
    {
     "name": "stderr",
     "output_type": "stream",
     "text": [
      " 36%|███▌      | 187/520 [43:15<1:24:27, 15.22s/it]"
     ]
    },
    {
     "name": "stdout",
     "output_type": "stream",
     "text": [
      "1/1 [==============================] - 9s 9s/step\n",
      "4/4 [==============================] - 3s 763ms/step\n"
     ]
    },
    {
     "name": "stderr",
     "output_type": "stream",
     "text": [
      " 36%|███▌      | 188/520 [43:27<1:19:57, 14.45s/it]"
     ]
    },
    {
     "name": "stdout",
     "output_type": "stream",
     "text": [
      "1/1 [==============================] - 9s 9s/step\n",
      "2/2 [==============================] - 2s 1s/step\n"
     ]
    },
    {
     "name": "stderr",
     "output_type": "stream",
     "text": [
      " 36%|███▋      | 189/520 [43:38<1:14:18, 13.47s/it]"
     ]
    },
    {
     "name": "stdout",
     "output_type": "stream",
     "text": [
      "1/1 [==============================] - 9s 9s/step\n",
      "4/4 [==============================] - 3s 693ms/step\n"
     ]
    },
    {
     "name": "stderr",
     "output_type": "stream",
     "text": [
      " 37%|███▋      | 190/520 [43:51<1:12:35, 13.20s/it]"
     ]
    },
    {
     "name": "stdout",
     "output_type": "stream",
     "text": [
      "1/1 [==============================] - 8s 8s/step\n",
      "5/5 [==============================] - 5s 926ms/step\n"
     ]
    },
    {
     "name": "stderr",
     "output_type": "stream",
     "text": [
      " 37%|███▋      | 191/520 [44:05<1:13:39, 13.43s/it]"
     ]
    },
    {
     "name": "stdout",
     "output_type": "stream",
     "text": [
      "1/1 [==============================] - 8s 8s/step\n",
      "5/5 [==============================] - 4s 788ms/step\n"
     ]
    },
    {
     "name": "stderr",
     "output_type": "stream",
     "text": [
      " 37%|███▋      | 192/520 [44:18<1:13:13, 13.40s/it]"
     ]
    },
    {
     "name": "stdout",
     "output_type": "stream",
     "text": [
      "1/1 [==============================] - 8s 8s/step\n",
      "4/4 [==============================] - 4s 976ms/step\n"
     ]
    },
    {
     "name": "stderr",
     "output_type": "stream",
     "text": [
      " 37%|███▋      | 193/520 [44:31<1:12:26, 13.29s/it]"
     ]
    },
    {
     "name": "stdout",
     "output_type": "stream",
     "text": [
      "1/1 [==============================] - 8s 8s/step\n",
      "4/4 [==============================] - 3s 673ms/step\n"
     ]
    },
    {
     "name": "stderr",
     "output_type": "stream",
     "text": [
      " 37%|███▋      | 194/520 [44:43<1:10:14, 12.93s/it]"
     ]
    },
    {
     "name": "stdout",
     "output_type": "stream",
     "text": [
      "1/1 [==============================] - 8s 8s/step\n",
      "7/7 [==============================] - 6s 914ms/step\n"
     ]
    },
    {
     "name": "stderr",
     "output_type": "stream",
     "text": [
      " 38%|███▊      | 195/520 [44:59<1:14:58, 13.84s/it]"
     ]
    },
    {
     "name": "stdout",
     "output_type": "stream",
     "text": [
      "1/1 [==============================] - 8s 8s/step\n",
      "6/6 [==============================] - 6s 943ms/step\n"
     ]
    },
    {
     "name": "stderr",
     "output_type": "stream",
     "text": [
      " 38%|███▊      | 196/520 [45:15<1:16:53, 14.24s/it]"
     ]
    },
    {
     "name": "stdout",
     "output_type": "stream",
     "text": [
      "1/1 [==============================] - 8s 8s/step\n",
      "6/6 [==============================] - 6s 950ms/step\n"
     ]
    },
    {
     "name": "stderr",
     "output_type": "stream",
     "text": [
      " 38%|███▊      | 197/520 [45:30<1:18:14, 14.53s/it]"
     ]
    },
    {
     "name": "stdout",
     "output_type": "stream",
     "text": [
      "1/1 [==============================] - 8s 8s/step\n",
      "4/4 [==============================] - 3s 789ms/step\n"
     ]
    },
    {
     "name": "stderr",
     "output_type": "stream",
     "text": [
      " 38%|███▊      | 198/520 [45:42<1:14:39, 13.91s/it]"
     ]
    },
    {
     "name": "stdout",
     "output_type": "stream",
     "text": [
      "1/1 [==============================] - 8s 8s/step\n",
      "5/5 [==============================] - 5s 955ms/step\n"
     ]
    },
    {
     "name": "stderr",
     "output_type": "stream",
     "text": [
      " 38%|███▊      | 199/520 [45:56<1:14:48, 13.98s/it]"
     ]
    },
    {
     "name": "stdout",
     "output_type": "stream",
     "text": [
      "1/1 [==============================] - 8s 8s/step\n",
      "4/4 [==============================] - 3s 684ms/step\n"
     ]
    },
    {
     "name": "stderr",
     "output_type": "stream",
     "text": [
      " 38%|███▊      | 200/520 [46:09<1:11:34, 13.42s/it]"
     ]
    },
    {
     "name": "stdout",
     "output_type": "stream",
     "text": [
      "1/1 [==============================] - 8s 8s/step\n",
      "6/6 [==============================] - 6s 994ms/step\n"
     ]
    },
    {
     "name": "stderr",
     "output_type": "stream",
     "text": [
      " 39%|███▊      | 201/520 [46:24<1:14:34, 14.03s/it]"
     ]
    },
    {
     "name": "stdout",
     "output_type": "stream",
     "text": [
      "1/1 [==============================] - 8s 8s/step\n",
      "6/6 [==============================] - 5s 864ms/step\n"
     ]
    },
    {
     "name": "stderr",
     "output_type": "stream",
     "text": [
      " 39%|███▉      | 202/520 [46:39<1:15:32, 14.25s/it]"
     ]
    },
    {
     "name": "stdout",
     "output_type": "stream",
     "text": [
      "1/1 [==============================] - 8s 8s/step\n",
      "5/5 [==============================] - 4s 810ms/step\n"
     ]
    },
    {
     "name": "stderr",
     "output_type": "stream",
     "text": [
      " 39%|███▉      | 203/520 [46:52<1:14:09, 14.04s/it]"
     ]
    },
    {
     "name": "stdout",
     "output_type": "stream",
     "text": [
      "1/1 [==============================] - 8s 8s/step\n",
      "4/4 [==============================] - 4s 975ms/step\n"
     ]
    },
    {
     "name": "stderr",
     "output_type": "stream",
     "text": [
      " 39%|███▉      | 204/520 [47:05<1:12:28, 13.76s/it]"
     ]
    },
    {
     "name": "stdout",
     "output_type": "stream",
     "text": [
      "1/1 [==============================] - 8s 8s/step\n",
      "1/1 [==============================] - 1s 695ms/step\n"
     ]
    },
    {
     "name": "stderr",
     "output_type": "stream",
     "text": [
      " 39%|███▉      | 205/520 [47:15<1:05:23, 12.45s/it]"
     ]
    },
    {
     "name": "stdout",
     "output_type": "stream",
     "text": [
      "1/1 [==============================] - 8s 8s/step\n",
      "5/5 [==============================] - 4s 837ms/step\n"
     ]
    },
    {
     "name": "stderr",
     "output_type": "stream",
     "text": [
      " 40%|███▉      | 206/520 [47:28<1:06:58, 12.80s/it]"
     ]
    },
    {
     "name": "stdout",
     "output_type": "stream",
     "text": [
      "1/1 [==============================] - 8s 8s/step\n",
      "7/7 [==============================] - 7s 957ms/step\n"
     ]
    },
    {
     "name": "stderr",
     "output_type": "stream",
     "text": [
      " 40%|███▉      | 207/520 [47:45<1:12:22, 13.87s/it]"
     ]
    },
    {
     "name": "stdout",
     "output_type": "stream",
     "text": [
      "1/1 [==============================] - 8s 8s/step\n",
      "3/3 [==============================] - 3s 834ms/step\n"
     ]
    },
    {
     "name": "stderr",
     "output_type": "stream",
     "text": [
      " 40%|████      | 208/520 [47:56<1:08:42, 13.21s/it]"
     ]
    },
    {
     "name": "stdout",
     "output_type": "stream",
     "text": [
      "1/1 [==============================] - 8s 8s/step\n",
      "5/5 [==============================] - 5s 901ms/step\n"
     ]
    },
    {
     "name": "stderr",
     "output_type": "stream",
     "text": [
      " 40%|████      | 209/520 [48:10<1:09:36, 13.43s/it]"
     ]
    },
    {
     "name": "stdout",
     "output_type": "stream",
     "text": [
      "1/1 [==============================] - 8s 8s/step\n",
      "5/5 [==============================] - 5s 932ms/step\n"
     ]
    },
    {
     "name": "stderr",
     "output_type": "stream",
     "text": [
      " 40%|████      | 210/520 [48:24<1:10:24, 13.63s/it]"
     ]
    },
    {
     "name": "stdout",
     "output_type": "stream",
     "text": [
      "1/1 [==============================] - 8s 8s/step\n",
      "9/9 [==============================] - 8s 940ms/step\n"
     ]
    },
    {
     "name": "stderr",
     "output_type": "stream",
     "text": [
      " 41%|████      | 211/520 [48:43<1:17:39, 15.08s/it]"
     ]
    },
    {
     "name": "stdout",
     "output_type": "stream",
     "text": [
      "1/1 [==============================] - 8s 8s/step\n",
      "2/2 [==============================] - 2s 622ms/step\n"
     ]
    },
    {
     "name": "stderr",
     "output_type": "stream",
     "text": [
      " 41%|████      | 212/520 [48:54<1:10:26, 13.72s/it]"
     ]
    },
    {
     "name": "stdout",
     "output_type": "stream",
     "text": [
      "1/1 [==============================] - 8s 8s/step\n",
      "4/4 [==============================] - 4s 924ms/step\n"
     ]
    },
    {
     "name": "stderr",
     "output_type": "stream",
     "text": [
      " 41%|████      | 213/520 [49:06<1:09:01, 13.49s/it]"
     ]
    },
    {
     "name": "stdout",
     "output_type": "stream",
     "text": [
      "1/1 [==============================] - 8s 8s/step\n",
      "5/5 [==============================] - 4s 800ms/step\n"
     ]
    },
    {
     "name": "stderr",
     "output_type": "stream",
     "text": [
      " 41%|████      | 214/520 [49:20<1:08:38, 13.46s/it]"
     ]
    },
    {
     "name": "stdout",
     "output_type": "stream",
     "text": [
      "1/1 [==============================] - 8s 8s/step\n",
      "7/7 [==============================] - 7s 1000ms/step\n"
     ]
    },
    {
     "name": "stderr",
     "output_type": "stream",
     "text": [
      " 41%|████▏     | 215/520 [49:37<1:13:25, 14.44s/it]"
     ]
    },
    {
     "name": "stdout",
     "output_type": "stream",
     "text": [
      "1/1 [==============================] - 9s 9s/step\n",
      "8/8 [==============================] - 8s 958ms/step\n"
     ]
    },
    {
     "name": "stderr",
     "output_type": "stream",
     "text": [
      " 42%|████▏     | 216/520 [49:54<1:18:06, 15.42s/it]"
     ]
    },
    {
     "name": "stdout",
     "output_type": "stream",
     "text": [
      "1/1 [==============================] - 9s 9s/step\n",
      "5/5 [==============================] - 5s 906ms/step\n"
     ]
    },
    {
     "name": "stderr",
     "output_type": "stream",
     "text": [
      " 42%|████▏     | 217/520 [50:08<1:15:51, 15.02s/it]"
     ]
    },
    {
     "name": "stdout",
     "output_type": "stream",
     "text": [
      "1/1 [==============================] - 8s 8s/step\n",
      "4/4 [==============================] - 3s 816ms/step\n"
     ]
    },
    {
     "name": "stderr",
     "output_type": "stream",
     "text": [
      " 42%|████▏     | 218/520 [50:21<1:11:59, 14.30s/it]"
     ]
    },
    {
     "name": "stdout",
     "output_type": "stream",
     "text": [
      "1/1 [==============================] - 9s 9s/step\n",
      "3/3 [==============================] - 3s 911ms/step\n"
     ]
    },
    {
     "name": "stderr",
     "output_type": "stream",
     "text": [
      " 42%|████▏     | 219/520 [50:33<1:08:35, 13.67s/it]"
     ]
    },
    {
     "name": "stdout",
     "output_type": "stream",
     "text": [
      "1/1 [==============================] - 9s 9s/step\n",
      "8/8 [==============================] - 7s 910ms/step\n"
     ]
    },
    {
     "name": "stderr",
     "output_type": "stream",
     "text": [
      " 42%|████▏     | 220/520 [50:50<1:13:42, 14.74s/it]"
     ]
    },
    {
     "name": "stdout",
     "output_type": "stream",
     "text": [
      "1/1 [==============================] - 8s 8s/step\n",
      "7/7 [==============================] - 7s 995ms/step\n"
     ]
    },
    {
     "name": "stderr",
     "output_type": "stream",
     "text": [
      " 42%|████▎     | 221/520 [51:07<1:16:14, 15.30s/it]"
     ]
    },
    {
     "name": "stdout",
     "output_type": "stream",
     "text": [
      "1/1 [==============================] - 8s 8s/step\n",
      "4/4 [==============================] - 3s 788ms/step\n"
     ]
    },
    {
     "name": "stderr",
     "output_type": "stream",
     "text": [
      " 43%|████▎     | 222/520 [51:19<1:11:45, 14.45s/it]"
     ]
    },
    {
     "name": "stdout",
     "output_type": "stream",
     "text": [
      "1/1 [==============================] - 9s 9s/step\n",
      "4/4 [==============================] - 3s 750ms/step\n"
     ]
    },
    {
     "name": "stderr",
     "output_type": "stream",
     "text": [
      " 43%|████▎     | 223/520 [51:32<1:08:38, 13.87s/it]"
     ]
    },
    {
     "name": "stdout",
     "output_type": "stream",
     "text": [
      "1/1 [==============================] - 9s 9s/step\n",
      "3/3 [==============================] - 3s 883ms/step\n"
     ]
    },
    {
     "name": "stderr",
     "output_type": "stream",
     "text": [
      " 43%|████▎     | 224/520 [51:44<1:05:48, 13.34s/it]"
     ]
    },
    {
     "name": "stdout",
     "output_type": "stream",
     "text": [
      "1/1 [==============================] - 9s 9s/step\n",
      "3/3 [==============================] - 3s 891ms/step\n"
     ]
    },
    {
     "name": "stderr",
     "output_type": "stream",
     "text": [
      " 43%|████▎     | 225/520 [51:57<1:04:11, 13.06s/it]"
     ]
    },
    {
     "name": "stdout",
     "output_type": "stream",
     "text": [
      "1/1 [==============================] - 9s 9s/step\n",
      "3/3 [==============================] - 3s 1s/step\n"
     ]
    },
    {
     "name": "stderr",
     "output_type": "stream",
     "text": [
      " 43%|████▎     | 226/520 [52:09<1:03:06, 12.88s/it]"
     ]
    },
    {
     "name": "stdout",
     "output_type": "stream",
     "text": [
      "1/1 [==============================] - 9s 9s/step\n",
      "3/3 [==============================] - 3s 807ms/step\n"
     ]
    },
    {
     "name": "stderr",
     "output_type": "stream",
     "text": [
      " 44%|████▎     | 227/520 [52:21<1:02:04, 12.71s/it]"
     ]
    },
    {
     "name": "stdout",
     "output_type": "stream",
     "text": [
      "1/1 [==============================] - 9s 9s/step\n",
      "3/3 [==============================] - 2s 725ms/step\n"
     ]
    },
    {
     "name": "stderr",
     "output_type": "stream",
     "text": [
      " 44%|████▍     | 228/520 [52:33<1:00:20, 12.40s/it]"
     ]
    },
    {
     "name": "stdout",
     "output_type": "stream",
     "text": [
      "1/1 [==============================] - 9s 9s/step\n",
      "6/6 [==============================] - 5s 871ms/step\n"
     ]
    },
    {
     "name": "stderr",
     "output_type": "stream",
     "text": [
      " 44%|████▍     | 229/520 [52:48<1:03:54, 13.18s/it]"
     ]
    },
    {
     "name": "stdout",
     "output_type": "stream",
     "text": [
      "1/1 [==============================] - 8s 8s/step\n",
      "3/3 [==============================] - 2s 619ms/step\n"
     ]
    },
    {
     "name": "stderr",
     "output_type": "stream",
     "text": [
      " 44%|████▍     | 230/520 [52:59<1:00:51, 12.59s/it]"
     ]
    },
    {
     "name": "stdout",
     "output_type": "stream",
     "text": [
      "1/1 [==============================] - 9s 9s/step\n",
      "3/3 [==============================] - 3s 937ms/step\n"
     ]
    },
    {
     "name": "stderr",
     "output_type": "stream",
     "text": [
      " 44%|████▍     | 231/520 [53:11<1:00:13, 12.50s/it]"
     ]
    },
    {
     "name": "stdout",
     "output_type": "stream",
     "text": [
      "1/1 [==============================] - 9s 9s/step\n",
      "3/3 [==============================] - 3s 895ms/step\n"
     ]
    },
    {
     "name": "stderr",
     "output_type": "stream",
     "text": [
      " 45%|████▍     | 232/520 [53:24<59:29, 12.40s/it]  "
     ]
    },
    {
     "name": "stdout",
     "output_type": "stream",
     "text": [
      "1/1 [==============================] - 9s 9s/step\n",
      "4/4 [==============================] - 4s 944ms/step\n"
     ]
    },
    {
     "name": "stderr",
     "output_type": "stream",
     "text": [
      " 45%|████▍     | 233/520 [53:37<1:00:46, 12.71s/it]"
     ]
    },
    {
     "name": "stdout",
     "output_type": "stream",
     "text": [
      "1/1 [==============================] - 9s 9s/step\n",
      "3/3 [==============================] - 2s 648ms/step\n"
     ]
    },
    {
     "name": "stderr",
     "output_type": "stream",
     "text": [
      " 45%|████▌     | 234/520 [53:49<58:51, 12.35s/it]  "
     ]
    },
    {
     "name": "stdout",
     "output_type": "stream",
     "text": [
      "1/1 [==============================] - 8s 8s/step\n",
      "2/2 [==============================] - 2s 1s/step\n"
     ]
    },
    {
     "name": "stderr",
     "output_type": "stream",
     "text": [
      " 45%|████▌     | 235/520 [54:00<56:45, 11.95s/it]"
     ]
    },
    {
     "name": "stdout",
     "output_type": "stream",
     "text": [
      "1/1 [==============================] - 9s 9s/step\n",
      "3/3 [==============================] - 3s 900ms/step\n"
     ]
    },
    {
     "name": "stderr",
     "output_type": "stream",
     "text": [
      " 45%|████▌     | 236/520 [54:12<56:45, 11.99s/it]"
     ]
    },
    {
     "name": "stdout",
     "output_type": "stream",
     "text": [
      "1/1 [==============================] - 9s 9s/step\n",
      "4/4 [==============================] - 4s 974ms/step\n"
     ]
    },
    {
     "name": "stderr",
     "output_type": "stream",
     "text": [
      " 46%|████▌     | 237/520 [54:25<58:23, 12.38s/it]"
     ]
    },
    {
     "name": "stdout",
     "output_type": "stream",
     "text": [
      "1/1 [==============================] - 8s 8s/step\n",
      "5/5 [==============================] - 4s 804ms/step\n"
     ]
    },
    {
     "name": "stderr",
     "output_type": "stream",
     "text": [
      " 46%|████▌     | 238/520 [54:38<59:40, 12.70s/it]"
     ]
    },
    {
     "name": "stdout",
     "output_type": "stream",
     "text": [
      "1/1 [==============================] - 9s 9s/step\n",
      "6/6 [==============================] - 6s 994ms/step\n"
     ]
    },
    {
     "name": "stderr",
     "output_type": "stream",
     "text": [
      " 46%|████▌     | 239/520 [54:54<1:03:36, 13.58s/it]"
     ]
    },
    {
     "name": "stdout",
     "output_type": "stream",
     "text": [
      "1/1 [==============================] - 8s 8s/step\n",
      "3/3 [==============================] - 3s 969ms/step\n"
     ]
    },
    {
     "name": "stderr",
     "output_type": "stream",
     "text": [
      " 46%|████▌     | 240/520 [55:06<1:01:09, 13.11s/it]"
     ]
    },
    {
     "name": "stdout",
     "output_type": "stream",
     "text": [
      "1/1 [==============================] - 8s 8s/step\n",
      "4/4 [==============================] - 4s 924ms/step\n"
     ]
    },
    {
     "name": "stderr",
     "output_type": "stream",
     "text": [
      " 46%|████▋     | 241/520 [55:19<1:00:42, 13.06s/it]"
     ]
    },
    {
     "name": "stdout",
     "output_type": "stream",
     "text": [
      "1/1 [==============================] - 8s 8s/step\n",
      "3/3 [==============================] - 3s 950ms/step\n"
     ]
    },
    {
     "name": "stderr",
     "output_type": "stream",
     "text": [
      " 47%|████▋     | 242/520 [55:31<59:01, 12.74s/it]  "
     ]
    },
    {
     "name": "stdout",
     "output_type": "stream",
     "text": [
      "1/1 [==============================] - 9s 9s/step\n",
      "5/5 [==============================] - 5s 938ms/step\n"
     ]
    },
    {
     "name": "stderr",
     "output_type": "stream",
     "text": [
      " 47%|████▋     | 243/520 [55:45<1:00:53, 13.19s/it]"
     ]
    },
    {
     "name": "stdout",
     "output_type": "stream",
     "text": [
      "1/1 [==============================] - 9s 9s/step\n",
      "7/7 [==============================] - 6s 897ms/step\n"
     ]
    },
    {
     "name": "stderr",
     "output_type": "stream",
     "text": [
      " 47%|████▋     | 244/520 [56:02<1:05:10, 14.17s/it]"
     ]
    },
    {
     "name": "stdout",
     "output_type": "stream",
     "text": [
      "1/1 [==============================] - 9s 9s/step\n",
      "3/3 [==============================] - 3s 967ms/step\n"
     ]
    },
    {
     "name": "stderr",
     "output_type": "stream",
     "text": [
      " 47%|████▋     | 245/520 [56:14<1:02:16, 13.59s/it]"
     ]
    },
    {
     "name": "stdout",
     "output_type": "stream",
     "text": [
      "1/1 [==============================] - 9s 9s/step\n",
      "4/4 [==============================] - 3s 723ms/step\n"
     ]
    },
    {
     "name": "stderr",
     "output_type": "stream",
     "text": [
      " 47%|████▋     | 246/520 [56:26<1:00:35, 13.27s/it]"
     ]
    },
    {
     "name": "stdout",
     "output_type": "stream",
     "text": [
      "1/1 [==============================] - 9s 9s/step\n",
      "6/6 [==============================] - 6s 1s/step\n"
     ]
    },
    {
     "name": "stderr",
     "output_type": "stream",
     "text": [
      " 48%|████▊     | 247/520 [56:42<1:03:46, 14.02s/it]"
     ]
    },
    {
     "name": "stdout",
     "output_type": "stream",
     "text": [
      "1/1 [==============================] - 9s 9s/step\n",
      "4/4 [==============================] - 3s 750ms/step\n"
     ]
    },
    {
     "name": "stderr",
     "output_type": "stream",
     "text": [
      " 48%|████▊     | 248/520 [56:55<1:01:34, 13.58s/it]"
     ]
    },
    {
     "name": "stdout",
     "output_type": "stream",
     "text": [
      "1/1 [==============================] - 9s 9s/step\n",
      "5/5 [==============================] - 5s 892ms/step\n"
     ]
    },
    {
     "name": "stderr",
     "output_type": "stream",
     "text": [
      " 48%|████▊     | 249/520 [57:09<1:02:07, 13.76s/it]"
     ]
    },
    {
     "name": "stdout",
     "output_type": "stream",
     "text": [
      "1/1 [==============================] - 9s 9s/step\n",
      "5/5 [==============================] - 5s 995ms/step\n"
     ]
    },
    {
     "name": "stderr",
     "output_type": "stream",
     "text": [
      " 48%|████▊     | 250/520 [57:24<1:03:01, 14.01s/it]"
     ]
    },
    {
     "name": "stdout",
     "output_type": "stream",
     "text": [
      "1/1 [==============================] - 9s 9s/step\n",
      "5/5 [==============================] - 5s 1s/step\n"
     ]
    },
    {
     "name": "stderr",
     "output_type": "stream",
     "text": [
      " 48%|████▊     | 251/520 [57:38<1:03:36, 14.19s/it]"
     ]
    },
    {
     "name": "stdout",
     "output_type": "stream",
     "text": [
      "1/1 [==============================] - 9s 9s/step\n",
      "4/4 [==============================] - 4s 856ms/step\n"
     ]
    },
    {
     "name": "stderr",
     "output_type": "stream",
     "text": [
      " 48%|████▊     | 252/520 [57:51<1:01:40, 13.81s/it]"
     ]
    },
    {
     "name": "stdout",
     "output_type": "stream",
     "text": [
      "1/1 [==============================] - 9s 9s/step\n",
      "4/4 [==============================] - 3s 831ms/step\n"
     ]
    },
    {
     "name": "stderr",
     "output_type": "stream",
     "text": [
      " 49%|████▊     | 253/520 [58:04<1:00:21, 13.56s/it]"
     ]
    },
    {
     "name": "stdout",
     "output_type": "stream",
     "text": [
      "1/1 [==============================] - 9s 9s/step\n",
      "5/5 [==============================] - 5s 911ms/step\n"
     ]
    },
    {
     "name": "stderr",
     "output_type": "stream",
     "text": [
      " 49%|████▉     | 254/520 [58:18<1:01:04, 13.77s/it]"
     ]
    },
    {
     "name": "stdout",
     "output_type": "stream",
     "text": [
      "1/1 [==============================] - 9s 9s/step\n",
      "4/4 [==============================] - 3s 822ms/step\n"
     ]
    },
    {
     "name": "stderr",
     "output_type": "stream",
     "text": [
      " 49%|████▉     | 255/520 [58:31<59:40, 13.51s/it]  "
     ]
    },
    {
     "name": "stdout",
     "output_type": "stream",
     "text": [
      "1/1 [==============================] - 9s 9s/step\n",
      "8/8 [==============================] - 8s 1s/step\n"
     ]
    },
    {
     "name": "stderr",
     "output_type": "stream",
     "text": [
      " 49%|████▉     | 256/520 [58:50<1:05:52, 14.97s/it]"
     ]
    },
    {
     "name": "stdout",
     "output_type": "stream",
     "text": [
      "1/1 [==============================] - 9s 9s/step\n",
      "8/8 [==============================] - 8s 985ms/step\n"
     ]
    },
    {
     "name": "stderr",
     "output_type": "stream",
     "text": [
      " 49%|████▉     | 257/520 [59:08<1:10:06, 15.99s/it]"
     ]
    },
    {
     "name": "stdout",
     "output_type": "stream",
     "text": [
      "1/1 [==============================] - 9s 9s/step\n",
      "3/3 [==============================] - 3s 899ms/step\n"
     ]
    },
    {
     "name": "stderr",
     "output_type": "stream",
     "text": [
      " 50%|████▉     | 258/520 [59:20<1:04:56, 14.87s/it]"
     ]
    },
    {
     "name": "stdout",
     "output_type": "stream",
     "text": [
      "1/1 [==============================] - 9s 9s/step\n",
      "4/4 [==============================] - 4s 856ms/step\n"
     ]
    },
    {
     "name": "stderr",
     "output_type": "stream",
     "text": [
      " 50%|████▉     | 259/520 [59:33<1:02:07, 14.28s/it]"
     ]
    },
    {
     "name": "stdout",
     "output_type": "stream",
     "text": [
      "1/1 [==============================] - 9s 9s/step\n",
      "4/4 [==============================] - 4s 851ms/step\n"
     ]
    },
    {
     "name": "stderr",
     "output_type": "stream",
     "text": [
      " 50%|█████     | 260/520 [59:46<1:00:04, 13.86s/it]"
     ]
    },
    {
     "name": "stdout",
     "output_type": "stream",
     "text": [
      "1/1 [==============================] - 9s 9s/step\n",
      "4/4 [==============================] - 3s 782ms/step\n"
     ]
    },
    {
     "name": "stderr",
     "output_type": "stream",
     "text": [
      " 50%|█████     | 261/520 [59:59<58:17, 13.50s/it]  "
     ]
    },
    {
     "name": "stdout",
     "output_type": "stream",
     "text": [
      "1/1 [==============================] - 9s 9s/step\n",
      "2/2 [==============================] - 1s 481ms/step\n"
     ]
    },
    {
     "name": "stderr",
     "output_type": "stream",
     "text": [
      " 50%|█████     | 262/520 [1:00:09<54:11, 12.60s/it]"
     ]
    },
    {
     "name": "stdout",
     "output_type": "stream",
     "text": [
      "1/1 [==============================] - 9s 9s/step\n",
      "5/5 [==============================] - 5s 868ms/step\n"
     ]
    },
    {
     "name": "stderr",
     "output_type": "stream",
     "text": [
      " 51%|█████     | 263/520 [1:00:23<55:59, 13.07s/it]"
     ]
    },
    {
     "name": "stdout",
     "output_type": "stream",
     "text": [
      "1/1 [==============================] - 9s 9s/step\n",
      "6/6 [==============================] - 5s 844ms/step\n"
     ]
    },
    {
     "name": "stderr",
     "output_type": "stream",
     "text": [
      " 51%|█████     | 264/520 [1:00:38<58:09, 13.63s/it]"
     ]
    },
    {
     "name": "stdout",
     "output_type": "stream",
     "text": [
      "1/1 [==============================] - 9s 9s/step\n",
      "7/7 [==============================] - 7s 998ms/step\n"
     ]
    },
    {
     "name": "stderr",
     "output_type": "stream",
     "text": [
      " 51%|█████     | 265/520 [1:00:55<1:02:20, 14.67s/it]"
     ]
    },
    {
     "name": "stdout",
     "output_type": "stream",
     "text": [
      "1/1 [==============================] - 9s 9s/step\n",
      "4/4 [==============================] - 3s 740ms/step\n"
     ]
    },
    {
     "name": "stderr",
     "output_type": "stream",
     "text": [
      " 51%|█████     | 266/520 [1:01:08<59:34, 14.07s/it]  "
     ]
    },
    {
     "name": "stdout",
     "output_type": "stream",
     "text": [
      "1/1 [==============================] - 9s 9s/step\n",
      "8/8 [==============================] - 7s 909ms/step\n"
     ]
    },
    {
     "name": "stderr",
     "output_type": "stream",
     "text": [
      " 51%|█████▏    | 267/520 [1:01:25<1:03:20, 15.02s/it]"
     ]
    },
    {
     "name": "stdout",
     "output_type": "stream",
     "text": [
      "1/1 [==============================] - 9s 9s/step\n",
      "3/3 [==============================] - 3s 772ms/step\n"
     ]
    },
    {
     "name": "stderr",
     "output_type": "stream",
     "text": [
      " 52%|█████▏    | 268/520 [1:01:37<58:57, 14.04s/it]  "
     ]
    },
    {
     "name": "stdout",
     "output_type": "stream",
     "text": [
      "1/1 [==============================] - 9s 9s/step\n",
      "5/5 [==============================] - 5s 935ms/step\n"
     ]
    },
    {
     "name": "stderr",
     "output_type": "stream",
     "text": [
      " 52%|█████▏    | 269/520 [1:01:51<59:01, 14.11s/it]"
     ]
    },
    {
     "name": "stdout",
     "output_type": "stream",
     "text": [
      "1/1 [==============================] - 9s 9s/step\n",
      "5/5 [==============================] - 5s 1000ms/step\n"
     ]
    },
    {
     "name": "stderr",
     "output_type": "stream",
     "text": [
      " 52%|█████▏    | 270/520 [1:02:06<59:20, 14.24s/it]"
     ]
    },
    {
     "name": "stdout",
     "output_type": "stream",
     "text": [
      "1/1 [==============================] - 9s 9s/step\n",
      "5/5 [==============================] - 5s 900ms/step\n"
     ]
    },
    {
     "name": "stderr",
     "output_type": "stream",
     "text": [
      " 52%|█████▏    | 271/520 [1:02:20<58:57, 14.21s/it]"
     ]
    },
    {
     "name": "stdout",
     "output_type": "stream",
     "text": [
      "1/1 [==============================] - 9s 9s/step\n",
      "3/3 [==============================] - 2s 589ms/step\n"
     ]
    },
    {
     "name": "stderr",
     "output_type": "stream",
     "text": [
      " 52%|█████▏    | 272/520 [1:02:31<55:08, 13.34s/it]"
     ]
    },
    {
     "name": "stdout",
     "output_type": "stream",
     "text": [
      "1/1 [==============================] - 9s 9s/step\n",
      "4/4 [==============================] - 4s 977ms/step\n"
     ]
    },
    {
     "name": "stderr",
     "output_type": "stream",
     "text": [
      " 52%|█████▎    | 273/520 [1:02:45<54:54, 13.34s/it]"
     ]
    },
    {
     "name": "stdout",
     "output_type": "stream",
     "text": [
      "1/1 [==============================] - 9s 9s/step\n",
      "5/5 [==============================] - 4s 812ms/step\n"
     ]
    },
    {
     "name": "stderr",
     "output_type": "stream",
     "text": [
      " 53%|█████▎    | 274/520 [1:02:58<55:02, 13.43s/it]"
     ]
    },
    {
     "name": "stdout",
     "output_type": "stream",
     "text": [
      "1/1 [==============================] - 9s 9s/step\n",
      "4/4 [==============================] - 4s 983ms/step\n"
     ]
    },
    {
     "name": "stderr",
     "output_type": "stream",
     "text": [
      " 53%|█████▎    | 275/520 [1:03:12<54:44, 13.41s/it]"
     ]
    },
    {
     "name": "stdout",
     "output_type": "stream",
     "text": [
      "1/1 [==============================] - 9s 9s/step\n",
      "4/4 [==============================] - 4s 918ms/step\n"
     ]
    },
    {
     "name": "stderr",
     "output_type": "stream",
     "text": [
      " 53%|█████▎    | 276/520 [1:03:25<54:15, 13.34s/it]"
     ]
    },
    {
     "name": "stdout",
     "output_type": "stream",
     "text": [
      "1/1 [==============================] - 9s 9s/step\n",
      "5/5 [==============================] - 4s 844ms/step\n"
     ]
    },
    {
     "name": "stderr",
     "output_type": "stream",
     "text": [
      " 53%|█████▎    | 277/520 [1:03:39<54:46, 13.52s/it]"
     ]
    },
    {
     "name": "stdout",
     "output_type": "stream",
     "text": [
      "1/1 [==============================] - 9s 9s/step\n",
      "4/4 [==============================] - 4s 987ms/step\n"
     ]
    },
    {
     "name": "stderr",
     "output_type": "stream",
     "text": [
      " 53%|█████▎    | 278/520 [1:03:52<54:28, 13.51s/it]"
     ]
    },
    {
     "name": "stdout",
     "output_type": "stream",
     "text": [
      "1/1 [==============================] - 9s 9s/step\n",
      "5/5 [==============================] - 4s 780ms/step\n"
     ]
    },
    {
     "name": "stderr",
     "output_type": "stream",
     "text": [
      " 54%|█████▎    | 279/520 [1:04:06<54:23, 13.54s/it]"
     ]
    },
    {
     "name": "stdout",
     "output_type": "stream",
     "text": [
      "1/1 [==============================] - 9s 9s/step\n",
      "4/4 [==============================] - 4s 959ms/step\n"
     ]
    },
    {
     "name": "stderr",
     "output_type": "stream",
     "text": [
      " 54%|█████▍    | 280/520 [1:04:19<53:52, 13.47s/it]"
     ]
    },
    {
     "name": "stdout",
     "output_type": "stream",
     "text": [
      "1/1 [==============================] - 9s 9s/step\n",
      "6/6 [==============================] - 5s 841ms/step\n"
     ]
    },
    {
     "name": "stderr",
     "output_type": "stream",
     "text": [
      " 54%|█████▍    | 281/520 [1:04:34<55:11, 13.86s/it]"
     ]
    },
    {
     "name": "stdout",
     "output_type": "stream",
     "text": [
      "1/1 [==============================] - 9s 9s/step\n",
      "5/5 [==============================] - 4s 769ms/step\n"
     ]
    },
    {
     "name": "stderr",
     "output_type": "stream",
     "text": [
      " 54%|█████▍    | 282/520 [1:04:48<54:39, 13.78s/it]"
     ]
    },
    {
     "name": "stdout",
     "output_type": "stream",
     "text": [
      "1/1 [==============================] - 9s 9s/step\n",
      "5/5 [==============================] - 4s 808ms/step\n"
     ]
    },
    {
     "name": "stderr",
     "output_type": "stream",
     "text": [
      " 54%|█████▍    | 283/520 [1:05:01<54:20, 13.76s/it]"
     ]
    },
    {
     "name": "stdout",
     "output_type": "stream",
     "text": [
      "1/1 [==============================] - 9s 9s/step\n",
      "4/4 [==============================] - 4s 992ms/step\n"
     ]
    },
    {
     "name": "stderr",
     "output_type": "stream",
     "text": [
      " 55%|█████▍    | 284/520 [1:05:15<53:44, 13.66s/it]"
     ]
    },
    {
     "name": "stdout",
     "output_type": "stream",
     "text": [
      "1/1 [==============================] - 9s 9s/step\n",
      "3/3 [==============================] - 2s 623ms/step\n"
     ]
    },
    {
     "name": "stderr",
     "output_type": "stream",
     "text": [
      " 55%|█████▍    | 285/520 [1:05:26<50:57, 13.01s/it]"
     ]
    },
    {
     "name": "stdout",
     "output_type": "stream",
     "text": [
      "1/1 [==============================] - 9s 9s/step\n",
      "3/3 [==============================] - 2s 588ms/step\n"
     ]
    },
    {
     "name": "stderr",
     "output_type": "stream",
     "text": [
      " 55%|█████▌    | 286/520 [1:05:38<48:48, 12.52s/it]"
     ]
    },
    {
     "name": "stdout",
     "output_type": "stream",
     "text": [
      "1/1 [==============================] - 9s 9s/step\n",
      "5/5 [==============================] - 4s 880ms/step\n"
     ]
    },
    {
     "name": "stderr",
     "output_type": "stream",
     "text": [
      " 55%|█████▌    | 287/520 [1:05:52<50:31, 13.01s/it]"
     ]
    },
    {
     "name": "stdout",
     "output_type": "stream",
     "text": [
      "1/1 [==============================] - 9s 9s/step\n",
      "4/4 [==============================] - 4s 863ms/step\n"
     ]
    },
    {
     "name": "stderr",
     "output_type": "stream",
     "text": [
      " 55%|█████▌    | 288/520 [1:06:05<50:18, 13.01s/it]"
     ]
    },
    {
     "name": "stdout",
     "output_type": "stream",
     "text": [
      "1/1 [==============================] - 9s 9s/step\n",
      "3/3 [==============================] - 2s 698ms/step\n"
     ]
    },
    {
     "name": "stderr",
     "output_type": "stream",
     "text": [
      " 56%|█████▌    | 289/520 [1:06:16<48:29, 12.59s/it]"
     ]
    },
    {
     "name": "stdout",
     "output_type": "stream",
     "text": [
      "1/1 [==============================] - 9s 9s/step\n",
      "3/3 [==============================] - 2s 729ms/step\n"
     ]
    },
    {
     "name": "stderr",
     "output_type": "stream",
     "text": [
      " 56%|█████▌    | 290/520 [1:06:28<47:12, 12.32s/it]"
     ]
    },
    {
     "name": "stdout",
     "output_type": "stream",
     "text": [
      "1/1 [==============================] - 9s 9s/step\n",
      "4/4 [==============================] - 4s 936ms/step\n"
     ]
    },
    {
     "name": "stderr",
     "output_type": "stream",
     "text": [
      " 56%|█████▌    | 291/520 [1:06:41<48:05, 12.60s/it]"
     ]
    },
    {
     "name": "stdout",
     "output_type": "stream",
     "text": [
      "1/1 [==============================] - 9s 9s/step\n",
      "6/6 [==============================] - 6s 954ms/step\n"
     ]
    },
    {
     "name": "stderr",
     "output_type": "stream",
     "text": [
      " 56%|█████▌    | 292/520 [1:06:57<51:11, 13.47s/it]"
     ]
    },
    {
     "name": "stdout",
     "output_type": "stream",
     "text": [
      "1/1 [==============================] - 9s 9s/step\n",
      "6/6 [==============================] - 6s 1s/step\n"
     ]
    },
    {
     "name": "stderr",
     "output_type": "stream",
     "text": [
      " 56%|█████▋    | 293/520 [1:07:13<53:42, 14.19s/it]"
     ]
    },
    {
     "name": "stdout",
     "output_type": "stream",
     "text": [
      "1/1 [==============================] - 9s 9s/step\n",
      "6/6 [==============================] - 6s 1s/step\n"
     ]
    },
    {
     "name": "stderr",
     "output_type": "stream",
     "text": [
      " 57%|█████▋    | 294/520 [1:07:28<55:15, 14.67s/it]"
     ]
    },
    {
     "name": "stdout",
     "output_type": "stream",
     "text": [
      "1/1 [==============================] - 9s 9s/step\n",
      "6/6 [==============================] - 6s 1s/step\n"
     ]
    },
    {
     "name": "stderr",
     "output_type": "stream",
     "text": [
      " 57%|█████▋    | 295/520 [1:07:44<56:18, 15.01s/it]"
     ]
    },
    {
     "name": "stdout",
     "output_type": "stream",
     "text": [
      "1/1 [==============================] - 9s 9s/step\n",
      "7/7 [==============================] - 6s 918ms/step\n"
     ]
    },
    {
     "name": "stderr",
     "output_type": "stream",
     "text": [
      " 57%|█████▋    | 296/520 [1:08:01<57:31, 15.41s/it]"
     ]
    },
    {
     "name": "stdout",
     "output_type": "stream",
     "text": [
      "1/1 [==============================] - 9s 9s/step\n",
      "4/4 [==============================] - 4s 1s/step\n"
     ]
    },
    {
     "name": "stderr",
     "output_type": "stream",
     "text": [
      " 57%|█████▋    | 297/520 [1:08:14<55:09, 14.84s/it]"
     ]
    },
    {
     "name": "stdout",
     "output_type": "stream",
     "text": [
      "1/1 [==============================] - 9s 9s/step\n",
      "6/6 [==============================] - 6s 978ms/step\n"
     ]
    },
    {
     "name": "stderr",
     "output_type": "stream",
     "text": [
      " 57%|█████▋    | 298/520 [1:08:30<55:48, 15.08s/it]"
     ]
    },
    {
     "name": "stdout",
     "output_type": "stream",
     "text": [
      "1/1 [==============================] - 9s 9s/step\n",
      "7/7 [==============================] - 7s 1s/step\n"
     ]
    },
    {
     "name": "stderr",
     "output_type": "stream",
     "text": [
      " 57%|█████▊    | 299/520 [1:08:47<57:41, 15.66s/it]"
     ]
    },
    {
     "name": "stdout",
     "output_type": "stream",
     "text": [
      "1/1 [==============================] - 9s 9s/step\n",
      "5/5 [==============================] - 4s 848ms/step\n"
     ]
    },
    {
     "name": "stderr",
     "output_type": "stream",
     "text": [
      " 58%|█████▊    | 300/520 [1:09:01<55:32, 15.15s/it]"
     ]
    },
    {
     "name": "stdout",
     "output_type": "stream",
     "text": [
      "1/1 [==============================] - 9s 9s/step\n",
      "6/6 [==============================] - 6s 930ms/step\n"
     ]
    },
    {
     "name": "stderr",
     "output_type": "stream",
     "text": [
      " 58%|█████▊    | 301/520 [1:09:16<55:30, 15.21s/it]"
     ]
    },
    {
     "name": "stdout",
     "output_type": "stream",
     "text": [
      "1/1 [==============================] - 9s 9s/step\n",
      "4/4 [==============================] - 4s 934ms/step\n"
     ]
    },
    {
     "name": "stderr",
     "output_type": "stream",
     "text": [
      " 58%|█████▊    | 302/520 [1:09:29<53:03, 14.60s/it]"
     ]
    },
    {
     "name": "stdout",
     "output_type": "stream",
     "text": [
      "1/1 [==============================] - 9s 9s/step\n",
      "3/3 [==============================] - 2s 683ms/step\n"
     ]
    },
    {
     "name": "stderr",
     "output_type": "stream",
     "text": [
      " 58%|█████▊    | 303/520 [1:09:41<49:30, 13.69s/it]"
     ]
    },
    {
     "name": "stdout",
     "output_type": "stream",
     "text": [
      "1/1 [==============================] - 9s 9s/step\n",
      "4/4 [==============================] - 3s 731ms/step\n"
     ]
    },
    {
     "name": "stderr",
     "output_type": "stream",
     "text": [
      " 58%|█████▊    | 304/520 [1:09:53<47:58, 13.32s/it]"
     ]
    },
    {
     "name": "stdout",
     "output_type": "stream",
     "text": [
      "1/1 [==============================] - 9s 9s/step\n",
      "5/5 [==============================] - 4s 765ms/step\n"
     ]
    },
    {
     "name": "stderr",
     "output_type": "stream",
     "text": [
      " 59%|█████▊    | 305/520 [1:10:07<47:55, 13.38s/it]"
     ]
    },
    {
     "name": "stdout",
     "output_type": "stream",
     "text": [
      "1/1 [==============================] - 9s 9s/step\n",
      "4/4 [==============================] - 4s 895ms/step\n"
     ]
    },
    {
     "name": "stderr",
     "output_type": "stream",
     "text": [
      " 59%|█████▉    | 306/520 [1:10:20<47:27, 13.31s/it]"
     ]
    },
    {
     "name": "stdout",
     "output_type": "stream",
     "text": [
      "1/1 [==============================] - 9s 9s/step\n",
      "6/6 [==============================] - 5s 836ms/step\n"
     ]
    },
    {
     "name": "stderr",
     "output_type": "stream",
     "text": [
      " 59%|█████▉    | 307/520 [1:10:35<48:58, 13.79s/it]"
     ]
    },
    {
     "name": "stdout",
     "output_type": "stream",
     "text": [
      "1/1 [==============================] - 9s 9s/step\n",
      "5/5 [==============================] - 5s 996ms/step\n"
     ]
    },
    {
     "name": "stderr",
     "output_type": "stream",
     "text": [
      " 59%|█████▉    | 308/520 [1:10:49<49:39, 14.05s/it]"
     ]
    },
    {
     "name": "stdout",
     "output_type": "stream",
     "text": [
      "1/1 [==============================] - 9s 9s/step\n",
      "6/6 [==============================] - 6s 997ms/step\n"
     ]
    },
    {
     "name": "stderr",
     "output_type": "stream",
     "text": [
      " 59%|█████▉    | 309/520 [1:11:05<51:09, 14.55s/it]"
     ]
    },
    {
     "name": "stdout",
     "output_type": "stream",
     "text": [
      "1/1 [==============================] - 9s 9s/step\n",
      "2/2 [==============================] - 1s 113ms/step\n"
     ]
    },
    {
     "name": "stderr",
     "output_type": "stream",
     "text": [
      " 60%|█████▉    | 310/520 [1:11:15<46:17, 13.22s/it]"
     ]
    },
    {
     "name": "stdout",
     "output_type": "stream",
     "text": [
      "1/1 [==============================] - 9s 9s/step\n",
      "7/7 [==============================] - 6s 910ms/step\n"
     ]
    },
    {
     "name": "stderr",
     "output_type": "stream",
     "text": [
      " 60%|█████▉    | 311/520 [1:11:32<49:17, 14.15s/it]"
     ]
    },
    {
     "name": "stdout",
     "output_type": "stream",
     "text": [
      "1/1 [==============================] - 9s 9s/step\n",
      "6/6 [==============================] - 6s 997ms/step\n"
     ]
    },
    {
     "name": "stderr",
     "output_type": "stream",
     "text": [
      " 60%|██████    | 312/520 [1:11:47<50:50, 14.67s/it]"
     ]
    },
    {
     "name": "stdout",
     "output_type": "stream",
     "text": [
      "1/1 [==============================] - 9s 9s/step\n",
      "8/8 [==============================] - 7s 908ms/step\n"
     ]
    },
    {
     "name": "stderr",
     "output_type": "stream",
     "text": [
      " 60%|██████    | 313/520 [1:12:05<53:25, 15.49s/it]"
     ]
    },
    {
     "name": "stdout",
     "output_type": "stream",
     "text": [
      "1/1 [==============================] - 9s 9s/step\n",
      "5/5 [==============================] - 5s 961ms/step\n"
     ]
    },
    {
     "name": "stderr",
     "output_type": "stream",
     "text": [
      " 60%|██████    | 314/520 [1:12:19<52:04, 15.17s/it]"
     ]
    },
    {
     "name": "stdout",
     "output_type": "stream",
     "text": [
      "1/1 [==============================] - 9s 9s/step\n",
      "5/5 [==============================] - 5s 888ms/step\n"
     ]
    },
    {
     "name": "stderr",
     "output_type": "stream",
     "text": [
      " 61%|██████    | 315/520 [1:12:33<50:43, 14.85s/it]"
     ]
    },
    {
     "name": "stdout",
     "output_type": "stream",
     "text": [
      "1/1 [==============================] - 9s 9s/step\n",
      "5/5 [==============================] - 5s 1s/step\n"
     ]
    },
    {
     "name": "stderr",
     "output_type": "stream",
     "text": [
      " 61%|██████    | 316/520 [1:12:48<50:14, 14.78s/it]"
     ]
    },
    {
     "name": "stdout",
     "output_type": "stream",
     "text": [
      "1/1 [==============================] - 9s 9s/step\n",
      "5/5 [==============================] - 4s 876ms/step\n"
     ]
    },
    {
     "name": "stderr",
     "output_type": "stream",
     "text": [
      " 61%|██████    | 317/520 [1:13:02<49:16, 14.56s/it]"
     ]
    },
    {
     "name": "stdout",
     "output_type": "stream",
     "text": [
      "1/1 [==============================] - 9s 9s/step\n",
      "2/2 [==============================] - 2s 579ms/step\n"
     ]
    },
    {
     "name": "stderr",
     "output_type": "stream",
     "text": [
      " 61%|██████    | 318/520 [1:13:13<45:01, 13.37s/it]"
     ]
    },
    {
     "name": "stdout",
     "output_type": "stream",
     "text": [
      "1/1 [==============================] - 9s 9s/step\n",
      "2/2 [==============================] - 2s 858ms/step\n"
     ]
    },
    {
     "name": "stderr",
     "output_type": "stream",
     "text": [
      " 61%|██████▏   | 319/520 [1:13:24<42:30, 12.69s/it]"
     ]
    },
    {
     "name": "stdout",
     "output_type": "stream",
     "text": [
      "1/1 [==============================] - 9s 9s/step\n",
      "4/4 [==============================] - 3s 714ms/step\n"
     ]
    },
    {
     "name": "stderr",
     "output_type": "stream",
     "text": [
      " 62%|██████▏   | 320/520 [1:13:36<42:08, 12.64s/it]"
     ]
    },
    {
     "name": "stdout",
     "output_type": "stream",
     "text": [
      "1/1 [==============================] - 9s 9s/step\n",
      "2/2 [==============================] - 2s 871ms/step\n"
     ]
    },
    {
     "name": "stderr",
     "output_type": "stream",
     "text": [
      " 62%|██████▏   | 321/520 [1:13:47<40:22, 12.18s/it]"
     ]
    },
    {
     "name": "stdout",
     "output_type": "stream",
     "text": [
      "1/1 [==============================] - 9s 9s/step\n",
      "8/8 [==============================] - 7s 894ms/step\n"
     ]
    },
    {
     "name": "stderr",
     "output_type": "stream",
     "text": [
      " 62%|██████▏   | 322/520 [1:14:05<45:14, 13.71s/it]"
     ]
    },
    {
     "name": "stdout",
     "output_type": "stream",
     "text": [
      "1/1 [==============================] - 9s 9s/step\n",
      "5/5 [==============================] - 4s 845ms/step\n"
     ]
    },
    {
     "name": "stderr",
     "output_type": "stream",
     "text": [
      " 62%|██████▏   | 323/520 [1:14:19<45:16, 13.79s/it]"
     ]
    },
    {
     "name": "stdout",
     "output_type": "stream",
     "text": [
      "1/1 [==============================] - 9s 9s/step\n",
      "7/7 [==============================] - 6s 899ms/step\n"
     ]
    },
    {
     "name": "stderr",
     "output_type": "stream",
     "text": [
      " 62%|██████▏   | 324/520 [1:14:35<47:31, 14.55s/it]"
     ]
    },
    {
     "name": "stdout",
     "output_type": "stream",
     "text": [
      "1/1 [==============================] - 9s 9s/step\n",
      "12/12 [==============================] - 12s 1s/step\n"
     ]
    },
    {
     "name": "stderr",
     "output_type": "stream",
     "text": [
      " 62%|██████▎   | 325/520 [1:14:58<55:26, 17.06s/it]"
     ]
    },
    {
     "name": "stdout",
     "output_type": "stream",
     "text": [
      "1/1 [==============================] - 9s 9s/step\n",
      "6/6 [==============================] - 6s 1s/step\n"
     ]
    },
    {
     "name": "stderr",
     "output_type": "stream",
     "text": [
      " 63%|██████▎   | 326/520 [1:15:14<54:01, 16.71s/it]"
     ]
    },
    {
     "name": "stdout",
     "output_type": "stream",
     "text": [
      "1/1 [==============================] - 9s 9s/step\n",
      "9/9 [==============================] - 9s 1s/step\n"
     ]
    },
    {
     "name": "stderr",
     "output_type": "stream",
     "text": [
      " 63%|██████▎   | 327/520 [1:15:33<56:26, 17.55s/it]"
     ]
    },
    {
     "name": "stdout",
     "output_type": "stream",
     "text": [
      "1/1 [==============================] - 9s 9s/step\n",
      "6/6 [==============================] - 6s 967ms/step\n"
     ]
    },
    {
     "name": "stderr",
     "output_type": "stream",
     "text": [
      " 63%|██████▎   | 328/520 [1:15:49<54:17, 16.96s/it]"
     ]
    },
    {
     "name": "stdout",
     "output_type": "stream",
     "text": [
      "1/1 [==============================] - 9s 9s/step\n",
      "5/5 [==============================] - 5s 878ms/step\n"
     ]
    },
    {
     "name": "stderr",
     "output_type": "stream",
     "text": [
      " 63%|██████▎   | 329/520 [1:16:03<51:14, 16.09s/it]"
     ]
    },
    {
     "name": "stdout",
     "output_type": "stream",
     "text": [
      "1/1 [==============================] - 9s 9s/step\n",
      "9/9 [==============================] - 9s 985ms/step\n"
     ]
    },
    {
     "name": "stderr",
     "output_type": "stream",
     "text": [
      " 63%|██████▎   | 330/520 [1:16:22<53:52, 17.01s/it]"
     ]
    },
    {
     "name": "stdout",
     "output_type": "stream",
     "text": [
      "1/1 [==============================] - 9s 9s/step\n",
      "8/8 [==============================] - 7s 930ms/step\n"
     ]
    },
    {
     "name": "stderr",
     "output_type": "stream",
     "text": [
      " 64%|██████▎   | 331/520 [1:16:40<54:04, 17.17s/it]"
     ]
    },
    {
     "name": "stdout",
     "output_type": "stream",
     "text": [
      "1/1 [==============================] - 9s 9s/step\n",
      "4/4 [==============================] - 4s 902ms/step\n"
     ]
    },
    {
     "name": "stderr",
     "output_type": "stream",
     "text": [
      " 64%|██████▍   | 332/520 [1:16:53<50:01, 15.96s/it]"
     ]
    },
    {
     "name": "stdout",
     "output_type": "stream",
     "text": [
      "1/1 [==============================] - 9s 9s/step\n",
      "3/3 [==============================] - 3s 951ms/step\n"
     ]
    },
    {
     "name": "stderr",
     "output_type": "stream",
     "text": [
      " 64%|██████▍   | 333/520 [1:17:05<46:12, 14.83s/it]"
     ]
    },
    {
     "name": "stdout",
     "output_type": "stream",
     "text": [
      "1/1 [==============================] - 9s 9s/step\n",
      "5/5 [==============================] - 4s 880ms/step\n"
     ]
    },
    {
     "name": "stderr",
     "output_type": "stream",
     "text": [
      " 64%|██████▍   | 334/520 [1:17:19<45:12, 14.58s/it]"
     ]
    },
    {
     "name": "stdout",
     "output_type": "stream",
     "text": [
      "1/1 [==============================] - 9s 9s/step\n",
      "5/5 [==============================] - 5s 987ms/step\n"
     ]
    },
    {
     "name": "stderr",
     "output_type": "stream",
     "text": [
      " 64%|██████▍   | 335/520 [1:17:34<44:56, 14.58s/it]"
     ]
    },
    {
     "name": "stdout",
     "output_type": "stream",
     "text": [
      "1/1 [==============================] - 9s 9s/step\n",
      "5/5 [==============================] - 5s 955ms/step\n"
     ]
    },
    {
     "name": "stderr",
     "output_type": "stream",
     "text": [
      " 65%|██████▍   | 336/520 [1:17:48<44:36, 14.55s/it]"
     ]
    },
    {
     "name": "stdout",
     "output_type": "stream",
     "text": [
      "1/1 [==============================] - 9s 9s/step\n",
      "15/15 [==============================] - 14s 959ms/step\n"
     ]
    },
    {
     "name": "stderr",
     "output_type": "stream",
     "text": [
      " 65%|██████▍   | 337/520 [1:18:14<54:24, 17.84s/it]"
     ]
    },
    {
     "name": "stdout",
     "output_type": "stream",
     "text": [
      "1/1 [==============================] - 9s 9s/step\n",
      "5/5 [==============================] - 4s 784ms/step\n"
     ]
    },
    {
     "name": "stderr",
     "output_type": "stream",
     "text": [
      " 65%|██████▌   | 338/520 [1:18:27<50:20, 16.60s/it]"
     ]
    },
    {
     "name": "stdout",
     "output_type": "stream",
     "text": [
      "1/1 [==============================] - 9s 9s/step\n",
      "3/3 [==============================] - 3s 994ms/step\n"
     ]
    },
    {
     "name": "stderr",
     "output_type": "stream",
     "text": [
      " 65%|██████▌   | 339/520 [1:18:40<46:16, 15.34s/it]"
     ]
    },
    {
     "name": "stdout",
     "output_type": "stream",
     "text": [
      "1/1 [==============================] - 9s 9s/step\n",
      "9/9 [==============================] - 9s 1s/step\n"
     ]
    },
    {
     "name": "stderr",
     "output_type": "stream",
     "text": [
      " 65%|██████▌   | 340/520 [1:18:59<49:45, 16.58s/it]"
     ]
    },
    {
     "name": "stdout",
     "output_type": "stream",
     "text": [
      "1/1 [==============================] - 9s 9s/step\n",
      "5/5 [==============================] - 4s 775ms/step\n"
     ]
    },
    {
     "name": "stderr",
     "output_type": "stream",
     "text": [
      " 66%|██████▌   | 341/520 [1:19:13<46:47, 15.68s/it]"
     ]
    },
    {
     "name": "stdout",
     "output_type": "stream",
     "text": [
      "1/1 [==============================] - 9s 9s/step\n",
      "5/5 [==============================] - 4s 852ms/step\n"
     ]
    },
    {
     "name": "stderr",
     "output_type": "stream",
     "text": [
      " 66%|██████▌   | 342/520 [1:19:27<44:55, 15.15s/it]"
     ]
    },
    {
     "name": "stdout",
     "output_type": "stream",
     "text": [
      "1/1 [==============================] - 9s 9s/step\n",
      "4/4 [==============================] - 3s 769ms/step\n"
     ]
    },
    {
     "name": "stderr",
     "output_type": "stream",
     "text": [
      " 66%|██████▌   | 343/520 [1:19:39<42:34, 14.43s/it]"
     ]
    },
    {
     "name": "stdout",
     "output_type": "stream",
     "text": [
      "1/1 [==============================] - 8s 8s/step\n",
      "5/5 [==============================] - 5s 970ms/step\n"
     ]
    },
    {
     "name": "stderr",
     "output_type": "stream",
     "text": [
      " 66%|██████▌   | 344/520 [1:19:54<42:15, 14.41s/it]"
     ]
    },
    {
     "name": "stdout",
     "output_type": "stream",
     "text": [
      "1/1 [==============================] - 9s 9s/step\n",
      "7/7 [==============================] - 7s 1s/step\n"
     ]
    },
    {
     "name": "stderr",
     "output_type": "stream",
     "text": [
      " 66%|██████▋   | 345/520 [1:20:11<44:17, 15.18s/it]"
     ]
    },
    {
     "name": "stdout",
     "output_type": "stream",
     "text": [
      "1/1 [==============================] - 9s 9s/step\n",
      "3/3 [==============================] - 3s 927ms/step\n"
     ]
    },
    {
     "name": "stderr",
     "output_type": "stream",
     "text": [
      " 67%|██████▋   | 346/520 [1:20:23<41:30, 14.31s/it]"
     ]
    },
    {
     "name": "stdout",
     "output_type": "stream",
     "text": [
      "1/1 [==============================] - 9s 9s/step\n",
      "4/4 [==============================] - 3s 833ms/step\n"
     ]
    },
    {
     "name": "stderr",
     "output_type": "stream",
     "text": [
      " 67%|██████▋   | 347/520 [1:20:36<40:05, 13.90s/it]"
     ]
    },
    {
     "name": "stdout",
     "output_type": "stream",
     "text": [
      "1/1 [==============================] - 9s 9s/step\n",
      "5/5 [==============================] - 5s 888ms/step\n"
     ]
    },
    {
     "name": "stderr",
     "output_type": "stream",
     "text": [
      " 67%|██████▋   | 348/520 [1:20:50<40:14, 14.04s/it]"
     ]
    },
    {
     "name": "stdout",
     "output_type": "stream",
     "text": [
      "1/1 [==============================] - 9s 9s/step\n",
      "9/9 [==============================] - 9s 965ms/step\n"
     ]
    },
    {
     "name": "stderr",
     "output_type": "stream",
     "text": [
      " 67%|██████▋   | 349/520 [1:21:09<44:10, 15.50s/it]"
     ]
    },
    {
     "name": "stdout",
     "output_type": "stream",
     "text": [
      "1/1 [==============================] - 9s 9s/step\n",
      "5/5 [==============================] - 5s 930ms/step\n"
     ]
    },
    {
     "name": "stderr",
     "output_type": "stream",
     "text": [
      " 67%|██████▋   | 350/520 [1:21:24<42:54, 15.15s/it]"
     ]
    },
    {
     "name": "stdout",
     "output_type": "stream",
     "text": [
      "1/1 [==============================] - 9s 9s/step\n",
      "4/4 [==============================] - 3s 719ms/step\n"
     ]
    },
    {
     "name": "stderr",
     "output_type": "stream",
     "text": [
      " 68%|██████▊   | 351/520 [1:21:36<40:24, 14.35s/it]"
     ]
    },
    {
     "name": "stdout",
     "output_type": "stream",
     "text": [
      "1/1 [==============================] - 9s 9s/step\n",
      "4/4 [==============================] - 3s 794ms/step\n"
     ]
    },
    {
     "name": "stderr",
     "output_type": "stream",
     "text": [
      " 68%|██████▊   | 352/520 [1:21:49<38:49, 13.87s/it]"
     ]
    },
    {
     "name": "stdout",
     "output_type": "stream",
     "text": [
      "1/1 [==============================] - 9s 9s/step\n",
      "4/4 [==============================] - 4s 882ms/step\n"
     ]
    },
    {
     "name": "stderr",
     "output_type": "stream",
     "text": [
      " 68%|██████▊   | 353/520 [1:22:02<37:51, 13.60s/it]"
     ]
    },
    {
     "name": "stdout",
     "output_type": "stream",
     "text": [
      "1/1 [==============================] - 9s 9s/step\n",
      "4/4 [==============================] - 4s 967ms/step\n"
     ]
    },
    {
     "name": "stderr",
     "output_type": "stream",
     "text": [
      " 68%|██████▊   | 354/520 [1:22:15<37:24, 13.52s/it]"
     ]
    },
    {
     "name": "stdout",
     "output_type": "stream",
     "text": [
      "1/1 [==============================] - 9s 9s/step\n",
      "9/9 [==============================] - 9s 1s/step\n"
     ]
    },
    {
     "name": "stderr",
     "output_type": "stream",
     "text": [
      " 68%|██████▊   | 355/520 [1:22:35<42:03, 15.30s/it]"
     ]
    },
    {
     "name": "stdout",
     "output_type": "stream",
     "text": [
      "1/1 [==============================] - 9s 9s/step\n",
      "4/4 [==============================] - 4s 857ms/step\n"
     ]
    },
    {
     "name": "stderr",
     "output_type": "stream",
     "text": [
      " 68%|██████▊   | 356/520 [1:22:47<39:51, 14.58s/it]"
     ]
    },
    {
     "name": "stdout",
     "output_type": "stream",
     "text": [
      "1/1 [==============================] - 9s 9s/step\n",
      "4/4 [==============================] - 4s 891ms/step\n"
     ]
    },
    {
     "name": "stderr",
     "output_type": "stream",
     "text": [
      " 69%|██████▊   | 357/520 [1:23:00<38:20, 14.12s/it]"
     ]
    },
    {
     "name": "stdout",
     "output_type": "stream",
     "text": [
      "1/1 [==============================] - 9s 9s/step\n",
      "9/9 [==============================] - 9s 1s/step\n"
     ]
    },
    {
     "name": "stderr",
     "output_type": "stream",
     "text": [
      " 69%|██████▉   | 358/520 [1:23:20<42:18, 15.67s/it]"
     ]
    },
    {
     "name": "stdout",
     "output_type": "stream",
     "text": [
      "1/1 [==============================] - 9s 9s/step\n",
      "9/9 [==============================] - 8s 936ms/step\n"
     ]
    },
    {
     "name": "stderr",
     "output_type": "stream",
     "text": [
      " 69%|██████▉   | 359/520 [1:23:38<44:27, 16.57s/it]"
     ]
    },
    {
     "name": "stdout",
     "output_type": "stream",
     "text": [
      "1/1 [==============================] - 9s 9s/step\n",
      "4/4 [==============================] - 3s 712ms/step\n"
     ]
    },
    {
     "name": "stderr",
     "output_type": "stream",
     "text": [
      " 69%|██████▉   | 360/520 [1:23:51<40:59, 15.37s/it]"
     ]
    },
    {
     "name": "stdout",
     "output_type": "stream",
     "text": [
      "1/1 [==============================] - 9s 9s/step\n",
      "3/3 [==============================] - 2s 695ms/step\n"
     ]
    },
    {
     "name": "stderr",
     "output_type": "stream",
     "text": [
      " 69%|██████▉   | 361/520 [1:24:03<37:41, 14.22s/it]"
     ]
    },
    {
     "name": "stdout",
     "output_type": "stream",
     "text": [
      "1/1 [==============================] - 9s 9s/step\n",
      "9/9 [==============================] - 9s 957ms/step\n"
     ]
    },
    {
     "name": "stderr",
     "output_type": "stream",
     "text": [
      " 70%|██████▉   | 362/520 [1:24:21<41:07, 15.62s/it]"
     ]
    },
    {
     "name": "stdout",
     "output_type": "stream",
     "text": [
      "1/1 [==============================] - 9s 9s/step\n",
      "9/9 [==============================] - 9s 953ms/step\n"
     ]
    },
    {
     "name": "stderr",
     "output_type": "stream",
     "text": [
      " 70%|██████▉   | 363/520 [1:24:40<43:25, 16.59s/it]"
     ]
    },
    {
     "name": "stdout",
     "output_type": "stream",
     "text": [
      "1/1 [==============================] - 9s 9s/step\n",
      "9/9 [==============================] - 9s 989ms/step\n"
     ]
    },
    {
     "name": "stderr",
     "output_type": "stream",
     "text": [
      " 70%|███████   | 364/520 [1:24:59<45:06, 17.35s/it]"
     ]
    },
    {
     "name": "stdout",
     "output_type": "stream",
     "text": [
      "1/1 [==============================] - 9s 9s/step\n",
      "8/8 [==============================] - 8s 1s/step\n"
     ]
    },
    {
     "name": "stderr",
     "output_type": "stream",
     "text": [
      " 70%|███████   | 365/520 [1:25:18<45:27, 17.60s/it]"
     ]
    },
    {
     "name": "stdout",
     "output_type": "stream",
     "text": [
      "1/1 [==============================] - 9s 9s/step\n",
      "4/4 [==============================] - 4s 904ms/step\n"
     ]
    },
    {
     "name": "stderr",
     "output_type": "stream",
     "text": [
      " 70%|███████   | 366/520 [1:25:31<41:48, 16.29s/it]"
     ]
    },
    {
     "name": "stdout",
     "output_type": "stream",
     "text": [
      "1/1 [==============================] - 9s 9s/step\n",
      "5/5 [==============================] - 5s 916ms/step\n"
     ]
    },
    {
     "name": "stderr",
     "output_type": "stream",
     "text": [
      " 71%|███████   | 367/520 [1:25:45<40:00, 15.69s/it]"
     ]
    },
    {
     "name": "stdout",
     "output_type": "stream",
     "text": [
      "1/1 [==============================] - 9s 9s/step\n",
      "8/8 [==============================] - 8s 976ms/step\n"
     ]
    },
    {
     "name": "stderr",
     "output_type": "stream",
     "text": [
      " 71%|███████   | 368/520 [1:26:03<41:32, 16.40s/it]"
     ]
    },
    {
     "name": "stdout",
     "output_type": "stream",
     "text": [
      "1/1 [==============================] - 9s 9s/step\n",
      "8/8 [==============================] - 8s 961ms/step\n"
     ]
    },
    {
     "name": "stderr",
     "output_type": "stream",
     "text": [
      " 71%|███████   | 369/520 [1:26:21<42:24, 16.85s/it]"
     ]
    },
    {
     "name": "stdout",
     "output_type": "stream",
     "text": [
      "1/1 [==============================] - 9s 9s/step\n",
      "2/2 [==============================] - 2s 757ms/step\n"
     ]
    },
    {
     "name": "stderr",
     "output_type": "stream",
     "text": [
      " 71%|███████   | 370/520 [1:26:32<37:36, 15.04s/it]"
     ]
    },
    {
     "name": "stdout",
     "output_type": "stream",
     "text": [
      "1/1 [==============================] - 9s 9s/step\n",
      "3/3 [==============================] - 2s 635ms/step\n"
     ]
    },
    {
     "name": "stderr",
     "output_type": "stream",
     "text": [
      " 71%|███████▏  | 371/520 [1:26:43<34:39, 13.96s/it]"
     ]
    },
    {
     "name": "stdout",
     "output_type": "stream",
     "text": [
      "1/1 [==============================] - 9s 9s/step\n",
      "5/5 [==============================] - 4s 794ms/step\n"
     ]
    },
    {
     "name": "stderr",
     "output_type": "stream",
     "text": [
      " 72%|███████▏  | 372/520 [1:26:57<34:11, 13.86s/it]"
     ]
    },
    {
     "name": "stdout",
     "output_type": "stream",
     "text": [
      "1/1 [==============================] - 9s 9s/step\n",
      "4/4 [==============================] - 4s 898ms/step\n"
     ]
    },
    {
     "name": "stderr",
     "output_type": "stream",
     "text": [
      " 72%|███████▏  | 373/520 [1:27:10<33:24, 13.64s/it]"
     ]
    },
    {
     "name": "stdout",
     "output_type": "stream",
     "text": [
      "1/1 [==============================] - 9s 9s/step\n",
      "4/4 [==============================] - 3s 723ms/step\n"
     ]
    },
    {
     "name": "stderr",
     "output_type": "stream",
     "text": [
      " 72%|███████▏  | 374/520 [1:27:23<32:24, 13.32s/it]"
     ]
    },
    {
     "name": "stdout",
     "output_type": "stream",
     "text": [
      "1/1 [==============================] - 9s 9s/step\n",
      "3/3 [==============================] - 2s 627ms/step\n"
     ]
    },
    {
     "name": "stderr",
     "output_type": "stream",
     "text": [
      " 72%|███████▏  | 375/520 [1:27:34<30:47, 12.74s/it]"
     ]
    },
    {
     "name": "stdout",
     "output_type": "stream",
     "text": [
      "1/1 [==============================] - 9s 9s/step\n",
      "3/3 [==============================] - 3s 997ms/step\n"
     ]
    },
    {
     "name": "stderr",
     "output_type": "stream",
     "text": [
      " 72%|███████▏  | 376/520 [1:27:46<30:20, 12.64s/it]"
     ]
    },
    {
     "name": "stdout",
     "output_type": "stream",
     "text": [
      "1/1 [==============================] - 9s 9s/step\n",
      "6/6 [==============================] - 6s 900ms/step\n"
     ]
    },
    {
     "name": "stderr",
     "output_type": "stream",
     "text": [
      " 72%|███████▎  | 377/520 [1:28:02<32:00, 13.43s/it]"
     ]
    },
    {
     "name": "stdout",
     "output_type": "stream",
     "text": [
      "1/1 [==============================] - 9s 9s/step\n",
      "3/3 [==============================] - 3s 812ms/step\n"
     ]
    },
    {
     "name": "stderr",
     "output_type": "stream",
     "text": [
      " 73%|███████▎  | 378/520 [1:28:14<30:43, 12.99s/it]"
     ]
    },
    {
     "name": "stdout",
     "output_type": "stream",
     "text": [
      "1/1 [==============================] - 9s 9s/step\n",
      "7/7 [==============================] - 7s 929ms/step\n"
     ]
    },
    {
     "name": "stderr",
     "output_type": "stream",
     "text": [
      " 73%|███████▎  | 379/520 [1:28:30<33:05, 14.08s/it]"
     ]
    },
    {
     "name": "stdout",
     "output_type": "stream",
     "text": [
      "1/1 [==============================] - 9s 9s/step\n",
      "3/3 [==============================] - 3s 921ms/step\n"
     ]
    },
    {
     "name": "stderr",
     "output_type": "stream",
     "text": [
      " 73%|███████▎  | 380/520 [1:28:42<31:31, 13.51s/it]"
     ]
    },
    {
     "name": "stdout",
     "output_type": "stream",
     "text": [
      "1/1 [==============================] - 9s 9s/step\n",
      "3/3 [==============================] - 3s 875ms/step\n"
     ]
    },
    {
     "name": "stderr",
     "output_type": "stream",
     "text": [
      " 73%|███████▎  | 381/520 [1:28:55<30:16, 13.07s/it]"
     ]
    },
    {
     "name": "stdout",
     "output_type": "stream",
     "text": [
      "1/1 [==============================] - 9s 9s/step\n",
      "4/4 [==============================] - 3s 695ms/step\n"
     ]
    },
    {
     "name": "stderr",
     "output_type": "stream",
     "text": [
      " 73%|███████▎  | 382/520 [1:29:07<29:37, 12.88s/it]"
     ]
    },
    {
     "name": "stdout",
     "output_type": "stream",
     "text": [
      "1/1 [==============================] - 9s 9s/step\n",
      "3/3 [==============================] - 3s 884ms/step\n"
     ]
    },
    {
     "name": "stderr",
     "output_type": "stream",
     "text": [
      " 74%|███████▎  | 383/520 [1:29:19<28:51, 12.64s/it]"
     ]
    },
    {
     "name": "stdout",
     "output_type": "stream",
     "text": [
      "1/1 [==============================] - 9s 9s/step\n",
      "3/3 [==============================] - 2s 734ms/step\n"
     ]
    },
    {
     "name": "stderr",
     "output_type": "stream",
     "text": [
      " 74%|███████▍  | 384/520 [1:29:31<28:01, 12.36s/it]"
     ]
    },
    {
     "name": "stdout",
     "output_type": "stream",
     "text": [
      "1/1 [==============================] - 9s 9s/step\n",
      "3/3 [==============================] - 2s 729ms/step\n"
     ]
    },
    {
     "name": "stderr",
     "output_type": "stream",
     "text": [
      " 74%|███████▍  | 385/520 [1:29:43<27:24, 12.18s/it]"
     ]
    },
    {
     "name": "stdout",
     "output_type": "stream",
     "text": [
      "1/1 [==============================] - 9s 9s/step\n",
      "2/2 [==============================] - 1s 106ms/step\n"
     ]
    },
    {
     "name": "stderr",
     "output_type": "stream",
     "text": [
      " 74%|███████▍  | 386/520 [1:29:53<25:50, 11.57s/it]"
     ]
    },
    {
     "name": "stdout",
     "output_type": "stream",
     "text": [
      "1/1 [==============================] - 9s 9s/step\n",
      "2/2 [==============================] - 2s 741ms/step\n"
     ]
    },
    {
     "name": "stderr",
     "output_type": "stream",
     "text": [
      " 74%|███████▍  | 387/520 [1:30:04<25:12, 11.37s/it]"
     ]
    },
    {
     "name": "stdout",
     "output_type": "stream",
     "text": [
      "1/1 [==============================] - 9s 9s/step\n",
      "3/3 [==============================] - 2s 737ms/step\n"
     ]
    },
    {
     "name": "stderr",
     "output_type": "stream",
     "text": [
      " 75%|███████▍  | 388/520 [1:30:16<25:28, 11.58s/it]"
     ]
    },
    {
     "name": "stdout",
     "output_type": "stream",
     "text": [
      "1/1 [==============================] - 9s 9s/step\n",
      "5/5 [==============================] - 5s 906ms/step\n"
     ]
    },
    {
     "name": "stderr",
     "output_type": "stream",
     "text": [
      " 75%|███████▍  | 389/520 [1:30:30<27:06, 12.42s/it]"
     ]
    },
    {
     "name": "stdout",
     "output_type": "stream",
     "text": [
      "1/1 [==============================] - 9s 9s/step\n",
      "3/3 [==============================] - 2s 648ms/step\n"
     ]
    },
    {
     "name": "stderr",
     "output_type": "stream",
     "text": [
      " 75%|███████▌  | 390/520 [1:30:41<26:17, 12.13s/it]"
     ]
    },
    {
     "name": "stdout",
     "output_type": "stream",
     "text": [
      "1/1 [==============================] - 9s 9s/step\n",
      "3/3 [==============================] - 2s 643ms/step\n"
     ]
    },
    {
     "name": "stderr",
     "output_type": "stream",
     "text": [
      " 75%|███████▌  | 391/520 [1:30:53<25:45, 11.98s/it]"
     ]
    },
    {
     "name": "stdout",
     "output_type": "stream",
     "text": [
      "1/1 [==============================] - 9s 9s/step\n",
      "3/3 [==============================] - 2s 632ms/step\n"
     ]
    },
    {
     "name": "stderr",
     "output_type": "stream",
     "text": [
      " 75%|███████▌  | 392/520 [1:31:05<25:12, 11.81s/it]"
     ]
    },
    {
     "name": "stdout",
     "output_type": "stream",
     "text": [
      "1/1 [==============================] - 9s 9s/step\n",
      "7/7 [==============================] - 7s 948ms/step\n"
     ]
    },
    {
     "name": "stderr",
     "output_type": "stream",
     "text": [
      " 76%|███████▌  | 393/520 [1:31:21<28:02, 13.25s/it]"
     ]
    },
    {
     "name": "stdout",
     "output_type": "stream",
     "text": [
      "1/1 [==============================] - 9s 9s/step\n",
      "7/7 [==============================] - 6s 898ms/step\n"
     ]
    },
    {
     "name": "stderr",
     "output_type": "stream",
     "text": [
      " 76%|███████▌  | 394/520 [1:31:37<29:41, 14.14s/it]"
     ]
    },
    {
     "name": "stdout",
     "output_type": "stream",
     "text": [
      "1/1 [==============================] - 9s 9s/step\n",
      "3/3 [==============================] - 3s 823ms/step\n"
     ]
    },
    {
     "name": "stderr",
     "output_type": "stream",
     "text": [
      " 76%|███████▌  | 395/520 [1:31:49<28:04, 13.47s/it]"
     ]
    },
    {
     "name": "stdout",
     "output_type": "stream",
     "text": [
      "1/1 [==============================] - 9s 9s/step\n",
      "4/4 [==============================] - 3s 763ms/step\n"
     ]
    },
    {
     "name": "stderr",
     "output_type": "stream",
     "text": [
      " 76%|███████▌  | 396/520 [1:32:02<27:20, 13.23s/it]"
     ]
    },
    {
     "name": "stdout",
     "output_type": "stream",
     "text": [
      "1/1 [==============================] - 9s 9s/step\n",
      "5/5 [==============================] - 5s 912ms/step\n"
     ]
    },
    {
     "name": "stderr",
     "output_type": "stream",
     "text": [
      " 76%|███████▋  | 397/520 [1:32:16<27:46, 13.55s/it]"
     ]
    },
    {
     "name": "stdout",
     "output_type": "stream",
     "text": [
      "1/1 [==============================] - 9s 9s/step\n",
      "5/5 [==============================] - 5s 995ms/step\n"
     ]
    },
    {
     "name": "stderr",
     "output_type": "stream",
     "text": [
      " 77%|███████▋  | 398/520 [1:32:31<28:14, 13.89s/it]"
     ]
    },
    {
     "name": "stdout",
     "output_type": "stream",
     "text": [
      "1/1 [==============================] - 9s 9s/step\n",
      "4/4 [==============================] - 3s 736ms/step\n"
     ]
    },
    {
     "name": "stderr",
     "output_type": "stream",
     "text": [
      " 77%|███████▋  | 399/520 [1:32:44<27:13, 13.50s/it]"
     ]
    },
    {
     "name": "stdout",
     "output_type": "stream",
     "text": [
      "1/1 [==============================] - 9s 9s/step\n",
      "4/4 [==============================] - 4s 1s/step\n"
     ]
    },
    {
     "name": "stderr",
     "output_type": "stream",
     "text": [
      " 77%|███████▋  | 400/520 [1:32:57<26:57, 13.48s/it]"
     ]
    },
    {
     "name": "stdout",
     "output_type": "stream",
     "text": [
      "1/1 [==============================] - 9s 9s/step\n",
      "4/4 [==============================] - 4s 924ms/step\n"
     ]
    },
    {
     "name": "stderr",
     "output_type": "stream",
     "text": [
      " 77%|███████▋  | 401/520 [1:33:10<26:36, 13.42s/it]"
     ]
    },
    {
     "name": "stdout",
     "output_type": "stream",
     "text": [
      "1/1 [==============================] - 9s 9s/step\n",
      "7/7 [==============================] - 6s 883ms/step\n"
     ]
    },
    {
     "name": "stderr",
     "output_type": "stream",
     "text": [
      " 77%|███████▋  | 402/520 [1:33:26<28:01, 14.25s/it]"
     ]
    },
    {
     "name": "stdout",
     "output_type": "stream",
     "text": [
      "1/1 [==============================] - 9s 9s/step\n",
      "4/4 [==============================] - 4s 851ms/step\n"
     ]
    },
    {
     "name": "stderr",
     "output_type": "stream",
     "text": [
      " 78%|███████▊  | 403/520 [1:33:39<27:02, 13.87s/it]"
     ]
    },
    {
     "name": "stdout",
     "output_type": "stream",
     "text": [
      "1/1 [==============================] - 9s 9s/step\n",
      "7/7 [==============================] - 6s 882ms/step\n"
     ]
    },
    {
     "name": "stderr",
     "output_type": "stream",
     "text": [
      " 78%|███████▊  | 404/520 [1:33:56<28:11, 14.58s/it]"
     ]
    },
    {
     "name": "stdout",
     "output_type": "stream",
     "text": [
      "1/1 [==============================] - 8s 8s/step\n",
      "8/8 [==============================] - 8s 1s/step\n"
     ]
    },
    {
     "name": "stderr",
     "output_type": "stream",
     "text": [
      " 78%|███████▊  | 405/520 [1:34:14<29:55, 15.61s/it]"
     ]
    },
    {
     "name": "stdout",
     "output_type": "stream",
     "text": [
      "1/1 [==============================] - 9s 9s/step\n",
      "3/3 [==============================] - 2s 708ms/step\n"
     ]
    },
    {
     "name": "stderr",
     "output_type": "stream",
     "text": [
      " 78%|███████▊  | 406/520 [1:34:25<27:28, 14.46s/it]"
     ]
    },
    {
     "name": "stdout",
     "output_type": "stream",
     "text": [
      "1/1 [==============================] - 9s 9s/step\n",
      "8/8 [==============================] - 8s 948ms/step\n"
     ]
    },
    {
     "name": "stderr",
     "output_type": "stream",
     "text": [
      " 78%|███████▊  | 407/520 [1:34:43<29:02, 15.42s/it]"
     ]
    },
    {
     "name": "stdout",
     "output_type": "stream",
     "text": [
      "1/1 [==============================] - 9s 9s/step\n",
      "3/3 [==============================] - 3s 761ms/step\n"
     ]
    },
    {
     "name": "stderr",
     "output_type": "stream",
     "text": [
      " 78%|███████▊  | 408/520 [1:34:55<26:48, 14.36s/it]"
     ]
    },
    {
     "name": "stdout",
     "output_type": "stream",
     "text": [
      "1/1 [==============================] - 9s 9s/step\n",
      "2/2 [==============================] - 1s 207ms/step\n"
     ]
    },
    {
     "name": "stderr",
     "output_type": "stream",
     "text": [
      " 79%|███████▊  | 409/520 [1:35:05<24:17, 13.13s/it]"
     ]
    },
    {
     "name": "stdout",
     "output_type": "stream",
     "text": [
      "1/1 [==============================] - 9s 9s/step\n",
      "4/4 [==============================] - 4s 903ms/step\n"
     ]
    },
    {
     "name": "stderr",
     "output_type": "stream",
     "text": [
      " 79%|███████▉  | 410/520 [1:35:18<24:03, 13.12s/it]"
     ]
    },
    {
     "name": "stdout",
     "output_type": "stream",
     "text": [
      "1/1 [==============================] - 9s 9s/step\n",
      "8/8 [==============================] - 8s 992ms/step\n"
     ]
    },
    {
     "name": "stderr",
     "output_type": "stream",
     "text": [
      " 79%|███████▉  | 411/520 [1:35:36<26:34, 14.63s/it]"
     ]
    },
    {
     "name": "stdout",
     "output_type": "stream",
     "text": [
      "1/1 [==============================] - 9s 9s/step\n",
      "4/4 [==============================] - 4s 910ms/step\n"
     ]
    },
    {
     "name": "stderr",
     "output_type": "stream",
     "text": [
      " 79%|███████▉  | 412/520 [1:35:50<25:30, 14.17s/it]"
     ]
    },
    {
     "name": "stdout",
     "output_type": "stream",
     "text": [
      "1/1 [==============================] - 9s 9s/step\n",
      "6/6 [==============================] - 6s 906ms/step\n"
     ]
    },
    {
     "name": "stderr",
     "output_type": "stream",
     "text": [
      " 79%|███████▉  | 413/520 [1:36:05<25:54, 14.53s/it]"
     ]
    },
    {
     "name": "stdout",
     "output_type": "stream",
     "text": [
      "1/1 [==============================] - 9s 9s/step\n",
      "4/4 [==============================] - 4s 918ms/step\n"
     ]
    },
    {
     "name": "stderr",
     "output_type": "stream",
     "text": [
      " 80%|███████▉  | 414/520 [1:36:18<24:56, 14.12s/it]"
     ]
    },
    {
     "name": "stdout",
     "output_type": "stream",
     "text": [
      "1/1 [==============================] - 9s 9s/step\n",
      "5/5 [==============================] - 4s 756ms/step\n"
     ]
    },
    {
     "name": "stderr",
     "output_type": "stream",
     "text": [
      " 80%|███████▉  | 415/520 [1:36:32<24:22, 13.92s/it]"
     ]
    },
    {
     "name": "stdout",
     "output_type": "stream",
     "text": [
      "1/1 [==============================] - 9s 9s/step\n",
      "4/4 [==============================] - 4s 986ms/step\n"
     ]
    },
    {
     "name": "stderr",
     "output_type": "stream",
     "text": [
      " 80%|████████  | 416/520 [1:36:45<23:48, 13.73s/it]"
     ]
    },
    {
     "name": "stdout",
     "output_type": "stream",
     "text": [
      "1/1 [==============================] - 9s 9s/step\n",
      "7/7 [==============================] - 6s 889ms/step\n"
     ]
    },
    {
     "name": "stderr",
     "output_type": "stream",
     "text": [
      " 80%|████████  | 417/520 [1:37:01<24:52, 14.49s/it]"
     ]
    },
    {
     "name": "stdout",
     "output_type": "stream",
     "text": [
      "1/1 [==============================] - 9s 9s/step\n",
      "4/4 [==============================] - 4s 997ms/step\n"
     ]
    },
    {
     "name": "stderr",
     "output_type": "stream",
     "text": [
      " 80%|████████  | 418/520 [1:37:14<24:00, 14.13s/it]"
     ]
    },
    {
     "name": "stdout",
     "output_type": "stream",
     "text": [
      "1/1 [==============================] - 8s 8s/step\n",
      "5/5 [==============================] - 4s 829ms/step\n"
     ]
    },
    {
     "name": "stderr",
     "output_type": "stream",
     "text": [
      " 81%|████████  | 419/520 [1:37:28<23:30, 13.97s/it]"
     ]
    },
    {
     "name": "stdout",
     "output_type": "stream",
     "text": [
      "1/1 [==============================] - 8s 8s/step\n",
      "2/2 [==============================] - 2s 888ms/step\n"
     ]
    },
    {
     "name": "stderr",
     "output_type": "stream",
     "text": [
      " 81%|████████  | 420/520 [1:37:39<21:43, 13.03s/it]"
     ]
    },
    {
     "name": "stdout",
     "output_type": "stream",
     "text": [
      "1/1 [==============================] - 8s 8s/step\n",
      "3/3 [==============================] - 3s 1s/step\n"
     ]
    },
    {
     "name": "stderr",
     "output_type": "stream",
     "text": [
      " 81%|████████  | 421/520 [1:37:51<21:05, 12.79s/it]"
     ]
    },
    {
     "name": "stdout",
     "output_type": "stream",
     "text": [
      "1/1 [==============================] - 9s 9s/step\n",
      "5/5 [==============================] - 5s 994ms/step\n"
     ]
    },
    {
     "name": "stderr",
     "output_type": "stream",
     "text": [
      " 81%|████████  | 422/520 [1:38:06<22:01, 13.49s/it]"
     ]
    },
    {
     "name": "stdout",
     "output_type": "stream",
     "text": [
      "1/1 [==============================] - 9s 9s/step\n",
      "2/2 [==============================] - 2s 577ms/step\n"
     ]
    },
    {
     "name": "stderr",
     "output_type": "stream",
     "text": [
      " 81%|████████▏ | 423/520 [1:38:17<20:24, 12.62s/it]"
     ]
    },
    {
     "name": "stdout",
     "output_type": "stream",
     "text": [
      "1/1 [==============================] - 8s 8s/step\n",
      "2/2 [==============================] - 2s 910ms/step\n"
     ]
    },
    {
     "name": "stderr",
     "output_type": "stream",
     "text": [
      " 82%|████████▏ | 424/520 [1:38:28<19:21, 12.10s/it]"
     ]
    },
    {
     "name": "stdout",
     "output_type": "stream",
     "text": [
      "1/1 [==============================] - 8s 8s/step\n",
      "3/3 [==============================] - 2s 517ms/step\n"
     ]
    },
    {
     "name": "stderr",
     "output_type": "stream",
     "text": [
      " 82%|████████▏ | 425/520 [1:38:39<18:37, 11.76s/it]"
     ]
    },
    {
     "name": "stdout",
     "output_type": "stream",
     "text": [
      "1/1 [==============================] - 8s 8s/step\n",
      "5/5 [==============================] - 5s 889ms/step\n"
     ]
    },
    {
     "name": "stderr",
     "output_type": "stream",
     "text": [
      " 82%|████████▏ | 426/520 [1:38:53<19:26, 12.41s/it]"
     ]
    },
    {
     "name": "stdout",
     "output_type": "stream",
     "text": [
      "1/1 [==============================] - 9s 9s/step\n",
      "5/5 [==============================] - 5s 1s/step\n"
     ]
    },
    {
     "name": "stderr",
     "output_type": "stream",
     "text": [
      " 82%|████████▏ | 427/520 [1:39:08<20:26, 13.19s/it]"
     ]
    },
    {
     "name": "stdout",
     "output_type": "stream",
     "text": [
      "1/1 [==============================] - 9s 9s/step\n",
      "4/4 [==============================] - 3s 769ms/step\n"
     ]
    },
    {
     "name": "stderr",
     "output_type": "stream",
     "text": [
      " 82%|████████▏ | 428/520 [1:39:20<19:59, 13.04s/it]"
     ]
    },
    {
     "name": "stdout",
     "output_type": "stream",
     "text": [
      "1/1 [==============================] - 9s 9s/step\n",
      "5/5 [==============================] - 4s 795ms/step\n"
     ]
    },
    {
     "name": "stderr",
     "output_type": "stream",
     "text": [
      " 82%|████████▎ | 429/520 [1:39:34<20:04, 13.23s/it]"
     ]
    },
    {
     "name": "stdout",
     "output_type": "stream",
     "text": [
      "1/1 [==============================] - 9s 9s/step\n",
      "6/6 [==============================] - 5s 854ms/step\n"
     ]
    },
    {
     "name": "stderr",
     "output_type": "stream",
     "text": [
      " 83%|████████▎ | 430/520 [1:39:49<20:39, 13.77s/it]"
     ]
    },
    {
     "name": "stdout",
     "output_type": "stream",
     "text": [
      "1/1 [==============================] - 9s 9s/step\n",
      "5/5 [==============================] - 5s 894ms/step\n"
     ]
    },
    {
     "name": "stderr",
     "output_type": "stream",
     "text": [
      " 83%|████████▎ | 431/520 [1:40:03<20:37, 13.90s/it]"
     ]
    },
    {
     "name": "stdout",
     "output_type": "stream",
     "text": [
      "1/1 [==============================] - 9s 9s/step\n",
      "3/3 [==============================] - 3s 915ms/step\n"
     ]
    },
    {
     "name": "stderr",
     "output_type": "stream",
     "text": [
      " 83%|████████▎ | 432/520 [1:40:15<19:38, 13.40s/it]"
     ]
    },
    {
     "name": "stdout",
     "output_type": "stream",
     "text": [
      "1/1 [==============================] - 9s 9s/step\n",
      "2/2 [==============================] - 1s 434ms/step\n"
     ]
    },
    {
     "name": "stderr",
     "output_type": "stream",
     "text": [
      " 83%|████████▎ | 433/520 [1:40:26<18:11, 12.55s/it]"
     ]
    },
    {
     "name": "stdout",
     "output_type": "stream",
     "text": [
      "1/1 [==============================] - 9s 9s/step\n",
      "2/2 [==============================] - 2s 708ms/step\n"
     ]
    },
    {
     "name": "stderr",
     "output_type": "stream",
     "text": [
      " 83%|████████▎ | 434/520 [1:40:37<17:13, 12.02s/it]"
     ]
    },
    {
     "name": "stdout",
     "output_type": "stream",
     "text": [
      "1/1 [==============================] - 9s 9s/step\n",
      "2/2 [==============================] - 2s 739ms/step\n"
     ]
    },
    {
     "name": "stderr",
     "output_type": "stream",
     "text": [
      " 84%|████████▎ | 435/520 [1:40:48<16:32, 11.68s/it]"
     ]
    },
    {
     "name": "stdout",
     "output_type": "stream",
     "text": [
      "1/1 [==============================] - 9s 9s/step\n",
      "5/5 [==============================] - 4s 818ms/step\n"
     ]
    },
    {
     "name": "stderr",
     "output_type": "stream",
     "text": [
      " 84%|████████▍ | 436/520 [1:41:01<17:16, 12.34s/it]"
     ]
    },
    {
     "name": "stdout",
     "output_type": "stream",
     "text": [
      "1/1 [==============================] - 9s 9s/step\n",
      "3/3 [==============================] - 2s 675ms/step\n"
     ]
    },
    {
     "name": "stderr",
     "output_type": "stream",
     "text": [
      " 84%|████████▍ | 437/520 [1:41:13<16:45, 12.12s/it]"
     ]
    },
    {
     "name": "stdout",
     "output_type": "stream",
     "text": [
      "1/1 [==============================] - 9s 9s/step\n",
      "7/7 [==============================] - 7s 995ms/step\n"
     ]
    },
    {
     "name": "stderr",
     "output_type": "stream",
     "text": [
      " 84%|████████▍ | 438/520 [1:41:30<18:31, 13.55s/it]"
     ]
    },
    {
     "name": "stdout",
     "output_type": "stream",
     "text": [
      "1/1 [==============================] - 9s 9s/step\n",
      "7/7 [==============================] - 6s 917ms/step\n"
     ]
    },
    {
     "name": "stderr",
     "output_type": "stream",
     "text": [
      " 84%|████████▍ | 439/520 [1:41:46<19:26, 14.40s/it]"
     ]
    },
    {
     "name": "stdout",
     "output_type": "stream",
     "text": [
      "1/1 [==============================] - 9s 9s/step\n",
      "7/7 [==============================] - 7s 929ms/step\n"
     ]
    },
    {
     "name": "stderr",
     "output_type": "stream",
     "text": [
      " 85%|████████▍ | 440/520 [1:42:03<20:01, 15.01s/it]"
     ]
    },
    {
     "name": "stdout",
     "output_type": "stream",
     "text": [
      "1/1 [==============================] - 9s 9s/step\n",
      "3/3 [==============================] - 2s 733ms/step\n"
     ]
    },
    {
     "name": "stderr",
     "output_type": "stream",
     "text": [
      " 85%|████████▍ | 441/520 [1:42:15<18:28, 14.03s/it]"
     ]
    },
    {
     "name": "stdout",
     "output_type": "stream",
     "text": [
      "1/1 [==============================] - 9s 9s/step\n",
      "3/3 [==============================] - 2s 725ms/step\n"
     ]
    },
    {
     "name": "stderr",
     "output_type": "stream",
     "text": [
      " 85%|████████▌ | 442/520 [1:42:26<17:19, 13.33s/it]"
     ]
    },
    {
     "name": "stdout",
     "output_type": "stream",
     "text": [
      "1/1 [==============================] - 9s 9s/step\n",
      "4/4 [==============================] - 4s 966ms/step\n"
     ]
    },
    {
     "name": "stderr",
     "output_type": "stream",
     "text": [
      " 85%|████████▌ | 443/520 [1:42:40<17:06, 13.33s/it]"
     ]
    },
    {
     "name": "stdout",
     "output_type": "stream",
     "text": [
      "1/1 [==============================] - 9s 9s/step\n",
      "5/5 [==============================] - 4s 873ms/step\n"
     ]
    },
    {
     "name": "stderr",
     "output_type": "stream",
     "text": [
      " 85%|████████▌ | 444/520 [1:42:54<17:08, 13.53s/it]"
     ]
    },
    {
     "name": "stdout",
     "output_type": "stream",
     "text": [
      "1/1 [==============================] - 9s 9s/step\n",
      "5/5 [==============================] - 5s 951ms/step\n"
     ]
    },
    {
     "name": "stderr",
     "output_type": "stream",
     "text": [
      " 86%|████████▌ | 445/520 [1:43:08<17:16, 13.82s/it]"
     ]
    },
    {
     "name": "stdout",
     "output_type": "stream",
     "text": [
      "1/1 [==============================] - 9s 9s/step\n",
      "2/2 [==============================] - 2s 893ms/step\n"
     ]
    },
    {
     "name": "stderr",
     "output_type": "stream",
     "text": [
      " 86%|████████▌ | 446/520 [1:43:19<16:03, 13.02s/it]"
     ]
    },
    {
     "name": "stdout",
     "output_type": "stream",
     "text": [
      "1/1 [==============================] - 9s 9s/step\n",
      "4/4 [==============================] - 4s 950ms/step\n"
     ]
    },
    {
     "name": "stderr",
     "output_type": "stream",
     "text": [
      " 86%|████████▌ | 447/520 [1:43:32<15:55, 13.09s/it]"
     ]
    },
    {
     "name": "stdout",
     "output_type": "stream",
     "text": [
      "1/1 [==============================] - 9s 9s/step\n",
      "4/4 [==============================] - 4s 868ms/step\n"
     ]
    },
    {
     "name": "stderr",
     "output_type": "stream",
     "text": [
      " 86%|████████▌ | 448/520 [1:43:45<15:40, 13.06s/it]"
     ]
    },
    {
     "name": "stdout",
     "output_type": "stream",
     "text": [
      "1/1 [==============================] - 9s 9s/step\n",
      "7/7 [==============================] - 6s 898ms/step\n"
     ]
    },
    {
     "name": "stderr",
     "output_type": "stream",
     "text": [
      " 86%|████████▋ | 449/520 [1:44:02<16:34, 14.01s/it]"
     ]
    },
    {
     "name": "stdout",
     "output_type": "stream",
     "text": [
      "1/1 [==============================] - 9s 9s/step\n",
      "3/3 [==============================] - 3s 932ms/step\n"
     ]
    },
    {
     "name": "stderr",
     "output_type": "stream",
     "text": [
      " 87%|████████▋ | 450/520 [1:44:14<15:41, 13.46s/it]"
     ]
    },
    {
     "name": "stdout",
     "output_type": "stream",
     "text": [
      "1/1 [==============================] - 9s 9s/step\n",
      "11/11 [==============================] - 10s 930ms/step\n"
     ]
    },
    {
     "name": "stderr",
     "output_type": "stream",
     "text": [
      " 87%|████████▋ | 451/520 [1:44:35<17:59, 15.64s/it]"
     ]
    },
    {
     "name": "stdout",
     "output_type": "stream",
     "text": [
      "1/1 [==============================] - 9s 9s/step\n",
      "6/6 [==============================] - 6s 1s/step\n"
     ]
    },
    {
     "name": "stderr",
     "output_type": "stream",
     "text": [
      " 87%|████████▋ | 452/520 [1:44:50<17:48, 15.71s/it]"
     ]
    },
    {
     "name": "stdout",
     "output_type": "stream",
     "text": [
      "1/1 [==============================] - 9s 9s/step\n",
      "4/4 [==============================] - 4s 893ms/step\n"
     ]
    },
    {
     "name": "stderr",
     "output_type": "stream",
     "text": [
      " 87%|████████▋ | 453/520 [1:45:04<16:40, 14.93s/it]"
     ]
    },
    {
     "name": "stdout",
     "output_type": "stream",
     "text": [
      "1/1 [==============================] - 9s 9s/step\n",
      "6/6 [==============================] - 5s 876ms/step\n"
     ]
    },
    {
     "name": "stderr",
     "output_type": "stream",
     "text": [
      " 87%|████████▋ | 454/520 [1:45:19<16:28, 14.98s/it]"
     ]
    },
    {
     "name": "stdout",
     "output_type": "stream",
     "text": [
      "1/1 [==============================] - 9s 9s/step\n",
      "4/4 [==============================] - 4s 888ms/step\n"
     ]
    },
    {
     "name": "stderr",
     "output_type": "stream",
     "text": [
      " 88%|████████▊ | 455/520 [1:45:32<15:37, 14.42s/it]"
     ]
    },
    {
     "name": "stdout",
     "output_type": "stream",
     "text": [
      "1/1 [==============================] - 9s 9s/step\n",
      "4/4 [==============================] - 3s 799ms/step\n"
     ]
    },
    {
     "name": "stderr",
     "output_type": "stream",
     "text": [
      " 88%|████████▊ | 456/520 [1:45:45<14:53, 13.96s/it]"
     ]
    },
    {
     "name": "stdout",
     "output_type": "stream",
     "text": [
      "1/1 [==============================] - 9s 9s/step\n",
      "6/6 [==============================] - 5s 892ms/step\n"
     ]
    },
    {
     "name": "stderr",
     "output_type": "stream",
     "text": [
      " 88%|████████▊ | 457/520 [1:46:00<15:03, 14.35s/it]"
     ]
    },
    {
     "name": "stdout",
     "output_type": "stream",
     "text": [
      "1/1 [==============================] - 9s 9s/step\n",
      "6/6 [==============================] - 6s 923ms/step\n"
     ]
    },
    {
     "name": "stderr",
     "output_type": "stream",
     "text": [
      " 88%|████████▊ | 458/520 [1:46:15<15:08, 14.65s/it]"
     ]
    },
    {
     "name": "stdout",
     "output_type": "stream",
     "text": [
      "1/1 [==============================] - 9s 9s/step\n",
      "4/4 [==============================] - 3s 734ms/step\n"
     ]
    },
    {
     "name": "stderr",
     "output_type": "stream",
     "text": [
      " 88%|████████▊ | 459/520 [1:46:28<14:16, 14.03s/it]"
     ]
    },
    {
     "name": "stdout",
     "output_type": "stream",
     "text": [
      "1/1 [==============================] - 9s 9s/step\n",
      "4/4 [==============================] - 3s 690ms/step\n"
     ]
    },
    {
     "name": "stderr",
     "output_type": "stream",
     "text": [
      " 88%|████████▊ | 460/520 [1:46:40<13:32, 13.54s/it]"
     ]
    },
    {
     "name": "stdout",
     "output_type": "stream",
     "text": [
      "1/1 [==============================] - 9s 9s/step\n",
      "3/3 [==============================] - 3s 884ms/step\n"
     ]
    },
    {
     "name": "stderr",
     "output_type": "stream",
     "text": [
      " 89%|████████▊ | 461/520 [1:46:52<12:51, 13.08s/it]"
     ]
    },
    {
     "name": "stdout",
     "output_type": "stream",
     "text": [
      "1/1 [==============================] - 9s 9s/step\n",
      "6/6 [==============================] - 5s 902ms/step\n"
     ]
    },
    {
     "name": "stderr",
     "output_type": "stream",
     "text": [
      " 89%|████████▉ | 462/520 [1:47:08<13:16, 13.73s/it]"
     ]
    },
    {
     "name": "stdout",
     "output_type": "stream",
     "text": [
      "1/1 [==============================] - 9s 9s/step\n",
      "3/3 [==============================] - 3s 991ms/step\n"
     ]
    },
    {
     "name": "stderr",
     "output_type": "stream",
     "text": [
      " 89%|████████▉ | 463/520 [1:47:20<12:40, 13.35s/it]"
     ]
    },
    {
     "name": "stdout",
     "output_type": "stream",
     "text": [
      "1/1 [==============================] - 9s 9s/step\n",
      "5/5 [==============================] - 5s 916ms/step\n"
     ]
    },
    {
     "name": "stderr",
     "output_type": "stream",
     "text": [
      " 89%|████████▉ | 464/520 [1:47:34<12:43, 13.63s/it]"
     ]
    },
    {
     "name": "stdout",
     "output_type": "stream",
     "text": [
      "1/1 [==============================] - 9s 9s/step\n",
      "3/3 [==============================] - 2s 593ms/step\n"
     ]
    },
    {
     "name": "stderr",
     "output_type": "stream",
     "text": [
      " 89%|████████▉ | 465/520 [1:47:46<11:52, 12.96s/it]"
     ]
    },
    {
     "name": "stdout",
     "output_type": "stream",
     "text": [
      "1/1 [==============================] - 9s 9s/step\n",
      "7/7 [==============================] - 7s 962ms/step\n"
     ]
    },
    {
     "name": "stderr",
     "output_type": "stream",
     "text": [
      " 90%|████████▉ | 466/520 [1:48:02<12:39, 14.07s/it]"
     ]
    },
    {
     "name": "stdout",
     "output_type": "stream",
     "text": [
      "1/1 [==============================] - 9s 9s/step\n",
      "6/6 [==============================] - 5s 866ms/step\n"
     ]
    },
    {
     "name": "stderr",
     "output_type": "stream",
     "text": [
      " 90%|████████▉ | 467/520 [1:48:17<12:39, 14.34s/it]"
     ]
    },
    {
     "name": "stdout",
     "output_type": "stream",
     "text": [
      "1/1 [==============================] - 9s 9s/step\n",
      "5/5 [==============================] - 5s 997ms/step\n"
     ]
    },
    {
     "name": "stderr",
     "output_type": "stream",
     "text": [
      " 90%|█████████ | 468/520 [1:48:32<12:30, 14.43s/it]"
     ]
    },
    {
     "name": "stdout",
     "output_type": "stream",
     "text": [
      "1/1 [==============================] - 9s 9s/step\n",
      "5/5 [==============================] - 4s 850ms/step\n"
     ]
    },
    {
     "name": "stderr",
     "output_type": "stream",
     "text": [
      " 90%|█████████ | 469/520 [1:48:46<12:08, 14.29s/it]"
     ]
    },
    {
     "name": "stdout",
     "output_type": "stream",
     "text": [
      "1/1 [==============================] - 9s 9s/step\n",
      "4/4 [==============================] - 4s 971ms/step\n"
     ]
    },
    {
     "name": "stderr",
     "output_type": "stream",
     "text": [
      " 90%|█████████ | 470/520 [1:48:59<11:42, 14.04s/it]"
     ]
    },
    {
     "name": "stdout",
     "output_type": "stream",
     "text": [
      "1/1 [==============================] - 9s 9s/step\n",
      "4/4 [==============================] - 4s 920ms/step\n"
     ]
    },
    {
     "name": "stderr",
     "output_type": "stream",
     "text": [
      " 91%|█████████ | 471/520 [1:49:13<11:18, 13.85s/it]"
     ]
    },
    {
     "name": "stdout",
     "output_type": "stream",
     "text": [
      "1/1 [==============================] - 9s 9s/step\n",
      "4/4 [==============================] - 4s 968ms/step\n"
     ]
    },
    {
     "name": "stderr",
     "output_type": "stream",
     "text": [
      " 91%|█████████ | 472/520 [1:49:26<10:58, 13.72s/it]"
     ]
    },
    {
     "name": "stdout",
     "output_type": "stream",
     "text": [
      "1/1 [==============================] - 9s 9s/step\n",
      "3/3 [==============================] - 2s 584ms/step\n"
     ]
    },
    {
     "name": "stderr",
     "output_type": "stream",
     "text": [
      " 91%|█████████ | 473/520 [1:49:38<10:11, 13.02s/it]"
     ]
    },
    {
     "name": "stdout",
     "output_type": "stream",
     "text": [
      "1/1 [==============================] - 8s 8s/step\n",
      "7/7 [==============================] - 6s 919ms/step\n"
     ]
    },
    {
     "name": "stderr",
     "output_type": "stream",
     "text": [
      " 91%|█████████ | 474/520 [1:49:54<10:42, 13.98s/it]"
     ]
    },
    {
     "name": "stdout",
     "output_type": "stream",
     "text": [
      "1/1 [==============================] - 9s 9s/step\n",
      "7/7 [==============================] - 6s 914ms/step\n"
     ]
    },
    {
     "name": "stderr",
     "output_type": "stream",
     "text": [
      " 91%|█████████▏| 475/520 [1:50:10<10:58, 14.63s/it]"
     ]
    },
    {
     "name": "stdout",
     "output_type": "stream",
     "text": [
      "1/1 [==============================] - 9s 9s/step\n",
      "6/6 [==============================] - 6s 919ms/step\n"
     ]
    },
    {
     "name": "stderr",
     "output_type": "stream",
     "text": [
      " 92%|█████████▏| 476/520 [1:50:25<10:51, 14.80s/it]"
     ]
    },
    {
     "name": "stdout",
     "output_type": "stream",
     "text": [
      "1/1 [==============================] - 8s 8s/step\n",
      "7/7 [==============================] - 7s 958ms/step\n"
     ]
    },
    {
     "name": "stderr",
     "output_type": "stream",
     "text": [
      " 92%|█████████▏| 477/520 [1:50:42<10:58, 15.30s/it]"
     ]
    },
    {
     "name": "stdout",
     "output_type": "stream",
     "text": [
      "1/1 [==============================] - 8s 8s/step\n",
      "7/7 [==============================] - 6s 886ms/step\n"
     ]
    },
    {
     "name": "stderr",
     "output_type": "stream",
     "text": [
      " 92%|█████████▏| 478/520 [1:50:58<10:51, 15.50s/it]"
     ]
    },
    {
     "name": "stdout",
     "output_type": "stream",
     "text": [
      "1/1 [==============================] - 9s 9s/step\n",
      "4/4 [==============================] - 4s 998ms/step\n"
     ]
    },
    {
     "name": "stderr",
     "output_type": "stream",
     "text": [
      " 92%|█████████▏| 479/520 [1:51:11<10:08, 14.84s/it]"
     ]
    },
    {
     "name": "stdout",
     "output_type": "stream",
     "text": [
      "1/1 [==============================] - 9s 9s/step\n",
      "7/7 [==============================] - 6s 855ms/step\n"
     ]
    },
    {
     "name": "stderr",
     "output_type": "stream",
     "text": [
      " 92%|█████████▏| 480/520 [1:51:27<10:04, 15.12s/it]"
     ]
    },
    {
     "name": "stdout",
     "output_type": "stream",
     "text": [
      "1/1 [==============================] - 9s 9s/step\n",
      "5/5 [==============================] - 5s 899ms/step\n"
     ]
    },
    {
     "name": "stderr",
     "output_type": "stream",
     "text": [
      " 92%|█████████▎| 481/520 [1:51:41<09:38, 14.83s/it]"
     ]
    },
    {
     "name": "stdout",
     "output_type": "stream",
     "text": [
      "1/1 [==============================] - 9s 9s/step\n",
      "4/4 [==============================] - 3s 686ms/step\n"
     ]
    },
    {
     "name": "stderr",
     "output_type": "stream",
     "text": [
      " 93%|█████████▎| 482/520 [1:51:53<08:53, 14.04s/it]"
     ]
    },
    {
     "name": "stdout",
     "output_type": "stream",
     "text": [
      "1/1 [==============================] - 9s 9s/step\n",
      "5/5 [==============================] - 4s 792ms/step\n"
     ]
    },
    {
     "name": "stderr",
     "output_type": "stream",
     "text": [
      " 93%|█████████▎| 483/520 [1:52:07<08:33, 13.89s/it]"
     ]
    },
    {
     "name": "stdout",
     "output_type": "stream",
     "text": [
      "1/1 [==============================] - 8s 8s/step\n",
      "4/4 [==============================] - 3s 775ms/step\n"
     ]
    },
    {
     "name": "stderr",
     "output_type": "stream",
     "text": [
      " 93%|█████████▎| 484/520 [1:52:19<08:05, 13.48s/it]"
     ]
    },
    {
     "name": "stdout",
     "output_type": "stream",
     "text": [
      "1/1 [==============================] - 8s 8s/step\n",
      "6/6 [==============================] - 5s 902ms/step\n"
     ]
    },
    {
     "name": "stderr",
     "output_type": "stream",
     "text": [
      " 93%|█████████▎| 485/520 [1:52:34<08:08, 13.95s/it]"
     ]
    },
    {
     "name": "stdout",
     "output_type": "stream",
     "text": [
      "1/1 [==============================] - 8s 8s/step\n",
      "3/3 [==============================] - 3s 887ms/step\n"
     ]
    },
    {
     "name": "stderr",
     "output_type": "stream",
     "text": [
      " 93%|█████████▎| 486/520 [1:52:46<07:33, 13.33s/it]"
     ]
    },
    {
     "name": "stdout",
     "output_type": "stream",
     "text": [
      "1/1 [==============================] - 9s 9s/step\n",
      "4/4 [==============================] - 3s 720ms/step\n"
     ]
    },
    {
     "name": "stderr",
     "output_type": "stream",
     "text": [
      " 94%|█████████▎| 487/520 [1:52:58<07:10, 13.04s/it]"
     ]
    },
    {
     "name": "stdout",
     "output_type": "stream",
     "text": [
      "1/1 [==============================] - 8s 8s/step\n",
      "3/3 [==============================] - 3s 905ms/step\n"
     ]
    },
    {
     "name": "stderr",
     "output_type": "stream",
     "text": [
      " 94%|█████████▍| 488/520 [1:53:10<06:46, 12.71s/it]"
     ]
    },
    {
     "name": "stdout",
     "output_type": "stream",
     "text": [
      "1/1 [==============================] - 9s 9s/step\n",
      "3/3 [==============================] - 3s 825ms/step\n"
     ]
    },
    {
     "name": "stderr",
     "output_type": "stream",
     "text": [
      " 94%|█████████▍| 489/520 [1:53:22<06:25, 12.43s/it]"
     ]
    },
    {
     "name": "stdout",
     "output_type": "stream",
     "text": [
      "1/1 [==============================] - 9s 9s/step\n",
      "3/3 [==============================] - 3s 886ms/step\n"
     ]
    },
    {
     "name": "stderr",
     "output_type": "stream",
     "text": [
      " 94%|█████████▍| 490/520 [1:53:34<06:08, 12.27s/it]"
     ]
    },
    {
     "name": "stdout",
     "output_type": "stream",
     "text": [
      "1/1 [==============================] - 9s 9s/step\n",
      "3/3 [==============================] - 3s 872ms/step\n"
     ]
    },
    {
     "name": "stderr",
     "output_type": "stream",
     "text": [
      " 94%|█████████▍| 491/520 [1:53:46<05:52, 12.17s/it]"
     ]
    },
    {
     "name": "stdout",
     "output_type": "stream",
     "text": [
      "1/1 [==============================] - 8s 8s/step\n",
      "3/3 [==============================] - 3s 865ms/step\n"
     ]
    },
    {
     "name": "stderr",
     "output_type": "stream",
     "text": [
      " 95%|█████████▍| 492/520 [1:53:58<05:37, 12.06s/it]"
     ]
    },
    {
     "name": "stdout",
     "output_type": "stream",
     "text": [
      "1/1 [==============================] - 9s 9s/step\n",
      "3/3 [==============================] - 3s 819ms/step\n"
     ]
    },
    {
     "name": "stderr",
     "output_type": "stream",
     "text": [
      " 95%|█████████▍| 493/520 [1:54:09<05:23, 11.97s/it]"
     ]
    },
    {
     "name": "stdout",
     "output_type": "stream",
     "text": [
      "1/1 [==============================] - 9s 9s/step\n",
      "3/3 [==============================] - 3s 822ms/step\n"
     ]
    },
    {
     "name": "stderr",
     "output_type": "stream",
     "text": [
      " 95%|█████████▌| 494/520 [1:54:21<05:09, 11.91s/it]"
     ]
    },
    {
     "name": "stdout",
     "output_type": "stream",
     "text": [
      "1/1 [==============================] - 8s 8s/step\n",
      "3/3 [==============================] - 3s 830ms/step\n"
     ]
    },
    {
     "name": "stderr",
     "output_type": "stream",
     "text": [
      " 95%|█████████▌| 495/520 [1:54:33<04:56, 11.84s/it]"
     ]
    },
    {
     "name": "stdout",
     "output_type": "stream",
     "text": [
      "1/1 [==============================] - 8s 8s/step\n",
      "3/3 [==============================] - 3s 966ms/step\n"
     ]
    },
    {
     "name": "stderr",
     "output_type": "stream",
     "text": [
      " 95%|█████████▌| 496/520 [1:54:45<04:45, 11.89s/it]"
     ]
    },
    {
     "name": "stdout",
     "output_type": "stream",
     "text": [
      "1/1 [==============================] - 8s 8s/step\n",
      "3/3 [==============================] - 3s 878ms/step\n"
     ]
    },
    {
     "name": "stderr",
     "output_type": "stream",
     "text": [
      " 96%|█████████▌| 497/520 [1:54:57<04:33, 11.89s/it]"
     ]
    },
    {
     "name": "stdout",
     "output_type": "stream",
     "text": [
      "1/1 [==============================] - 9s 9s/step\n",
      "3/3 [==============================] - 3s 878ms/step\n"
     ]
    },
    {
     "name": "stderr",
     "output_type": "stream",
     "text": [
      " 96%|█████████▌| 498/520 [1:55:09<04:21, 11.87s/it]"
     ]
    },
    {
     "name": "stdout",
     "output_type": "stream",
     "text": [
      "1/1 [==============================] - 8s 8s/step\n",
      "3/3 [==============================] - 3s 777ms/step\n"
     ]
    },
    {
     "name": "stderr",
     "output_type": "stream",
     "text": [
      " 96%|█████████▌| 499/520 [1:55:20<04:07, 11.80s/it]"
     ]
    },
    {
     "name": "stdout",
     "output_type": "stream",
     "text": [
      "1/1 [==============================] - 8s 8s/step\n",
      "3/3 [==============================] - 3s 883ms/step\n"
     ]
    },
    {
     "name": "stderr",
     "output_type": "stream",
     "text": [
      " 96%|█████████▌| 500/520 [1:55:32<03:56, 11.83s/it]"
     ]
    },
    {
     "name": "stdout",
     "output_type": "stream",
     "text": [
      "1/1 [==============================] - 8s 8s/step\n",
      "3/3 [==============================] - 3s 825ms/step\n"
     ]
    },
    {
     "name": "stderr",
     "output_type": "stream",
     "text": [
      " 96%|█████████▋| 501/520 [1:55:44<03:44, 11.80s/it]"
     ]
    },
    {
     "name": "stdout",
     "output_type": "stream",
     "text": [
      "1/1 [==============================] - 8s 8s/step\n",
      "4/4 [==============================] - 4s 961ms/step\n"
     ]
    },
    {
     "name": "stderr",
     "output_type": "stream",
     "text": [
      " 97%|█████████▋| 502/520 [1:55:57<03:39, 12.21s/it]"
     ]
    },
    {
     "name": "stdout",
     "output_type": "stream",
     "text": [
      "1/1 [==============================] - 8s 8s/step\n",
      "3/3 [==============================] - 3s 883ms/step\n"
     ]
    },
    {
     "name": "stderr",
     "output_type": "stream",
     "text": [
      " 97%|█████████▋| 503/520 [1:56:09<03:25, 12.11s/it]"
     ]
    },
    {
     "name": "stdout",
     "output_type": "stream",
     "text": [
      "1/1 [==============================] - 8s 8s/step\n",
      "4/4 [==============================] - 3s 733ms/step\n"
     ]
    },
    {
     "name": "stderr",
     "output_type": "stream",
     "text": [
      " 97%|█████████▋| 504/520 [1:56:21<03:15, 12.19s/it]"
     ]
    },
    {
     "name": "stdout",
     "output_type": "stream",
     "text": [
      "1/1 [==============================] - 9s 9s/step\n",
      "4/4 [==============================] - 3s 715ms/step\n"
     ]
    },
    {
     "name": "stderr",
     "output_type": "stream",
     "text": [
      " 97%|█████████▋| 505/520 [1:56:34<03:04, 12.32s/it]"
     ]
    },
    {
     "name": "stdout",
     "output_type": "stream",
     "text": [
      "1/1 [==============================] - 9s 9s/step\n",
      "4/4 [==============================] - 4s 916ms/step\n"
     ]
    },
    {
     "name": "stderr",
     "output_type": "stream",
     "text": [
      " 97%|█████████▋| 506/520 [1:56:47<02:55, 12.55s/it]"
     ]
    },
    {
     "name": "stdout",
     "output_type": "stream",
     "text": [
      "1/1 [==============================] - 9s 9s/step\n",
      "3/3 [==============================] - 3s 887ms/step\n"
     ]
    },
    {
     "name": "stderr",
     "output_type": "stream",
     "text": [
      " 98%|█████████▊| 507/520 [1:56:59<02:40, 12.36s/it]"
     ]
    },
    {
     "name": "stdout",
     "output_type": "stream",
     "text": [
      "1/1 [==============================] - 9s 9s/step\n",
      "9/9 [==============================] - 9s 991ms/step\n"
     ]
    },
    {
     "name": "stderr",
     "output_type": "stream",
     "text": [
      " 98%|█████████▊| 508/520 [1:57:18<02:52, 14.38s/it]"
     ]
    },
    {
     "name": "stdout",
     "output_type": "stream",
     "text": [
      "1/1 [==============================] - 9s 9s/step\n",
      "4/4 [==============================] - 4s 854ms/step\n"
     ]
    },
    {
     "name": "stderr",
     "output_type": "stream",
     "text": [
      " 98%|█████████▊| 509/520 [1:57:31<02:33, 13.92s/it]"
     ]
    },
    {
     "name": "stdout",
     "output_type": "stream",
     "text": [
      "1/1 [==============================] - 8s 8s/step\n",
      "3/3 [==============================] - 3s 956ms/step\n"
     ]
    },
    {
     "name": "stderr",
     "output_type": "stream",
     "text": [
      " 98%|█████████▊| 510/520 [1:57:43<02:13, 13.35s/it]"
     ]
    },
    {
     "name": "stdout",
     "output_type": "stream",
     "text": [
      "1/1 [==============================] - 9s 9s/step\n",
      "3/3 [==============================] - 3s 977ms/step\n"
     ]
    },
    {
     "name": "stderr",
     "output_type": "stream",
     "text": [
      " 98%|█████████▊| 511/520 [1:57:55<01:56, 12.97s/it]"
     ]
    },
    {
     "name": "stdout",
     "output_type": "stream",
     "text": [
      "1/1 [==============================] - 8s 8s/step\n",
      "3/3 [==============================] - 3s 996ms/step\n"
     ]
    },
    {
     "name": "stderr",
     "output_type": "stream",
     "text": [
      " 98%|█████████▊| 512/520 [1:58:07<01:41, 12.72s/it]"
     ]
    },
    {
     "name": "stdout",
     "output_type": "stream",
     "text": [
      "1/1 [==============================] - 8s 8s/step\n",
      "3/3 [==============================] - 3s 990ms/step\n"
     ]
    },
    {
     "name": "stderr",
     "output_type": "stream",
     "text": [
      " 99%|█████████▊| 513/520 [1:58:19<01:27, 12.56s/it]"
     ]
    },
    {
     "name": "stdout",
     "output_type": "stream",
     "text": [
      "1/1 [==============================] - 9s 9s/step\n",
      "4/4 [==============================] - 3s 696ms/step\n"
     ]
    },
    {
     "name": "stderr",
     "output_type": "stream",
     "text": [
      " 99%|█████████▉| 514/520 [1:58:32<01:14, 12.49s/it]"
     ]
    },
    {
     "name": "stdout",
     "output_type": "stream",
     "text": [
      "1/1 [==============================] - 8s 8s/step\n",
      "4/4 [==============================] - 3s 766ms/step\n"
     ]
    },
    {
     "name": "stderr",
     "output_type": "stream",
     "text": [
      " 99%|█████████▉| 515/520 [1:58:44<01:02, 12.49s/it]"
     ]
    },
    {
     "name": "stdout",
     "output_type": "stream",
     "text": [
      "1/1 [==============================] - 9s 9s/step\n",
      "4/4 [==============================] - 3s 703ms/step\n"
     ]
    },
    {
     "name": "stderr",
     "output_type": "stream",
     "text": [
      " 99%|█████████▉| 516/520 [1:58:56<00:49, 12.44s/it]"
     ]
    },
    {
     "name": "stdout",
     "output_type": "stream",
     "text": [
      "1/1 [==============================] - 9s 9s/step\n",
      "12/12 [==============================] - 12s 1s/step\n"
     ]
    },
    {
     "name": "stderr",
     "output_type": "stream",
     "text": [
      " 99%|█████████▉| 517/520 [1:59:19<00:46, 15.60s/it]"
     ]
    },
    {
     "name": "stdout",
     "output_type": "stream",
     "text": [
      "1/1 [==============================] - 9s 9s/step\n",
      "3/3 [==============================] - 3s 932ms/step\n"
     ]
    },
    {
     "name": "stderr",
     "output_type": "stream",
     "text": [
      "100%|█████████▉| 518/520 [1:59:32<00:29, 14.65s/it]"
     ]
    },
    {
     "name": "stdout",
     "output_type": "stream",
     "text": [
      "1/1 [==============================] - 9s 9s/step\n",
      "3/3 [==============================] - 3s 798ms/step\n"
     ]
    },
    {
     "name": "stderr",
     "output_type": "stream",
     "text": [
      "100%|█████████▉| 519/520 [1:59:44<00:13, 13.89s/it]"
     ]
    },
    {
     "name": "stdout",
     "output_type": "stream",
     "text": [
      "1/1 [==============================] - 9s 9s/step\n",
      "4/4 [==============================] - 4s 939ms/step\n"
     ]
    },
    {
     "name": "stderr",
     "output_type": "stream",
     "text": [
      "100%|██████████| 520/520 [1:59:57<00:00, 13.84s/it]\n"
     ]
    },
    {
     "name": "stdout",
     "output_type": "stream",
     "text": [
      "Calculating similarity score\n"
     ]
    },
    {
     "name": "stderr",
     "output_type": "stream",
     "text": [
      "  0%|          | 0/520 [00:00<?, ?it/s]d:\\Users\\Julien\\Documents\\developpement\\python\\mai24_bds_extraction_info\\notebooks\\..\\src\\features\\build_features.py:82: UserWarning: [W007] The model you're using has no word vectors loaded, so the result of the Doc.similarity method will be based on the tagger, parser and NER, which may not give useful similarity judgements. This may happen if you're using one of the small models, e.g. `en_core_web_sm`, which don't ship with word vectors and only use context-sensitive tensors. You can always add your own word vectors, or use one of the larger models instead if available.\n",
      "  return doc1.similarity(doc2)\n",
      " 74%|███████▍  | 385/520 [03:09<01:00,  2.22it/s]d:\\Users\\Julien\\Documents\\developpement\\python\\mai24_bds_extraction_info\\notebooks\\..\\src\\features\\build_features.py:82: UserWarning: [W008] Evaluating Doc.similarity based on empty vectors.\n",
      "  return doc1.similarity(doc2)\n",
      "100%|██████████| 520/520 [04:14<00:00,  2.05it/s]\n"
     ]
    },
    {
     "name": "stdout",
     "output_type": "stream",
     "text": [
      "Calculating similarity score\n"
     ]
    },
    {
     "name": "stderr",
     "output_type": "stream",
     "text": [
      "  0%|          | 0/520 [00:00<?, ?it/s]d:\\Users\\Julien\\Documents\\developpement\\python\\mai24_bds_extraction_info\\notebooks\\..\\src\\features\\build_features.py:82: UserWarning: [W007] The model you're using has no word vectors loaded, so the result of the Doc.similarity method will be based on the tagger, parser and NER, which may not give useful similarity judgements. This may happen if you're using one of the small models, e.g. `en_core_web_sm`, which don't ship with word vectors and only use context-sensitive tensors. You can always add your own word vectors, or use one of the larger models instead if available.\n",
      "  return doc1.similarity(doc2)\n",
      " 74%|███████▍  | 385/520 [03:04<01:00,  2.22it/s]d:\\Users\\Julien\\Documents\\developpement\\python\\mai24_bds_extraction_info\\notebooks\\..\\src\\features\\build_features.py:82: UserWarning: [W008] Evaluating Doc.similarity based on empty vectors.\n",
      "  return doc1.similarity(doc2)\n",
      "100%|██████████| 520/520 [04:08<00:00,  2.09it/s]\n"
     ]
    },
    {
     "name": "stdout",
     "output_type": "stream",
     "text": [
      "Calculating similarity score\n"
     ]
    },
    {
     "name": "stderr",
     "output_type": "stream",
     "text": [
      "  0%|          | 0/520 [00:00<?, ?it/s]d:\\Users\\Julien\\Documents\\developpement\\python\\mai24_bds_extraction_info\\notebooks\\..\\src\\features\\build_features.py:82: UserWarning: [W007] The model you're using has no word vectors loaded, so the result of the Doc.similarity method will be based on the tagger, parser and NER, which may not give useful similarity judgements. This may happen if you're using one of the small models, e.g. `en_core_web_sm`, which don't ship with word vectors and only use context-sensitive tensors. You can always add your own word vectors, or use one of the larger models instead if available.\n",
      "  return doc1.similarity(doc2)\n",
      " 74%|███████▍  | 385/520 [03:08<01:11,  1.88it/s]d:\\Users\\Julien\\Documents\\developpement\\python\\mai24_bds_extraction_info\\notebooks\\..\\src\\features\\build_features.py:82: UserWarning: [W008] Evaluating Doc.similarity based on empty vectors.\n",
      "  return doc1.similarity(doc2)\n",
      "100%|██████████| 520/520 [04:13<00:00,  2.05it/s]\n"
     ]
    },
    {
     "name": "stdout",
     "output_type": "stream",
     "text": [
      "Calculating Jaccard index\n"
     ]
    },
    {
     "name": "stderr",
     "output_type": "stream",
     "text": [
      "100%|██████████| 520/520 [00:00<00:00, 18381.19it/s]\n"
     ]
    },
    {
     "name": "stdout",
     "output_type": "stream",
     "text": [
      "Calculating Jaccard index\n"
     ]
    },
    {
     "name": "stderr",
     "output_type": "stream",
     "text": [
      "100%|██████████| 520/520 [00:00<00:00, 17934.84it/s]\n"
     ]
    },
    {
     "name": "stdout",
     "output_type": "stream",
     "text": [
      "Calculating Jaccard index\n"
     ]
    },
    {
     "name": "stderr",
     "output_type": "stream",
     "text": [
      "100%|██████████| 520/520 [00:00<00:00, 16804.49it/s]\n"
     ]
    },
    {
     "name": "stdout",
     "output_type": "stream",
     "text": [
      "Calculating tfidf similarity\n"
     ]
    },
    {
     "name": "stderr",
     "output_type": "stream",
     "text": [
      "100%|██████████| 520/520 [01:18<00:00,  6.62it/s]\n"
     ]
    },
    {
     "name": "stdout",
     "output_type": "stream",
     "text": [
      "Calculating tfidf similarity\n"
     ]
    },
    {
     "name": "stderr",
     "output_type": "stream",
     "text": [
      "100%|██████████| 520/520 [01:23<00:00,  6.19it/s]\n"
     ]
    },
    {
     "name": "stdout",
     "output_type": "stream",
     "text": [
      "Calculating tfidf similarity\n"
     ]
    },
    {
     "name": "stderr",
     "output_type": "stream",
     "text": [
      "100%|██████████| 520/520 [01:40<00:00,  5.16it/s]\n"
     ]
    }
   ],
   "source": [
    "#Rotating and resizing the pictures\n",
    "df['angle'] = df.picture.apply(get_text_orientation)\n",
    "df['picture'] = df.apply(lambda x: rotate_image(x['picture'], x['angle']), axis=1)\n",
    "df['picture'] = df.apply(lambda x: resize_image(x['picture']), axis=1)\n",
    "\n",
    "#ocr with pytesseract and easyocr\n",
    "df['ocr_text_tess'] = ocr_pytesseract(df.picture)\n",
    "df['ocr_text_easyocr'] = ocr_easyocr(df.filename)\n",
    "df['ocr_text_keras_ocr'] = ocr_keras_ocr(df.picture)\n",
    "\n",
    "\n",
    "#saving the dataframe\n",
    "pickle_df(df, './../data/raw/df.pkl')\n",
    "df = unpickle_df('./../data/raw/df.pkl')\n",
    "\n",
    "#calculating all the scores\n",
    "df['similarity_tess'] = similarity_score(df.text, df.ocr_text_tess)\n",
    "df['similarity_easyocr'] = similarity_score(df.text, df.ocr_text_easyocr)\n",
    "df['similarity_keras_ocr'] = similarity_score(df.text, df.ocr_text_keras_ocr)\n",
    "\n",
    "df['jaccard_tess'] = jaccard_index(df.text, df.ocr_text_tess)\n",
    "df['jaccard_easyocr'] = jaccard_index(df.text, df.ocr_text_easyocr)\n",
    "df['jaccard_keras_ocr'] = jaccard_index(df.text, df.ocr_text_keras_ocr)\n",
    "\n",
    "df['tfidf_tess'] = tfidf_score(df.text, df.ocr_text_tess)\n",
    "df['tfidf_easyocr'] = tfidf_score(df.text, df.ocr_text_easyocr)\n",
    "df['tfidf_keras_ocr'] = tfidf_score(df.text, df.ocr_text_keras_ocr)"
   ]
  },
  {
   "cell_type": "markdown",
   "metadata": {},
   "source": [
    "##### On nettoie le texte et on calcul à nouveau les metriques"
   ]
  },
  {
   "cell_type": "code",
   "execution_count": 18,
   "metadata": {},
   "outputs": [
    {
     "name": "stdout",
     "output_type": "stream",
     "text": [
      "Cleaning the text\n"
     ]
    },
    {
     "name": "stderr",
     "output_type": "stream",
     "text": [
      "100%|██████████| 520/520 [03:57<00:00,  2.19it/s]\n"
     ]
    },
    {
     "name": "stdout",
     "output_type": "stream",
     "text": [
      "Cleaning the text\n"
     ]
    },
    {
     "name": "stderr",
     "output_type": "stream",
     "text": [
      "100%|██████████| 520/520 [03:51<00:00,  2.25it/s]\n"
     ]
    },
    {
     "name": "stdout",
     "output_type": "stream",
     "text": [
      "Cleaning the text\n"
     ]
    },
    {
     "name": "stderr",
     "output_type": "stream",
     "text": [
      "100%|██████████| 520/520 [03:52<00:00,  2.24it/s]\n"
     ]
    },
    {
     "name": "stdout",
     "output_type": "stream",
     "text": [
      "Cleaning the text\n"
     ]
    },
    {
     "name": "stderr",
     "output_type": "stream",
     "text": [
      "100%|██████████| 520/520 [03:57<00:00,  2.19it/s]\n"
     ]
    },
    {
     "name": "stdout",
     "output_type": "stream",
     "text": [
      "Calculating similarity score\n"
     ]
    },
    {
     "name": "stderr",
     "output_type": "stream",
     "text": [
      "  0%|          | 0/520 [00:00<?, ?it/s]d:\\Users\\Julien\\Documents\\developpement\\python\\mai24_bds_extraction_info\\notebooks\\..\\src\\features\\build_features.py:82: UserWarning: [W007] The model you're using has no word vectors loaded, so the result of the Doc.similarity method will be based on the tagger, parser and NER, which may not give useful similarity judgements. This may happen if you're using one of the small models, e.g. `en_core_web_sm`, which don't ship with word vectors and only use context-sensitive tensors. You can always add your own word vectors, or use one of the larger models instead if available.\n",
      "  return doc1.similarity(doc2)\n",
      " 74%|███████▍  | 385/520 [02:59<01:01,  2.18it/s]d:\\Users\\Julien\\Documents\\developpement\\python\\mai24_bds_extraction_info\\notebooks\\..\\src\\features\\build_features.py:82: UserWarning: [W008] Evaluating Doc.similarity based on empty vectors.\n",
      "  return doc1.similarity(doc2)\n",
      "100%|██████████| 520/520 [04:01<00:00,  2.16it/s]\n"
     ]
    },
    {
     "name": "stdout",
     "output_type": "stream",
     "text": [
      "Calculating similarity score\n"
     ]
    },
    {
     "name": "stderr",
     "output_type": "stream",
     "text": [
      "  0%|          | 0/520 [00:00<?, ?it/s]d:\\Users\\Julien\\Documents\\developpement\\python\\mai24_bds_extraction_info\\notebooks\\..\\src\\features\\build_features.py:82: UserWarning: [W007] The model you're using has no word vectors loaded, so the result of the Doc.similarity method will be based on the tagger, parser and NER, which may not give useful similarity judgements. This may happen if you're using one of the small models, e.g. `en_core_web_sm`, which don't ship with word vectors and only use context-sensitive tensors. You can always add your own word vectors, or use one of the larger models instead if available.\n",
      "  return doc1.similarity(doc2)\n",
      " 74%|███████▍  | 385/520 [03:00<01:00,  2.22it/s]d:\\Users\\Julien\\Documents\\developpement\\python\\mai24_bds_extraction_info\\notebooks\\..\\src\\features\\build_features.py:82: UserWarning: [W008] Evaluating Doc.similarity based on empty vectors.\n",
      "  return doc1.similarity(doc2)\n",
      "100%|██████████| 520/520 [04:03<00:00,  2.14it/s]\n"
     ]
    },
    {
     "name": "stdout",
     "output_type": "stream",
     "text": [
      "Calculating similarity score\n"
     ]
    },
    {
     "name": "stderr",
     "output_type": "stream",
     "text": [
      "  0%|          | 0/520 [00:00<?, ?it/s]d:\\Users\\Julien\\Documents\\developpement\\python\\mai24_bds_extraction_info\\notebooks\\..\\src\\features\\build_features.py:82: UserWarning: [W007] The model you're using has no word vectors loaded, so the result of the Doc.similarity method will be based on the tagger, parser and NER, which may not give useful similarity judgements. This may happen if you're using one of the small models, e.g. `en_core_web_sm`, which don't ship with word vectors and only use context-sensitive tensors. You can always add your own word vectors, or use one of the larger models instead if available.\n",
      "  return doc1.similarity(doc2)\n",
      " 74%|███████▍  | 385/520 [03:01<01:01,  2.21it/s]d:\\Users\\Julien\\Documents\\developpement\\python\\mai24_bds_extraction_info\\notebooks\\..\\src\\features\\build_features.py:82: UserWarning: [W008] Evaluating Doc.similarity based on empty vectors.\n",
      "  return doc1.similarity(doc2)\n",
      "100%|██████████| 520/520 [04:05<00:00,  2.12it/s]\n"
     ]
    },
    {
     "name": "stdout",
     "output_type": "stream",
     "text": [
      "Calculating Jaccard index\n"
     ]
    },
    {
     "name": "stderr",
     "output_type": "stream",
     "text": [
      "100%|██████████| 520/520 [00:00<00:00, 29824.12it/s]\n"
     ]
    },
    {
     "name": "stdout",
     "output_type": "stream",
     "text": [
      "Calculating Jaccard index\n"
     ]
    },
    {
     "name": "stderr",
     "output_type": "stream",
     "text": [
      "100%|██████████| 520/520 [00:00<00:00, 19195.22it/s]\n"
     ]
    },
    {
     "name": "stdout",
     "output_type": "stream",
     "text": [
      "Calculating Jaccard index\n"
     ]
    },
    {
     "name": "stderr",
     "output_type": "stream",
     "text": [
      "100%|██████████| 520/520 [00:00<00:00, 17220.17it/s]\n"
     ]
    },
    {
     "name": "stdout",
     "output_type": "stream",
     "text": [
      "Calculating tfidf similarity\n"
     ]
    },
    {
     "name": "stderr",
     "output_type": "stream",
     "text": [
      "100%|██████████| 520/520 [00:36<00:00, 14.14it/s]\n"
     ]
    },
    {
     "name": "stdout",
     "output_type": "stream",
     "text": [
      "Calculating tfidf similarity\n"
     ]
    },
    {
     "name": "stderr",
     "output_type": "stream",
     "text": [
      "100%|██████████| 520/520 [00:42<00:00, 12.37it/s]\n"
     ]
    },
    {
     "name": "stdout",
     "output_type": "stream",
     "text": [
      "Calculating tfidf similarity\n"
     ]
    },
    {
     "name": "stderr",
     "output_type": "stream",
     "text": [
      "100%|██████████| 520/520 [01:02<00:00,  8.38it/s]\n"
     ]
    }
   ],
   "source": [
    "#cleaning the texts\n",
    "df['clean_text'] = clean_text(df.text)\n",
    "df['clean_ocr_text_tess'] = clean_text(df.ocr_text_tess)\n",
    "df['clean_ocr_text_easyocr'] = clean_text(df.ocr_text_easyocr)\n",
    "df['clean_ocr_text_keras_ocr'] = clean_text(df.ocr_text_keras_ocr)\n",
    "\n",
    "#saving the dataframe\n",
    "pickle_df(df, './../data/raw/df_clean.pkl')\n",
    "df = unpickle_df('./../data/raw/df_clean.pkl')\n",
    "\n",
    "#calculating all the scores\n",
    "df['clean_similarity_tess'] = similarity_score(df.clean_text, df.clean_ocr_text_tess)\n",
    "df['clean_similarity_easyocr'] = similarity_score(df.clean_text, df.clean_ocr_text_easyocr)\n",
    "df['clean_similarity_keras_ocr'] = similarity_score(df.clean_text, df.clean_ocr_text_keras_ocr)\n",
    "\n",
    "df['clean_jaccard_tess'] = jaccard_index(df.clean_text, df.clean_ocr_text_tess)\n",
    "df['clean_jaccard_easyocr'] = jaccard_index(df.clean_text, df.clean_ocr_text_easyocr)\n",
    "df['clean_jaccard_keras_ocr'] = jaccard_index(df.clean_text, df.clean_ocr_text_keras_ocr)\n",
    "\n",
    "df['clean_tfidf_tess'] = tfidf_score(df.clean_text, df.clean_ocr_text_tess)\n",
    "df['clean_tfidf_easyocr'] = tfidf_score(df.clean_text, df.clean_ocr_text_easyocr)\n",
    "df['clean_tfidf_keras_ocr'] = tfidf_score(df.clean_text, df.clean_ocr_text_keras_ocr)"
   ]
  },
  {
   "cell_type": "markdown",
   "metadata": {},
   "source": [
    "##### Plotting des differentes metriques"
   ]
  },
  {
   "cell_type": "code",
   "execution_count": 22,
   "metadata": {},
   "outputs": [
    {
     "data": {
      "image/png": "[encoded data removed]",
      "text/plain": [
       "<Figure size 1000x600 with 1 Axes>"
      ]
     },
     "metadata": {},
     "output_type": "display_data"
    }
   ],
   "source": [
    "#ploting all the similarity scores\n",
    "plt.figure(figsize=(10, 6))\n",
    "plt.xlim(0.7,1.05)\n",
    "sns.kdeplot(data=df, x=\"similarity_keras_ocr\", color='blue', linestyle='dashed', label='raw keras_ocr: mean = ' + str(round(np.mean(df.similarity_keras_ocr), 2)))\n",
    "sns.kdeplot(data=df, x=\"similarity_tess\", color='red', linestyle='dashed', label='raw pytesseract: mean = ' + str(round(np.mean(df.similarity_tess), 2)))\n",
    "sns.kdeplot(data=df, x=\"similarity_easyocr\", color='green', linestyle='dashed', label='raw easyocr: mean = ' + str(round(np.mean(df.similarity_easyocr), 2)))\n",
    "sns.kdeplot(data=df, x=\"clean_similarity_keras_ocr\", color='blue', label='clean keras_ocr: mean = ' + str(round(np.mean(df.clean_similarity_keras_ocr), 2)))\n",
    "sns.kdeplot(data=df, x=\"clean_similarity_tess\", color='red', label='clean pytesseract: mean = ' + str(round(np.mean(df.clean_similarity_tess), 2)))\n",
    "sns.kdeplot(data=df, x=\"clean_similarity_easyocr\", color='green', label='clean easyocr: mean = ' + str(round(np.mean(df.clean_similarity_easyocr), 2)))\n",
    "plt.xlabel('Similarity score')\n",
    "plt.title('Scores de similarité entre le texte et le texte OCR')\n",
    "plt.legend()\n",
    "plt.show()"
   ]
  },
  {
   "cell_type": "code",
   "execution_count": 23,
   "metadata": {},
   "outputs": [
    {
     "data": {
      "image/png": "[encoded data removed]",
      "text/plain": [
       "<Figure size 1000x600 with 1 Axes>"
      ]
     },
     "metadata": {},
     "output_type": "display_data"
    }
   ],
   "source": [
    "#ploting all the jaccard index\n",
    "plt.figure(figsize=(10, 6))\n",
    "sns.boxplot(data=[df.jaccard_keras_ocr, df.jaccard_easyocr, df.clean_jaccard_keras_ocr, df.jaccard_tess, df.clean_jaccard_easyocr, df.clean_jaccard_tess],\n",
    "            palette=['royalblue','blue','lightgreen','lightcoral','green','red'])\n",
    "plt.xticks([0, 1, 2, 3, 4, 5], ['raw keras_ocr', 'clean keras_ocr', 'raw easyocr', 'raw pytesseract', 'clean easyocr', 'clean pytesseract'])\n",
    "plt.text(0, np.mean(df.jaccard_keras_ocr), str(round(np.mean(df.jaccard_keras_ocr), 2)), ha='center')\n",
    "plt.text(1, np.mean(df.clean_jaccard_keras_ocr), str(round(np.mean(df.clean_jaccard_keras_ocr), 2)), ha='center')\n",
    "plt.text(2, np.mean(df.jaccard_easyocr), str(round(np.mean(df.jaccard_easyocr), 2)), ha='center')\n",
    "plt.text(3, np.mean(df.jaccard_tess), str(round(np.mean(df.jaccard_tess), 2)), ha='center')\n",
    "plt.text(4, np.mean(df.clean_jaccard_easyocr), str(round(np.mean(df.clean_jaccard_easyocr), 2)), ha='center')\n",
    "plt.text(5, np.mean(df.clean_jaccard_tess), str(round(np.mean(df.clean_jaccard_tess), 2)), ha='center')\n",
    "plt.title('Index de Jaccard entre le texte et le texte OCR')\n",
    "plt.show()"
   ]
  },
  {
   "cell_type": "code",
   "execution_count": 25,
   "metadata": {},
   "outputs": [
    {
     "data": {
      "image/png": "[encoded data removed]",
      "text/plain": [
       "<Figure size 1000x600 with 1 Axes>"
      ]
     },
     "metadata": {},
     "output_type": "display_data"
    }
   ],
   "source": [
    "#ploting all the tfidf similarity\n",
    "plt.figure(figsize=(10, 6))\n",
    "plt.xlim(0,1.05)\n",
    "sns.kdeplot(data=df, x=\"tfidf_keras_ocr\", color='blue', linestyle='dashed', label='raw keras_ocr: mean = ' + str(round(np.mean(df.tfidf_keras_ocr), 2)))\n",
    "sns.kdeplot(data=df, x=\"clean_tfidf_keras_ocr\", color='blue', label='clean keras_ocr: mean = ' + str(round(np.mean(df.clean_tfidf_keras_ocr), 2)))\n",
    "sns.kdeplot(data=df, x=\"tfidf_tess\", color='red', linestyle='dashed', label='raw pytesseract: mean = ' + str(round(np.mean(df.tfidf_tess), 2)))\n",
    "sns.kdeplot(data=df, x=\"clean_tfidf_tess\", color='red', label='clean pytesseract: mean = ' + str(round(np.mean(df.clean_tfidf_tess), 2)))\n",
    "sns.kdeplot(data=df, x=\"clean_tfidf_easyocr\", color='green', label='clean easyocr: mean = ' + str(round(np.mean(df.clean_tfidf_easyocr), 2)))\n",
    "sns.kdeplot(data=df, x=\"tfidf_easyocr\", color='green', linestyle='dashed', label='raw easyocr: mean = ' + str(round(np.mean(df.tfidf_easyocr), 2)))\n",
    "plt.title('Scores de similarité TF-IDF entre le texte et le texte OCR')\n",
    "plt.legend()\n",
    "plt.show()"
   ]
  },
  {
   "cell_type": "markdown",
   "metadata": {},
   "source": [
    "EasyOCR donne les meilleurs résultats la majorité du temps et a en plus moins tendance à avoir des mauvais résulats."
   ]
  }
 ],
 "metadata": {
  "kernelspec": {
   "display_name": ".venv",
   "language": "python",
   "name": "python3"
  },
  "language_info": {
   "codemirror_mode": {
    "name": "ipython",
    "version": 3
   },
   "file_extension": ".py",
   "mimetype": "text/x-python",
   "name": "python",
   "nbconvert_exporter": "python",
   "pygments_lexer": "ipython3",
   "version": "3.10.0"
  }
 },
 "nbformat": 4,
 "nbformat_minor": 2
}
