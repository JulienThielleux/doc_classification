{
 "cells": [
  {
   "cell_type": "markdown",
   "metadata": {},
   "source": [
    "Ce notebook a pour but de réorganiser les données du dataset RVL-CDIP.\n",
    "Il permet également de sélectionner un sample de ces données."
   ]
  },
  {
   "cell_type": "code",
   "execution_count": 1,
   "metadata": {},
   "outputs": [],
   "source": [
    "import os\n",
    "import shutil\n",
    "import pandas as pd"
   ]
  },
  {
   "cell_type": "code",
   "execution_count": null,
   "metadata": {},
   "outputs": [],
   "source": [
    "source_folder_path = \"./../data/raw/images\"\n",
    "target_folder_path = \"./../data/raw/RVL-CDIP\"\n",
    "\n",
    "#Create the target folder\n",
    "if not os.path.exists(target_folder_path):\n",
    "    os.makedirs(target_folder_path)\n",
    "\n",
    "#Navigating through the source folder and copying to the destination folder\n",
    "for folder, sub_folder, files in os.walk(source_folder_path):\n",
    "    for file in files:\n",
    "        if file.endswith('.tif'):\n",
    "            filepath = os.path.join(folder, file)\n",
    "            shutil.copy(filepath, target_folder_path)"
   ]
  },
  {
   "cell_type": "code",
   "execution_count": 2,
   "metadata": {},
   "outputs": [],
   "source": [
    "#creating a csv file to map the pictures to their categories\n",
    "csv_text = \"file,target\\n\"\n",
    "\n",
    "target_files = ['./../data/raw/labels/test.txt', \n",
    "                './../data/raw/labels/train.txt',\n",
    "                 './../data/raw/labels/val.txt']\n",
    "\n",
    "for i, file in enumerate(target_files):\n",
    "    with open(file, 'r') as f:\n",
    "        for line in f:\n",
    "            file_name, target = os.path.basename(line.strip()).split(' ')\n",
    "            csv_text += file_name + \",\"\n",
    "            csv_text += target + \"\\n\"\n",
    "\n",
    "#saving the csv file as pictures.csv\n",
    "with open(\"./../data/raw/pictures.csv\", \"w\") as f:\n",
    "    f.write(csv_text)\n",
    "\n"
   ]
  },
  {
   "cell_type": "code",
   "execution_count": 4,
   "metadata": {},
   "outputs": [
    {
     "name": "stdout",
     "output_type": "stream",
     "text": [
      "(20000, 2)\n",
      "target\n",
      "0     1250\n",
      "1     1250\n",
      "2     1250\n",
      "3     1250\n",
      "4     1250\n",
      "5     1250\n",
      "6     1250\n",
      "7     1250\n",
      "8     1250\n",
      "9     1250\n",
      "10    1250\n",
      "11    1250\n",
      "12    1250\n",
      "13    1250\n",
      "14    1250\n",
      "15    1250\n",
      "Name: count, dtype: int64\n"
     ]
    }
   ],
   "source": [
    "#creating a smaller dataset for training\n",
    "number_to_select = 20000\n",
    "\n",
    "pictures = pd.read_csv(\"./../data/raw/pictures.csv\")\n",
    "number_of_target = 16\n",
    "\n",
    "\n",
    "#checking if number_to_select is divisible by number_of_target\n",
    "if number_to_select % number_of_target != 0:\n",
    "    number_to_select = number_to_select - number_to_select % number_of_target\n",
    "    print(f\"number_to_select is not divisible by number_of_target, changing number_to_select to {number_to_select}\")\n",
    "\n",
    "#selecting the first n pictures in all the targets\n",
    "select_pictures = pd.DataFrame()\n",
    "for i in range(number_of_target):\n",
    "    select_pictures = pd.concat([select_pictures, pictures[pictures['target'] == i][:number_to_select//number_of_target]])\n",
    "\n",
    "#print the shape and value_counts of the test_pictures\n",
    "print(select_pictures.shape)\n",
    "print(select_pictures['target'].value_counts())\n"
   ]
  },
  {
   "cell_type": "code",
   "execution_count": 3,
   "metadata": {},
   "outputs": [],
   "source": [
    "#copying the selected pictures into a folder with their target\n",
    "selected_folder_path = \"./../data/raw/selected\"\n",
    "target_folder_path = \"./../data/raw/RVL-CDIP\"\n",
    "\n",
    "if not os.path.exists(selected_folder_path):\n",
    "    os.makedirs(selected_folder_path)\n",
    "\n",
    "for index, row in select_pictures.iterrows():\n",
    "    file_name = row['file']\n",
    "    target = row['target']\n",
    "    shutil.copy(os.path.join(target_folder_path, file_name), os.path.join(selected_folder_path, file_name))\n",
    "    with open(os.path.join(selected_folder_path, file_name.rsplit('.', 1)[0] + '.txt'), 'w') as f:\n",
    "        f.write(str(target))\n",
    "\n",
    "#3 minutes pour 5000 images"
   ]
  },
  {
   "cell_type": "code",
   "execution_count": 4,
   "metadata": {},
   "outputs": [
    {
     "name": "stdout",
     "output_type": "stream",
     "text": [
      "19999\n",
      "19999\n"
     ]
    }
   ],
   "source": [
    "#print the number of tif files and of txt files in the folder\n",
    "print(len([file for file in os.listdir(selected_folder_path) if file.endswith('.tif')]))\n",
    "print(len([file for file in os.listdir(selected_folder_path) if file.endswith('.txt')]))"
   ]
  },
  {
   "cell_type": "code",
   "execution_count": 9,
   "metadata": {},
   "outputs": [
    {
     "name": "stdout",
     "output_type": "stream",
     "text": [
      "(4000, 2)\n",
      "target\n",
      "0     250\n",
      "1     250\n",
      "2     250\n",
      "3     250\n",
      "4     250\n",
      "5     250\n",
      "6     250\n",
      "7     250\n",
      "8     250\n",
      "9     250\n",
      "10    250\n",
      "11    250\n",
      "12    250\n",
      "13    250\n",
      "14    250\n",
      "15    250\n",
      "Name: count, dtype: int64\n"
     ]
    }
   ],
   "source": [
    "#creating a smaller dataset for testing\n",
    "pictures = pd.read_csv(\"./../data/raw/pictures.csv\")\n",
    "\n",
    "#selecting the first n pictures in all the targets that are not already in the training dataset\n",
    "select_test_pictures = pd.DataFrame()\n",
    "for i in range(number_of_target):\n",
    "    select_test_pictures = pd.concat([select_test_pictures, pictures[(pictures['target'] == i) \n",
    "                                                                & (~pictures['file'].isin(select_pictures.file.to_list()))]\n",
    "                                                                [:250]])\n",
    "    \n",
    "#print the shape and value_counts of the test_pictures\n",
    "print(select_test_pictures.shape)\n",
    "print(select_test_pictures['target'].value_counts())"
   ]
  },
  {
   "cell_type": "code",
   "execution_count": 10,
   "metadata": {},
   "outputs": [],
   "source": [
    "#copying the selected pictures into a folder with their target\n",
    "selected_folder_path = \"./../data/raw/selected_test\"\n",
    "target_folder_path = \"./../data/raw/RVL-CDIP\"\n",
    "\n",
    "if not os.path.exists(selected_folder_path):\n",
    "    os.makedirs(selected_folder_path)\n",
    "\n",
    "for index, row in select_test_pictures.iterrows():\n",
    "    file_name = row['file']\n",
    "    target = row['target']\n",
    "    shutil.copy(os.path.join(target_folder_path, file_name), os.path.join(selected_folder_path, file_name))\n",
    "    with open(os.path.join(selected_folder_path, file_name.rsplit('.', 1)[0] + '.txt'), 'w') as f:\n",
    "        f.write(str(target))"
   ]
  },
  {
   "cell_type": "code",
   "execution_count": 11,
   "metadata": {},
   "outputs": [
    {
     "name": "stdout",
     "output_type": "stream",
     "text": [
      "4000\n",
      "4000\n"
     ]
    }
   ],
   "source": [
    "#print the number of tif files and of txt files in the folder\n",
    "print(len([file for file in os.listdir(selected_folder_path) if file.endswith('.tif')]))\n",
    "print(len([file for file in os.listdir(selected_folder_path) if file.endswith('.txt')]) )"
   ]
  },
  {
   "cell_type": "code",
   "execution_count": 3,
   "metadata": {},
   "outputs": [
    {
     "name": "stdout",
     "output_type": "stream",
     "text": [
      "(2000, 2)\n",
      "target\n",
      "7     139\n",
      "13    134\n",
      "11    133\n",
      "1     132\n",
      "12    130\n",
      "14    125\n",
      "6     125\n",
      "15    124\n",
      "0     124\n",
      "3     124\n",
      "9     123\n",
      "2     123\n",
      "4     120\n",
      "8     119\n",
      "10    119\n",
      "5     106\n",
      "Name: count, dtype: int64\n",
      "2000\n",
      "2000\n"
     ]
    }
   ],
   "source": [
    "#creating a small dataset for streamlit purposes\n",
    "pictures = pd.read_csv(\"./../data/raw/pictures.csv\")\n",
    "\n",
    "#selecting the first n pictures in all the targets\n",
    "#select_pictures = pd.DataFrame()\n",
    "#for i in range(16):\n",
    "#    select_pictures = pd.concat([select_pictures, pictures[pictures['target'] == i][:100]])\n",
    "\n",
    "#selecting at random 2000 pictures from the whole folder\n",
    "select_random_pictures = pictures.sample(n=2000)\n",
    "\n",
    "#print the shape and value_counts of the test_pictures\n",
    "#print(select_pictures.shape)\n",
    "#print(select_pictures['target'].value_counts())\n",
    "\n",
    "print(select_random_pictures.shape)\n",
    "print(select_random_pictures['target'].value_counts())\n",
    "\n",
    "#copying the selected pictures into a folder with their target\n",
    "#selected_folder_path = \"./../data/raw/selected_streamlit\"\n",
    "#target_folder_path = \"./../data/raw/RVL-CDIP\"\n",
    "\n",
    "#copying the selected random pictures into a folder with their target\n",
    "selected_folder_path = \"./../data/raw/selected_streamlit\"\n",
    "target_folder_path = \"./../data/raw/RVL-CDIP\"\n",
    "\n",
    "if not os.path.exists(selected_folder_path):\n",
    "    os.makedirs(selected_folder_path)\n",
    "\n",
    "for index, row in select_random_pictures.iterrows():\n",
    "    file_name = row['file']\n",
    "    target = row['target']\n",
    "    shutil.copy(os.path.join(target_folder_path, file_name), os.path.join(selected_folder_path, file_name))\n",
    "    with open(os.path.join(selected_folder_path, file_name.rsplit('.', 1)[0] + '.txt'), 'w') as f:\n",
    "        f.write(str(target))\n",
    "\n",
    "#for index, row in select_pictures.iterrows():\n",
    "#    file_name = row['file']\n",
    "#    target = row['target']\n",
    "#    shutil.copy(os.path.join(target_folder_path, file_name), os.path.join(selected_folder_path, file_name))\n",
    "#    with open(os.path.join(selected_folder_path, file_name.rsplit('.', 1)[0] + '.txt'), 'w') as f:\n",
    "#        f.write(str(target))\n",
    "\n",
    "#print the number of tif files and of txt files in the folder\n",
    "print(len([file for file in os.listdir(selected_folder_path) if file.endswith('.tif')]))\n",
    "print(len([file for file in os.listdir(selected_folder_path) if file.endswith('.txt')]) )"
   ]
  }
 ],
 "metadata": {
  "kernelspec": {
   "display_name": "Python 3",
   "language": "python",
   "name": "python3"
  },
  "language_info": {
   "codemirror_mode": {
    "name": "ipython",
    "version": 3
   },
   "file_extension": ".py",
   "mimetype": "text/x-python",
   "name": "python",
   "nbconvert_exporter": "python",
   "pygments_lexer": "ipython3",
   "version": "3.10.0"
  }
 },
 "nbformat": 4,
 "nbformat_minor": 2
}
